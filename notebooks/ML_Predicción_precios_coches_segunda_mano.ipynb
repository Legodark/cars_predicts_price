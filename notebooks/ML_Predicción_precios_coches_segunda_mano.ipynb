{
  "nbformat": 4,
  "nbformat_minor": 0,
  "metadata": {
    "colab": {
      "provenance": [],
      "mount_file_id": "1wTE82oG--Vm25SuQyaUK4schBtaXfma_",
      "authorship_tag": "ABX9TyPmsNdyyFBJk9bL00UMUF2z",
      "include_colab_link": true
    },
    "kernelspec": {
      "name": "python3",
      "display_name": "Python 3"
    },
    "language_info": {
      "name": "python"
    }
  },
  "cells": [
    {
      "cell_type": "markdown",
      "metadata": {
        "id": "view-in-github",
        "colab_type": "text"
      },
      "source": [
        "<a href=\"https://colab.research.google.com/github/Legodark/cars_predicts_price/blob/import/notebooks/ML_Predicci%C3%B3n_precios_coches_segunda_mano.ipynb\" target=\"_parent\"><img src=\"https://colab.research.google.com/assets/colab-badge.svg\" alt=\"Open In Colab\"/></a>"
      ]
    },
    {
      "cell_type": "markdown",
      "source": [
        "Cargamos las librerias"
      ],
      "metadata": {
        "id": "L-8tPHIfBl2k"
      }
    },
    {
      "cell_type": "code",
      "execution_count": 108,
      "metadata": {
        "id": "eOmk7oNE83cs"
      },
      "outputs": [],
      "source": [
        "import numpy as np\n",
        "import pandas as pd\n",
        "import joblib\n",
        "\n",
        "import matplotlib.pyplot as plt\n",
        "import seaborn as sns\n",
        "\n",
        "from sklearn.metrics import mean_squared_error, r2_score\n",
        "from sklearn.model_selection import train_test_split as tts\n",
        "from sklearn.ensemble import RandomForestRegressor    "
      ]
    },
    {
      "cell_type": "markdown",
      "source": [
        "Cargamos los datasets"
      ],
      "metadata": {
        "id": "gj366VO-Bkh3"
      }
    },
    {
      "cell_type": "code",
      "source": [
        "# Carga de datasets\n",
        "\n",
        "filepatch_audi = ('/content/drive/MyDrive/Personal/Proyecto_Coches/datasets/audi.csv') \n",
        "filepatch_bmw = ('/content/drive/MyDrive/Personal/Proyecto_Coches/datasets/bmw.csv')\n",
        "filepatch_ford = ('/content/drive/MyDrive/Personal/Proyecto_Coches/datasets/ford.csv')\n",
        "filepatch_hyundai = ('/content/drive/MyDrive/Personal/Proyecto_Coches/datasets/hyundi.csv')\n",
        "filepatch_mercedes = ('/content/drive/MyDrive/Personal/Proyecto_Coches/datasets/merc.csv')\n",
        "filepatch_skoda = ('/content/drive/MyDrive/Personal/Proyecto_Coches/datasets/skoda.csv')\n",
        "filepatch_toyota = ('/content/drive/MyDrive/Personal/Proyecto_Coches/datasets/toyota.csv')\n",
        "filepatch_vauxhall = ('/content/drive/MyDrive/Personal/Proyecto_Coches/datasets/vauxhall.csv')\n",
        "filepatch_vw = ('/content/drive/MyDrive/Personal/Proyecto_Coches/datasets/vw.csv')\n",
        "\n",
        "dfaudi = pd.read_csv(filepatch_audi)\n",
        "dfbmw = pd.read_csv(filepatch_bmw)\n",
        "dfford = pd.read_csv(filepatch_ford)\n",
        "dfhyundai = pd.read_csv(filepatch_hyundai)\n",
        "dfmercedes = pd.read_csv(filepatch_mercedes)\n",
        "dfskoda = pd.read_csv(filepatch_skoda)\n",
        "dftoyota = pd.read_csv(filepatch_toyota)\n",
        "dfvauxhall = pd.read_csv(filepatch_vauxhall)\n",
        "dfvw = pd.read_csv(filepatch_vw)"
      ],
      "metadata": {
        "id": "1ODqOHOIGeby"
      },
      "execution_count": 109,
      "outputs": []
    },
    {
      "cell_type": "markdown",
      "source": [
        "#### Unimos los datasets"
      ],
      "metadata": {
        "id": "uXpVEnS_BhzU"
      }
    },
    {
      "cell_type": "code",
      "source": [
        "coches_list = [dfaudi, dfbmw, dfford, dfhyundai, dfmercedes, dfskoda, dftoyota, \n",
        "               dfvauxhall, dfvw]\n",
        "\n",
        "cars = pd.concat(coches_list)"
      ],
      "metadata": {
        "id": "LH2VYmixKB4W"
      },
      "execution_count": 110,
      "outputs": []
    },
    {
      "cell_type": "code",
      "source": [
        "cars"
      ],
      "metadata": {
        "colab": {
          "base_uri": "https://localhost:8080/",
          "height": 424
        },
        "id": "wtVRb893KGSN",
        "outputId": "64085838-0fef-4e14-c824-9e3cd6f0b39d"
      },
      "execution_count": 111,
      "outputs": [
        {
          "output_type": "execute_result",
          "data": {
            "text/plain": [
              "      model  year  price transmission  mileage fuelType    tax   mpg  \\\n",
              "0        A1  2017  12500       Manual    15735   Petrol  150.0  55.4   \n",
              "1        A6  2016  16500    Automatic    36203   Diesel   20.0  64.2   \n",
              "2        A1  2016  11000       Manual    29946   Petrol   30.0  55.4   \n",
              "3        A4  2017  16800    Automatic    25952   Diesel  145.0  67.3   \n",
              "4        A3  2019  17300       Manual     1998   Petrol  145.0  49.6   \n",
              "...     ...   ...    ...          ...      ...      ...    ...   ...   \n",
              "15152   Eos  2012   5990       Manual    74000   Diesel  125.0  58.9   \n",
              "15153   Fox  2008   1799       Manual    88102   Petrol  145.0  46.3   \n",
              "15154   Fox  2009   1590       Manual    70000   Petrol  200.0  42.0   \n",
              "15155   Fox  2006   1250       Manual    82704   Petrol  150.0  46.3   \n",
              "15156   Fox  2007   2295       Manual    74000   Petrol  145.0  46.3   \n",
              "\n",
              "       engineSize  tax(£)  \n",
              "0             1.4     NaN  \n",
              "1             2.0     NaN  \n",
              "2             1.4     NaN  \n",
              "3             2.0     NaN  \n",
              "4             1.0     NaN  \n",
              "...           ...     ...  \n",
              "15152         2.0     NaN  \n",
              "15153         1.2     NaN  \n",
              "15154         1.4     NaN  \n",
              "15155         1.2     NaN  \n",
              "15156         1.2     NaN  \n",
              "\n",
              "[99187 rows x 10 columns]"
            ],
            "text/html": [
              "\n",
              "  <div id=\"df-2484b39e-cf7f-47d7-982e-df13ff591651\">\n",
              "    <div class=\"colab-df-container\">\n",
              "      <div>\n",
              "<style scoped>\n",
              "    .dataframe tbody tr th:only-of-type {\n",
              "        vertical-align: middle;\n",
              "    }\n",
              "\n",
              "    .dataframe tbody tr th {\n",
              "        vertical-align: top;\n",
              "    }\n",
              "\n",
              "    .dataframe thead th {\n",
              "        text-align: right;\n",
              "    }\n",
              "</style>\n",
              "<table border=\"1\" class=\"dataframe\">\n",
              "  <thead>\n",
              "    <tr style=\"text-align: right;\">\n",
              "      <th></th>\n",
              "      <th>model</th>\n",
              "      <th>year</th>\n",
              "      <th>price</th>\n",
              "      <th>transmission</th>\n",
              "      <th>mileage</th>\n",
              "      <th>fuelType</th>\n",
              "      <th>tax</th>\n",
              "      <th>mpg</th>\n",
              "      <th>engineSize</th>\n",
              "      <th>tax(£)</th>\n",
              "    </tr>\n",
              "  </thead>\n",
              "  <tbody>\n",
              "    <tr>\n",
              "      <th>0</th>\n",
              "      <td>A1</td>\n",
              "      <td>2017</td>\n",
              "      <td>12500</td>\n",
              "      <td>Manual</td>\n",
              "      <td>15735</td>\n",
              "      <td>Petrol</td>\n",
              "      <td>150.0</td>\n",
              "      <td>55.4</td>\n",
              "      <td>1.4</td>\n",
              "      <td>NaN</td>\n",
              "    </tr>\n",
              "    <tr>\n",
              "      <th>1</th>\n",
              "      <td>A6</td>\n",
              "      <td>2016</td>\n",
              "      <td>16500</td>\n",
              "      <td>Automatic</td>\n",
              "      <td>36203</td>\n",
              "      <td>Diesel</td>\n",
              "      <td>20.0</td>\n",
              "      <td>64.2</td>\n",
              "      <td>2.0</td>\n",
              "      <td>NaN</td>\n",
              "    </tr>\n",
              "    <tr>\n",
              "      <th>2</th>\n",
              "      <td>A1</td>\n",
              "      <td>2016</td>\n",
              "      <td>11000</td>\n",
              "      <td>Manual</td>\n",
              "      <td>29946</td>\n",
              "      <td>Petrol</td>\n",
              "      <td>30.0</td>\n",
              "      <td>55.4</td>\n",
              "      <td>1.4</td>\n",
              "      <td>NaN</td>\n",
              "    </tr>\n",
              "    <tr>\n",
              "      <th>3</th>\n",
              "      <td>A4</td>\n",
              "      <td>2017</td>\n",
              "      <td>16800</td>\n",
              "      <td>Automatic</td>\n",
              "      <td>25952</td>\n",
              "      <td>Diesel</td>\n",
              "      <td>145.0</td>\n",
              "      <td>67.3</td>\n",
              "      <td>2.0</td>\n",
              "      <td>NaN</td>\n",
              "    </tr>\n",
              "    <tr>\n",
              "      <th>4</th>\n",
              "      <td>A3</td>\n",
              "      <td>2019</td>\n",
              "      <td>17300</td>\n",
              "      <td>Manual</td>\n",
              "      <td>1998</td>\n",
              "      <td>Petrol</td>\n",
              "      <td>145.0</td>\n",
              "      <td>49.6</td>\n",
              "      <td>1.0</td>\n",
              "      <td>NaN</td>\n",
              "    </tr>\n",
              "    <tr>\n",
              "      <th>...</th>\n",
              "      <td>...</td>\n",
              "      <td>...</td>\n",
              "      <td>...</td>\n",
              "      <td>...</td>\n",
              "      <td>...</td>\n",
              "      <td>...</td>\n",
              "      <td>...</td>\n",
              "      <td>...</td>\n",
              "      <td>...</td>\n",
              "      <td>...</td>\n",
              "    </tr>\n",
              "    <tr>\n",
              "      <th>15152</th>\n",
              "      <td>Eos</td>\n",
              "      <td>2012</td>\n",
              "      <td>5990</td>\n",
              "      <td>Manual</td>\n",
              "      <td>74000</td>\n",
              "      <td>Diesel</td>\n",
              "      <td>125.0</td>\n",
              "      <td>58.9</td>\n",
              "      <td>2.0</td>\n",
              "      <td>NaN</td>\n",
              "    </tr>\n",
              "    <tr>\n",
              "      <th>15153</th>\n",
              "      <td>Fox</td>\n",
              "      <td>2008</td>\n",
              "      <td>1799</td>\n",
              "      <td>Manual</td>\n",
              "      <td>88102</td>\n",
              "      <td>Petrol</td>\n",
              "      <td>145.0</td>\n",
              "      <td>46.3</td>\n",
              "      <td>1.2</td>\n",
              "      <td>NaN</td>\n",
              "    </tr>\n",
              "    <tr>\n",
              "      <th>15154</th>\n",
              "      <td>Fox</td>\n",
              "      <td>2009</td>\n",
              "      <td>1590</td>\n",
              "      <td>Manual</td>\n",
              "      <td>70000</td>\n",
              "      <td>Petrol</td>\n",
              "      <td>200.0</td>\n",
              "      <td>42.0</td>\n",
              "      <td>1.4</td>\n",
              "      <td>NaN</td>\n",
              "    </tr>\n",
              "    <tr>\n",
              "      <th>15155</th>\n",
              "      <td>Fox</td>\n",
              "      <td>2006</td>\n",
              "      <td>1250</td>\n",
              "      <td>Manual</td>\n",
              "      <td>82704</td>\n",
              "      <td>Petrol</td>\n",
              "      <td>150.0</td>\n",
              "      <td>46.3</td>\n",
              "      <td>1.2</td>\n",
              "      <td>NaN</td>\n",
              "    </tr>\n",
              "    <tr>\n",
              "      <th>15156</th>\n",
              "      <td>Fox</td>\n",
              "      <td>2007</td>\n",
              "      <td>2295</td>\n",
              "      <td>Manual</td>\n",
              "      <td>74000</td>\n",
              "      <td>Petrol</td>\n",
              "      <td>145.0</td>\n",
              "      <td>46.3</td>\n",
              "      <td>1.2</td>\n",
              "      <td>NaN</td>\n",
              "    </tr>\n",
              "  </tbody>\n",
              "</table>\n",
              "<p>99187 rows × 10 columns</p>\n",
              "</div>\n",
              "      <button class=\"colab-df-convert\" onclick=\"convertToInteractive('df-2484b39e-cf7f-47d7-982e-df13ff591651')\"\n",
              "              title=\"Convert this dataframe to an interactive table.\"\n",
              "              style=\"display:none;\">\n",
              "        \n",
              "  <svg xmlns=\"http://www.w3.org/2000/svg\" height=\"24px\"viewBox=\"0 0 24 24\"\n",
              "       width=\"24px\">\n",
              "    <path d=\"M0 0h24v24H0V0z\" fill=\"none\"/>\n",
              "    <path d=\"M18.56 5.44l.94 2.06.94-2.06 2.06-.94-2.06-.94-.94-2.06-.94 2.06-2.06.94zm-11 1L8.5 8.5l.94-2.06 2.06-.94-2.06-.94L8.5 2.5l-.94 2.06-2.06.94zm10 10l.94 2.06.94-2.06 2.06-.94-2.06-.94-.94-2.06-.94 2.06-2.06.94z\"/><path d=\"M17.41 7.96l-1.37-1.37c-.4-.4-.92-.59-1.43-.59-.52 0-1.04.2-1.43.59L10.3 9.45l-7.72 7.72c-.78.78-.78 2.05 0 2.83L4 21.41c.39.39.9.59 1.41.59.51 0 1.02-.2 1.41-.59l7.78-7.78 2.81-2.81c.8-.78.8-2.07 0-2.86zM5.41 20L4 18.59l7.72-7.72 1.47 1.35L5.41 20z\"/>\n",
              "  </svg>\n",
              "      </button>\n",
              "      \n",
              "  <style>\n",
              "    .colab-df-container {\n",
              "      display:flex;\n",
              "      flex-wrap:wrap;\n",
              "      gap: 12px;\n",
              "    }\n",
              "\n",
              "    .colab-df-convert {\n",
              "      background-color: #E8F0FE;\n",
              "      border: none;\n",
              "      border-radius: 50%;\n",
              "      cursor: pointer;\n",
              "      display: none;\n",
              "      fill: #1967D2;\n",
              "      height: 32px;\n",
              "      padding: 0 0 0 0;\n",
              "      width: 32px;\n",
              "    }\n",
              "\n",
              "    .colab-df-convert:hover {\n",
              "      background-color: #E2EBFA;\n",
              "      box-shadow: 0px 1px 2px rgba(60, 64, 67, 0.3), 0px 1px 3px 1px rgba(60, 64, 67, 0.15);\n",
              "      fill: #174EA6;\n",
              "    }\n",
              "\n",
              "    [theme=dark] .colab-df-convert {\n",
              "      background-color: #3B4455;\n",
              "      fill: #D2E3FC;\n",
              "    }\n",
              "\n",
              "    [theme=dark] .colab-df-convert:hover {\n",
              "      background-color: #434B5C;\n",
              "      box-shadow: 0px 1px 3px 1px rgba(0, 0, 0, 0.15);\n",
              "      filter: drop-shadow(0px 1px 2px rgba(0, 0, 0, 0.3));\n",
              "      fill: #FFFFFF;\n",
              "    }\n",
              "  </style>\n",
              "\n",
              "      <script>\n",
              "        const buttonEl =\n",
              "          document.querySelector('#df-2484b39e-cf7f-47d7-982e-df13ff591651 button.colab-df-convert');\n",
              "        buttonEl.style.display =\n",
              "          google.colab.kernel.accessAllowed ? 'block' : 'none';\n",
              "\n",
              "        async function convertToInteractive(key) {\n",
              "          const element = document.querySelector('#df-2484b39e-cf7f-47d7-982e-df13ff591651');\n",
              "          const dataTable =\n",
              "            await google.colab.kernel.invokeFunction('convertToInteractive',\n",
              "                                                     [key], {});\n",
              "          if (!dataTable) return;\n",
              "\n",
              "          const docLinkHtml = 'Like what you see? Visit the ' +\n",
              "            '<a target=\"_blank\" href=https://colab.research.google.com/notebooks/data_table.ipynb>data table notebook</a>'\n",
              "            + ' to learn more about interactive tables.';\n",
              "          element.innerHTML = '';\n",
              "          dataTable['output_type'] = 'display_data';\n",
              "          await google.colab.output.renderOutput(dataTable, element);\n",
              "          const docLink = document.createElement('div');\n",
              "          docLink.innerHTML = docLinkHtml;\n",
              "          element.appendChild(docLink);\n",
              "        }\n",
              "      </script>\n",
              "    </div>\n",
              "  </div>\n",
              "  "
            ]
          },
          "metadata": {},
          "execution_count": 111
        }
      ]
    },
    {
      "cell_type": "markdown",
      "source": [
        "### Tratamiento de los datos"
      ],
      "metadata": {
        "id": "DE1RovZdAusW"
      }
    },
    {
      "cell_type": "markdown",
      "source": [
        "#### Miramos si tenemos nulos"
      ],
      "metadata": {
        "id": "nXANDNCGA4IQ"
      }
    },
    {
      "cell_type": "code",
      "source": [
        "cars.info()"
      ],
      "metadata": {
        "colab": {
          "base_uri": "https://localhost:8080/"
        },
        "id": "iLYkD9pqKRUy",
        "outputId": "4297f699-f6db-4c41-d58a-05332e3df4d8"
      },
      "execution_count": 112,
      "outputs": [
        {
          "output_type": "stream",
          "name": "stdout",
          "text": [
            "<class 'pandas.core.frame.DataFrame'>\n",
            "Int64Index: 99187 entries, 0 to 15156\n",
            "Data columns (total 10 columns):\n",
            " #   Column        Non-Null Count  Dtype  \n",
            "---  ------        --------------  -----  \n",
            " 0   model         99187 non-null  object \n",
            " 1   year          99187 non-null  int64  \n",
            " 2   price         99187 non-null  int64  \n",
            " 3   transmission  99187 non-null  object \n",
            " 4   mileage       99187 non-null  int64  \n",
            " 5   fuelType      99187 non-null  object \n",
            " 6   tax           94327 non-null  float64\n",
            " 7   mpg           99187 non-null  float64\n",
            " 8   engineSize    99187 non-null  float64\n",
            " 9   tax(£)        4860 non-null   float64\n",
            "dtypes: float64(4), int64(3), object(3)\n",
            "memory usage: 8.3+ MB\n"
          ]
        }
      ]
    },
    {
      "cell_type": "code",
      "source": [
        "cars[cars['tax'].isnull()]"
      ],
      "metadata": {
        "colab": {
          "base_uri": "https://localhost:8080/",
          "height": 424
        },
        "id": "ZKmIO7iLbNbb",
        "outputId": "aa0badb3-639f-41de-94a7-a2bea0f4470e"
      },
      "execution_count": 113,
      "outputs": [
        {
          "output_type": "execute_result",
          "data": {
            "text/plain": [
              "        model  year  price transmission  mileage fuelType  tax   mpg  \\\n",
              "0         I20  2017   7999       Manual    17307   Petrol  NaN  58.9   \n",
              "1      Tucson  2016  14499    Automatic    25233   Diesel  NaN  43.5   \n",
              "2      Tucson  2016  11399       Manual    37877   Diesel  NaN  61.7   \n",
              "3         I10  2016   6499       Manual    23789   Petrol  NaN  60.1   \n",
              "4        IX35  2015  10199       Manual    33177   Diesel  NaN  51.4   \n",
              "...       ...   ...    ...          ...      ...      ...  ...   ...   \n",
              "4855      I30  2016   8680       Manual    25906   Diesel  NaN  78.4   \n",
              "4856      I40  2015   7830       Manual    59508   Diesel  NaN  65.7   \n",
              "4857      I10  2017   6830       Manual    13810   Petrol  NaN  60.1   \n",
              "4858   Tucson  2018  13994       Manual    23313   Petrol  NaN  44.8   \n",
              "4859   Tucson  2016  15999    Automatic    11472   Diesel  NaN  57.6   \n",
              "\n",
              "      engineSize  tax(£)  \n",
              "0            1.2   145.0  \n",
              "1            2.0   235.0  \n",
              "2            1.7    30.0  \n",
              "3            1.0    20.0  \n",
              "4            2.0   160.0  \n",
              "...          ...     ...  \n",
              "4855         1.6     0.0  \n",
              "4856         1.7    30.0  \n",
              "4857         1.0    20.0  \n",
              "4858         1.6   145.0  \n",
              "4859         1.7   125.0  \n",
              "\n",
              "[4860 rows x 10 columns]"
            ],
            "text/html": [
              "\n",
              "  <div id=\"df-2a66d7cd-5e43-4888-91f3-6c765b547750\">\n",
              "    <div class=\"colab-df-container\">\n",
              "      <div>\n",
              "<style scoped>\n",
              "    .dataframe tbody tr th:only-of-type {\n",
              "        vertical-align: middle;\n",
              "    }\n",
              "\n",
              "    .dataframe tbody tr th {\n",
              "        vertical-align: top;\n",
              "    }\n",
              "\n",
              "    .dataframe thead th {\n",
              "        text-align: right;\n",
              "    }\n",
              "</style>\n",
              "<table border=\"1\" class=\"dataframe\">\n",
              "  <thead>\n",
              "    <tr style=\"text-align: right;\">\n",
              "      <th></th>\n",
              "      <th>model</th>\n",
              "      <th>year</th>\n",
              "      <th>price</th>\n",
              "      <th>transmission</th>\n",
              "      <th>mileage</th>\n",
              "      <th>fuelType</th>\n",
              "      <th>tax</th>\n",
              "      <th>mpg</th>\n",
              "      <th>engineSize</th>\n",
              "      <th>tax(£)</th>\n",
              "    </tr>\n",
              "  </thead>\n",
              "  <tbody>\n",
              "    <tr>\n",
              "      <th>0</th>\n",
              "      <td>I20</td>\n",
              "      <td>2017</td>\n",
              "      <td>7999</td>\n",
              "      <td>Manual</td>\n",
              "      <td>17307</td>\n",
              "      <td>Petrol</td>\n",
              "      <td>NaN</td>\n",
              "      <td>58.9</td>\n",
              "      <td>1.2</td>\n",
              "      <td>145.0</td>\n",
              "    </tr>\n",
              "    <tr>\n",
              "      <th>1</th>\n",
              "      <td>Tucson</td>\n",
              "      <td>2016</td>\n",
              "      <td>14499</td>\n",
              "      <td>Automatic</td>\n",
              "      <td>25233</td>\n",
              "      <td>Diesel</td>\n",
              "      <td>NaN</td>\n",
              "      <td>43.5</td>\n",
              "      <td>2.0</td>\n",
              "      <td>235.0</td>\n",
              "    </tr>\n",
              "    <tr>\n",
              "      <th>2</th>\n",
              "      <td>Tucson</td>\n",
              "      <td>2016</td>\n",
              "      <td>11399</td>\n",
              "      <td>Manual</td>\n",
              "      <td>37877</td>\n",
              "      <td>Diesel</td>\n",
              "      <td>NaN</td>\n",
              "      <td>61.7</td>\n",
              "      <td>1.7</td>\n",
              "      <td>30.0</td>\n",
              "    </tr>\n",
              "    <tr>\n",
              "      <th>3</th>\n",
              "      <td>I10</td>\n",
              "      <td>2016</td>\n",
              "      <td>6499</td>\n",
              "      <td>Manual</td>\n",
              "      <td>23789</td>\n",
              "      <td>Petrol</td>\n",
              "      <td>NaN</td>\n",
              "      <td>60.1</td>\n",
              "      <td>1.0</td>\n",
              "      <td>20.0</td>\n",
              "    </tr>\n",
              "    <tr>\n",
              "      <th>4</th>\n",
              "      <td>IX35</td>\n",
              "      <td>2015</td>\n",
              "      <td>10199</td>\n",
              "      <td>Manual</td>\n",
              "      <td>33177</td>\n",
              "      <td>Diesel</td>\n",
              "      <td>NaN</td>\n",
              "      <td>51.4</td>\n",
              "      <td>2.0</td>\n",
              "      <td>160.0</td>\n",
              "    </tr>\n",
              "    <tr>\n",
              "      <th>...</th>\n",
              "      <td>...</td>\n",
              "      <td>...</td>\n",
              "      <td>...</td>\n",
              "      <td>...</td>\n",
              "      <td>...</td>\n",
              "      <td>...</td>\n",
              "      <td>...</td>\n",
              "      <td>...</td>\n",
              "      <td>...</td>\n",
              "      <td>...</td>\n",
              "    </tr>\n",
              "    <tr>\n",
              "      <th>4855</th>\n",
              "      <td>I30</td>\n",
              "      <td>2016</td>\n",
              "      <td>8680</td>\n",
              "      <td>Manual</td>\n",
              "      <td>25906</td>\n",
              "      <td>Diesel</td>\n",
              "      <td>NaN</td>\n",
              "      <td>78.4</td>\n",
              "      <td>1.6</td>\n",
              "      <td>0.0</td>\n",
              "    </tr>\n",
              "    <tr>\n",
              "      <th>4856</th>\n",
              "      <td>I40</td>\n",
              "      <td>2015</td>\n",
              "      <td>7830</td>\n",
              "      <td>Manual</td>\n",
              "      <td>59508</td>\n",
              "      <td>Diesel</td>\n",
              "      <td>NaN</td>\n",
              "      <td>65.7</td>\n",
              "      <td>1.7</td>\n",
              "      <td>30.0</td>\n",
              "    </tr>\n",
              "    <tr>\n",
              "      <th>4857</th>\n",
              "      <td>I10</td>\n",
              "      <td>2017</td>\n",
              "      <td>6830</td>\n",
              "      <td>Manual</td>\n",
              "      <td>13810</td>\n",
              "      <td>Petrol</td>\n",
              "      <td>NaN</td>\n",
              "      <td>60.1</td>\n",
              "      <td>1.0</td>\n",
              "      <td>20.0</td>\n",
              "    </tr>\n",
              "    <tr>\n",
              "      <th>4858</th>\n",
              "      <td>Tucson</td>\n",
              "      <td>2018</td>\n",
              "      <td>13994</td>\n",
              "      <td>Manual</td>\n",
              "      <td>23313</td>\n",
              "      <td>Petrol</td>\n",
              "      <td>NaN</td>\n",
              "      <td>44.8</td>\n",
              "      <td>1.6</td>\n",
              "      <td>145.0</td>\n",
              "    </tr>\n",
              "    <tr>\n",
              "      <th>4859</th>\n",
              "      <td>Tucson</td>\n",
              "      <td>2016</td>\n",
              "      <td>15999</td>\n",
              "      <td>Automatic</td>\n",
              "      <td>11472</td>\n",
              "      <td>Diesel</td>\n",
              "      <td>NaN</td>\n",
              "      <td>57.6</td>\n",
              "      <td>1.7</td>\n",
              "      <td>125.0</td>\n",
              "    </tr>\n",
              "  </tbody>\n",
              "</table>\n",
              "<p>4860 rows × 10 columns</p>\n",
              "</div>\n",
              "      <button class=\"colab-df-convert\" onclick=\"convertToInteractive('df-2a66d7cd-5e43-4888-91f3-6c765b547750')\"\n",
              "              title=\"Convert this dataframe to an interactive table.\"\n",
              "              style=\"display:none;\">\n",
              "        \n",
              "  <svg xmlns=\"http://www.w3.org/2000/svg\" height=\"24px\"viewBox=\"0 0 24 24\"\n",
              "       width=\"24px\">\n",
              "    <path d=\"M0 0h24v24H0V0z\" fill=\"none\"/>\n",
              "    <path d=\"M18.56 5.44l.94 2.06.94-2.06 2.06-.94-2.06-.94-.94-2.06-.94 2.06-2.06.94zm-11 1L8.5 8.5l.94-2.06 2.06-.94-2.06-.94L8.5 2.5l-.94 2.06-2.06.94zm10 10l.94 2.06.94-2.06 2.06-.94-2.06-.94-.94-2.06-.94 2.06-2.06.94z\"/><path d=\"M17.41 7.96l-1.37-1.37c-.4-.4-.92-.59-1.43-.59-.52 0-1.04.2-1.43.59L10.3 9.45l-7.72 7.72c-.78.78-.78 2.05 0 2.83L4 21.41c.39.39.9.59 1.41.59.51 0 1.02-.2 1.41-.59l7.78-7.78 2.81-2.81c.8-.78.8-2.07 0-2.86zM5.41 20L4 18.59l7.72-7.72 1.47 1.35L5.41 20z\"/>\n",
              "  </svg>\n",
              "      </button>\n",
              "      \n",
              "  <style>\n",
              "    .colab-df-container {\n",
              "      display:flex;\n",
              "      flex-wrap:wrap;\n",
              "      gap: 12px;\n",
              "    }\n",
              "\n",
              "    .colab-df-convert {\n",
              "      background-color: #E8F0FE;\n",
              "      border: none;\n",
              "      border-radius: 50%;\n",
              "      cursor: pointer;\n",
              "      display: none;\n",
              "      fill: #1967D2;\n",
              "      height: 32px;\n",
              "      padding: 0 0 0 0;\n",
              "      width: 32px;\n",
              "    }\n",
              "\n",
              "    .colab-df-convert:hover {\n",
              "      background-color: #E2EBFA;\n",
              "      box-shadow: 0px 1px 2px rgba(60, 64, 67, 0.3), 0px 1px 3px 1px rgba(60, 64, 67, 0.15);\n",
              "      fill: #174EA6;\n",
              "    }\n",
              "\n",
              "    [theme=dark] .colab-df-convert {\n",
              "      background-color: #3B4455;\n",
              "      fill: #D2E3FC;\n",
              "    }\n",
              "\n",
              "    [theme=dark] .colab-df-convert:hover {\n",
              "      background-color: #434B5C;\n",
              "      box-shadow: 0px 1px 3px 1px rgba(0, 0, 0, 0.15);\n",
              "      filter: drop-shadow(0px 1px 2px rgba(0, 0, 0, 0.3));\n",
              "      fill: #FFFFFF;\n",
              "    }\n",
              "  </style>\n",
              "\n",
              "      <script>\n",
              "        const buttonEl =\n",
              "          document.querySelector('#df-2a66d7cd-5e43-4888-91f3-6c765b547750 button.colab-df-convert');\n",
              "        buttonEl.style.display =\n",
              "          google.colab.kernel.accessAllowed ? 'block' : 'none';\n",
              "\n",
              "        async function convertToInteractive(key) {\n",
              "          const element = document.querySelector('#df-2a66d7cd-5e43-4888-91f3-6c765b547750');\n",
              "          const dataTable =\n",
              "            await google.colab.kernel.invokeFunction('convertToInteractive',\n",
              "                                                     [key], {});\n",
              "          if (!dataTable) return;\n",
              "\n",
              "          const docLinkHtml = 'Like what you see? Visit the ' +\n",
              "            '<a target=\"_blank\" href=https://colab.research.google.com/notebooks/data_table.ipynb>data table notebook</a>'\n",
              "            + ' to learn more about interactive tables.';\n",
              "          element.innerHTML = '';\n",
              "          dataTable['output_type'] = 'display_data';\n",
              "          await google.colab.output.renderOutput(dataTable, element);\n",
              "          const docLink = document.createElement('div');\n",
              "          docLink.innerHTML = docLinkHtml;\n",
              "          element.appendChild(docLink);\n",
              "        }\n",
              "      </script>\n",
              "    </div>\n",
              "  </div>\n",
              "  "
            ]
          },
          "metadata": {},
          "execution_count": 113
        }
      ]
    },
    {
      "cell_type": "code",
      "source": [
        "cars[cars['tax(£)'].notnull()]"
      ],
      "metadata": {
        "colab": {
          "base_uri": "https://localhost:8080/",
          "height": 424
        },
        "id": "YaseEUBcbPOl",
        "outputId": "6e68110f-4335-4fb0-f081-c60a3667c5aa"
      },
      "execution_count": 114,
      "outputs": [
        {
          "output_type": "execute_result",
          "data": {
            "text/plain": [
              "        model  year  price transmission  mileage fuelType  tax   mpg  \\\n",
              "0         I20  2017   7999       Manual    17307   Petrol  NaN  58.9   \n",
              "1      Tucson  2016  14499    Automatic    25233   Diesel  NaN  43.5   \n",
              "2      Tucson  2016  11399       Manual    37877   Diesel  NaN  61.7   \n",
              "3         I10  2016   6499       Manual    23789   Petrol  NaN  60.1   \n",
              "4        IX35  2015  10199       Manual    33177   Diesel  NaN  51.4   \n",
              "...       ...   ...    ...          ...      ...      ...  ...   ...   \n",
              "4855      I30  2016   8680       Manual    25906   Diesel  NaN  78.4   \n",
              "4856      I40  2015   7830       Manual    59508   Diesel  NaN  65.7   \n",
              "4857      I10  2017   6830       Manual    13810   Petrol  NaN  60.1   \n",
              "4858   Tucson  2018  13994       Manual    23313   Petrol  NaN  44.8   \n",
              "4859   Tucson  2016  15999    Automatic    11472   Diesel  NaN  57.6   \n",
              "\n",
              "      engineSize  tax(£)  \n",
              "0            1.2   145.0  \n",
              "1            2.0   235.0  \n",
              "2            1.7    30.0  \n",
              "3            1.0    20.0  \n",
              "4            2.0   160.0  \n",
              "...          ...     ...  \n",
              "4855         1.6     0.0  \n",
              "4856         1.7    30.0  \n",
              "4857         1.0    20.0  \n",
              "4858         1.6   145.0  \n",
              "4859         1.7   125.0  \n",
              "\n",
              "[4860 rows x 10 columns]"
            ],
            "text/html": [
              "\n",
              "  <div id=\"df-539ba42b-bb5c-4dcf-bd05-d01ddc54fdd7\">\n",
              "    <div class=\"colab-df-container\">\n",
              "      <div>\n",
              "<style scoped>\n",
              "    .dataframe tbody tr th:only-of-type {\n",
              "        vertical-align: middle;\n",
              "    }\n",
              "\n",
              "    .dataframe tbody tr th {\n",
              "        vertical-align: top;\n",
              "    }\n",
              "\n",
              "    .dataframe thead th {\n",
              "        text-align: right;\n",
              "    }\n",
              "</style>\n",
              "<table border=\"1\" class=\"dataframe\">\n",
              "  <thead>\n",
              "    <tr style=\"text-align: right;\">\n",
              "      <th></th>\n",
              "      <th>model</th>\n",
              "      <th>year</th>\n",
              "      <th>price</th>\n",
              "      <th>transmission</th>\n",
              "      <th>mileage</th>\n",
              "      <th>fuelType</th>\n",
              "      <th>tax</th>\n",
              "      <th>mpg</th>\n",
              "      <th>engineSize</th>\n",
              "      <th>tax(£)</th>\n",
              "    </tr>\n",
              "  </thead>\n",
              "  <tbody>\n",
              "    <tr>\n",
              "      <th>0</th>\n",
              "      <td>I20</td>\n",
              "      <td>2017</td>\n",
              "      <td>7999</td>\n",
              "      <td>Manual</td>\n",
              "      <td>17307</td>\n",
              "      <td>Petrol</td>\n",
              "      <td>NaN</td>\n",
              "      <td>58.9</td>\n",
              "      <td>1.2</td>\n",
              "      <td>145.0</td>\n",
              "    </tr>\n",
              "    <tr>\n",
              "      <th>1</th>\n",
              "      <td>Tucson</td>\n",
              "      <td>2016</td>\n",
              "      <td>14499</td>\n",
              "      <td>Automatic</td>\n",
              "      <td>25233</td>\n",
              "      <td>Diesel</td>\n",
              "      <td>NaN</td>\n",
              "      <td>43.5</td>\n",
              "      <td>2.0</td>\n",
              "      <td>235.0</td>\n",
              "    </tr>\n",
              "    <tr>\n",
              "      <th>2</th>\n",
              "      <td>Tucson</td>\n",
              "      <td>2016</td>\n",
              "      <td>11399</td>\n",
              "      <td>Manual</td>\n",
              "      <td>37877</td>\n",
              "      <td>Diesel</td>\n",
              "      <td>NaN</td>\n",
              "      <td>61.7</td>\n",
              "      <td>1.7</td>\n",
              "      <td>30.0</td>\n",
              "    </tr>\n",
              "    <tr>\n",
              "      <th>3</th>\n",
              "      <td>I10</td>\n",
              "      <td>2016</td>\n",
              "      <td>6499</td>\n",
              "      <td>Manual</td>\n",
              "      <td>23789</td>\n",
              "      <td>Petrol</td>\n",
              "      <td>NaN</td>\n",
              "      <td>60.1</td>\n",
              "      <td>1.0</td>\n",
              "      <td>20.0</td>\n",
              "    </tr>\n",
              "    <tr>\n",
              "      <th>4</th>\n",
              "      <td>IX35</td>\n",
              "      <td>2015</td>\n",
              "      <td>10199</td>\n",
              "      <td>Manual</td>\n",
              "      <td>33177</td>\n",
              "      <td>Diesel</td>\n",
              "      <td>NaN</td>\n",
              "      <td>51.4</td>\n",
              "      <td>2.0</td>\n",
              "      <td>160.0</td>\n",
              "    </tr>\n",
              "    <tr>\n",
              "      <th>...</th>\n",
              "      <td>...</td>\n",
              "      <td>...</td>\n",
              "      <td>...</td>\n",
              "      <td>...</td>\n",
              "      <td>...</td>\n",
              "      <td>...</td>\n",
              "      <td>...</td>\n",
              "      <td>...</td>\n",
              "      <td>...</td>\n",
              "      <td>...</td>\n",
              "    </tr>\n",
              "    <tr>\n",
              "      <th>4855</th>\n",
              "      <td>I30</td>\n",
              "      <td>2016</td>\n",
              "      <td>8680</td>\n",
              "      <td>Manual</td>\n",
              "      <td>25906</td>\n",
              "      <td>Diesel</td>\n",
              "      <td>NaN</td>\n",
              "      <td>78.4</td>\n",
              "      <td>1.6</td>\n",
              "      <td>0.0</td>\n",
              "    </tr>\n",
              "    <tr>\n",
              "      <th>4856</th>\n",
              "      <td>I40</td>\n",
              "      <td>2015</td>\n",
              "      <td>7830</td>\n",
              "      <td>Manual</td>\n",
              "      <td>59508</td>\n",
              "      <td>Diesel</td>\n",
              "      <td>NaN</td>\n",
              "      <td>65.7</td>\n",
              "      <td>1.7</td>\n",
              "      <td>30.0</td>\n",
              "    </tr>\n",
              "    <tr>\n",
              "      <th>4857</th>\n",
              "      <td>I10</td>\n",
              "      <td>2017</td>\n",
              "      <td>6830</td>\n",
              "      <td>Manual</td>\n",
              "      <td>13810</td>\n",
              "      <td>Petrol</td>\n",
              "      <td>NaN</td>\n",
              "      <td>60.1</td>\n",
              "      <td>1.0</td>\n",
              "      <td>20.0</td>\n",
              "    </tr>\n",
              "    <tr>\n",
              "      <th>4858</th>\n",
              "      <td>Tucson</td>\n",
              "      <td>2018</td>\n",
              "      <td>13994</td>\n",
              "      <td>Manual</td>\n",
              "      <td>23313</td>\n",
              "      <td>Petrol</td>\n",
              "      <td>NaN</td>\n",
              "      <td>44.8</td>\n",
              "      <td>1.6</td>\n",
              "      <td>145.0</td>\n",
              "    </tr>\n",
              "    <tr>\n",
              "      <th>4859</th>\n",
              "      <td>Tucson</td>\n",
              "      <td>2016</td>\n",
              "      <td>15999</td>\n",
              "      <td>Automatic</td>\n",
              "      <td>11472</td>\n",
              "      <td>Diesel</td>\n",
              "      <td>NaN</td>\n",
              "      <td>57.6</td>\n",
              "      <td>1.7</td>\n",
              "      <td>125.0</td>\n",
              "    </tr>\n",
              "  </tbody>\n",
              "</table>\n",
              "<p>4860 rows × 10 columns</p>\n",
              "</div>\n",
              "      <button class=\"colab-df-convert\" onclick=\"convertToInteractive('df-539ba42b-bb5c-4dcf-bd05-d01ddc54fdd7')\"\n",
              "              title=\"Convert this dataframe to an interactive table.\"\n",
              "              style=\"display:none;\">\n",
              "        \n",
              "  <svg xmlns=\"http://www.w3.org/2000/svg\" height=\"24px\"viewBox=\"0 0 24 24\"\n",
              "       width=\"24px\">\n",
              "    <path d=\"M0 0h24v24H0V0z\" fill=\"none\"/>\n",
              "    <path d=\"M18.56 5.44l.94 2.06.94-2.06 2.06-.94-2.06-.94-.94-2.06-.94 2.06-2.06.94zm-11 1L8.5 8.5l.94-2.06 2.06-.94-2.06-.94L8.5 2.5l-.94 2.06-2.06.94zm10 10l.94 2.06.94-2.06 2.06-.94-2.06-.94-.94-2.06-.94 2.06-2.06.94z\"/><path d=\"M17.41 7.96l-1.37-1.37c-.4-.4-.92-.59-1.43-.59-.52 0-1.04.2-1.43.59L10.3 9.45l-7.72 7.72c-.78.78-.78 2.05 0 2.83L4 21.41c.39.39.9.59 1.41.59.51 0 1.02-.2 1.41-.59l7.78-7.78 2.81-2.81c.8-.78.8-2.07 0-2.86zM5.41 20L4 18.59l7.72-7.72 1.47 1.35L5.41 20z\"/>\n",
              "  </svg>\n",
              "      </button>\n",
              "      \n",
              "  <style>\n",
              "    .colab-df-container {\n",
              "      display:flex;\n",
              "      flex-wrap:wrap;\n",
              "      gap: 12px;\n",
              "    }\n",
              "\n",
              "    .colab-df-convert {\n",
              "      background-color: #E8F0FE;\n",
              "      border: none;\n",
              "      border-radius: 50%;\n",
              "      cursor: pointer;\n",
              "      display: none;\n",
              "      fill: #1967D2;\n",
              "      height: 32px;\n",
              "      padding: 0 0 0 0;\n",
              "      width: 32px;\n",
              "    }\n",
              "\n",
              "    .colab-df-convert:hover {\n",
              "      background-color: #E2EBFA;\n",
              "      box-shadow: 0px 1px 2px rgba(60, 64, 67, 0.3), 0px 1px 3px 1px rgba(60, 64, 67, 0.15);\n",
              "      fill: #174EA6;\n",
              "    }\n",
              "\n",
              "    [theme=dark] .colab-df-convert {\n",
              "      background-color: #3B4455;\n",
              "      fill: #D2E3FC;\n",
              "    }\n",
              "\n",
              "    [theme=dark] .colab-df-convert:hover {\n",
              "      background-color: #434B5C;\n",
              "      box-shadow: 0px 1px 3px 1px rgba(0, 0, 0, 0.15);\n",
              "      filter: drop-shadow(0px 1px 2px rgba(0, 0, 0, 0.3));\n",
              "      fill: #FFFFFF;\n",
              "    }\n",
              "  </style>\n",
              "\n",
              "      <script>\n",
              "        const buttonEl =\n",
              "          document.querySelector('#df-539ba42b-bb5c-4dcf-bd05-d01ddc54fdd7 button.colab-df-convert');\n",
              "        buttonEl.style.display =\n",
              "          google.colab.kernel.accessAllowed ? 'block' : 'none';\n",
              "\n",
              "        async function convertToInteractive(key) {\n",
              "          const element = document.querySelector('#df-539ba42b-bb5c-4dcf-bd05-d01ddc54fdd7');\n",
              "          const dataTable =\n",
              "            await google.colab.kernel.invokeFunction('convertToInteractive',\n",
              "                                                     [key], {});\n",
              "          if (!dataTable) return;\n",
              "\n",
              "          const docLinkHtml = 'Like what you see? Visit the ' +\n",
              "            '<a target=\"_blank\" href=https://colab.research.google.com/notebooks/data_table.ipynb>data table notebook</a>'\n",
              "            + ' to learn more about interactive tables.';\n",
              "          element.innerHTML = '';\n",
              "          dataTable['output_type'] = 'display_data';\n",
              "          await google.colab.output.renderOutput(dataTable, element);\n",
              "          const docLink = document.createElement('div');\n",
              "          docLink.innerHTML = docLinkHtml;\n",
              "          element.appendChild(docLink);\n",
              "        }\n",
              "      </script>\n",
              "    </div>\n",
              "  </div>\n",
              "  "
            ]
          },
          "metadata": {},
          "execution_count": 114
        }
      ]
    },
    {
      "cell_type": "code",
      "source": [
        "cars['mpg'].max()"
      ],
      "metadata": {
        "colab": {
          "base_uri": "https://localhost:8080/"
        },
        "id": "-0jzxF2xugvE",
        "outputId": "dc61fa04-0163-4d71-c405-fd8106034ef2"
      },
      "execution_count": 115,
      "outputs": [
        {
          "output_type": "execute_result",
          "data": {
            "text/plain": [
              "470.8"
            ]
          },
          "metadata": {},
          "execution_count": 115
        }
      ]
    },
    {
      "cell_type": "markdown",
      "source": [
        "Como se puede ver tenemos nulos, pero que los datos de tax estan guardados en tax(£), por lo que procedo al copiado de dichos valores a la columna tax y posteriormente borrar la columna tax(£)"
      ],
      "metadata": {
        "id": "vYT55LxFbkKm"
      }
    },
    {
      "cell_type": "code",
      "source": [
        "# Pasamos los datos de tax(£) a tax\n",
        "cars['tax'].fillna(cars['tax(£)'], inplace=True)"
      ],
      "metadata": {
        "id": "Da3NGIlNYgNg"
      },
      "execution_count": 116,
      "outputs": []
    },
    {
      "cell_type": "markdown",
      "source": [
        "Comprobamos que no tenemos ya nulos y vemos si los datos en la columna tax son iguales que en la de tax(£)"
      ],
      "metadata": {
        "id": "NzXtk2KUb8G9"
      }
    },
    {
      "cell_type": "code",
      "source": [
        "cars[cars['tax'].isnull()]"
      ],
      "metadata": {
        "colab": {
          "base_uri": "https://localhost:8080/",
          "height": 49
        },
        "id": "DWLlryAoW97r",
        "outputId": "7b5ae7f2-b28a-4ec8-a6e5-c7bc3f3719ca"
      },
      "execution_count": 117,
      "outputs": [
        {
          "output_type": "execute_result",
          "data": {
            "text/plain": [
              "Empty DataFrame\n",
              "Columns: [model, year, price, transmission, mileage, fuelType, tax, mpg, engineSize, tax(£)]\n",
              "Index: []"
            ],
            "text/html": [
              "\n",
              "  <div id=\"df-082bdad8-538c-4cc8-b9ec-1a75211a32e9\">\n",
              "    <div class=\"colab-df-container\">\n",
              "      <div>\n",
              "<style scoped>\n",
              "    .dataframe tbody tr th:only-of-type {\n",
              "        vertical-align: middle;\n",
              "    }\n",
              "\n",
              "    .dataframe tbody tr th {\n",
              "        vertical-align: top;\n",
              "    }\n",
              "\n",
              "    .dataframe thead th {\n",
              "        text-align: right;\n",
              "    }\n",
              "</style>\n",
              "<table border=\"1\" class=\"dataframe\">\n",
              "  <thead>\n",
              "    <tr style=\"text-align: right;\">\n",
              "      <th></th>\n",
              "      <th>model</th>\n",
              "      <th>year</th>\n",
              "      <th>price</th>\n",
              "      <th>transmission</th>\n",
              "      <th>mileage</th>\n",
              "      <th>fuelType</th>\n",
              "      <th>tax</th>\n",
              "      <th>mpg</th>\n",
              "      <th>engineSize</th>\n",
              "      <th>tax(£)</th>\n",
              "    </tr>\n",
              "  </thead>\n",
              "  <tbody>\n",
              "  </tbody>\n",
              "</table>\n",
              "</div>\n",
              "      <button class=\"colab-df-convert\" onclick=\"convertToInteractive('df-082bdad8-538c-4cc8-b9ec-1a75211a32e9')\"\n",
              "              title=\"Convert this dataframe to an interactive table.\"\n",
              "              style=\"display:none;\">\n",
              "        \n",
              "  <svg xmlns=\"http://www.w3.org/2000/svg\" height=\"24px\"viewBox=\"0 0 24 24\"\n",
              "       width=\"24px\">\n",
              "    <path d=\"M0 0h24v24H0V0z\" fill=\"none\"/>\n",
              "    <path d=\"M18.56 5.44l.94 2.06.94-2.06 2.06-.94-2.06-.94-.94-2.06-.94 2.06-2.06.94zm-11 1L8.5 8.5l.94-2.06 2.06-.94-2.06-.94L8.5 2.5l-.94 2.06-2.06.94zm10 10l.94 2.06.94-2.06 2.06-.94-2.06-.94-.94-2.06-.94 2.06-2.06.94z\"/><path d=\"M17.41 7.96l-1.37-1.37c-.4-.4-.92-.59-1.43-.59-.52 0-1.04.2-1.43.59L10.3 9.45l-7.72 7.72c-.78.78-.78 2.05 0 2.83L4 21.41c.39.39.9.59 1.41.59.51 0 1.02-.2 1.41-.59l7.78-7.78 2.81-2.81c.8-.78.8-2.07 0-2.86zM5.41 20L4 18.59l7.72-7.72 1.47 1.35L5.41 20z\"/>\n",
              "  </svg>\n",
              "      </button>\n",
              "      \n",
              "  <style>\n",
              "    .colab-df-container {\n",
              "      display:flex;\n",
              "      flex-wrap:wrap;\n",
              "      gap: 12px;\n",
              "    }\n",
              "\n",
              "    .colab-df-convert {\n",
              "      background-color: #E8F0FE;\n",
              "      border: none;\n",
              "      border-radius: 50%;\n",
              "      cursor: pointer;\n",
              "      display: none;\n",
              "      fill: #1967D2;\n",
              "      height: 32px;\n",
              "      padding: 0 0 0 0;\n",
              "      width: 32px;\n",
              "    }\n",
              "\n",
              "    .colab-df-convert:hover {\n",
              "      background-color: #E2EBFA;\n",
              "      box-shadow: 0px 1px 2px rgba(60, 64, 67, 0.3), 0px 1px 3px 1px rgba(60, 64, 67, 0.15);\n",
              "      fill: #174EA6;\n",
              "    }\n",
              "\n",
              "    [theme=dark] .colab-df-convert {\n",
              "      background-color: #3B4455;\n",
              "      fill: #D2E3FC;\n",
              "    }\n",
              "\n",
              "    [theme=dark] .colab-df-convert:hover {\n",
              "      background-color: #434B5C;\n",
              "      box-shadow: 0px 1px 3px 1px rgba(0, 0, 0, 0.15);\n",
              "      filter: drop-shadow(0px 1px 2px rgba(0, 0, 0, 0.3));\n",
              "      fill: #FFFFFF;\n",
              "    }\n",
              "  </style>\n",
              "\n",
              "      <script>\n",
              "        const buttonEl =\n",
              "          document.querySelector('#df-082bdad8-538c-4cc8-b9ec-1a75211a32e9 button.colab-df-convert');\n",
              "        buttonEl.style.display =\n",
              "          google.colab.kernel.accessAllowed ? 'block' : 'none';\n",
              "\n",
              "        async function convertToInteractive(key) {\n",
              "          const element = document.querySelector('#df-082bdad8-538c-4cc8-b9ec-1a75211a32e9');\n",
              "          const dataTable =\n",
              "            await google.colab.kernel.invokeFunction('convertToInteractive',\n",
              "                                                     [key], {});\n",
              "          if (!dataTable) return;\n",
              "\n",
              "          const docLinkHtml = 'Like what you see? Visit the ' +\n",
              "            '<a target=\"_blank\" href=https://colab.research.google.com/notebooks/data_table.ipynb>data table notebook</a>'\n",
              "            + ' to learn more about interactive tables.';\n",
              "          element.innerHTML = '';\n",
              "          dataTable['output_type'] = 'display_data';\n",
              "          await google.colab.output.renderOutput(dataTable, element);\n",
              "          const docLink = document.createElement('div');\n",
              "          docLink.innerHTML = docLinkHtml;\n",
              "          element.appendChild(docLink);\n",
              "        }\n",
              "      </script>\n",
              "    </div>\n",
              "  </div>\n",
              "  "
            ]
          },
          "metadata": {},
          "execution_count": 117
        }
      ]
    },
    {
      "cell_type": "code",
      "source": [
        "cars[cars['tax(£)'].notnull()]"
      ],
      "metadata": {
        "colab": {
          "base_uri": "https://localhost:8080/",
          "height": 424
        },
        "id": "5iS353lFckkh",
        "outputId": "353fc842-2ea8-4dee-95e0-363bd7913991"
      },
      "execution_count": 118,
      "outputs": [
        {
          "output_type": "execute_result",
          "data": {
            "text/plain": [
              "        model  year  price transmission  mileage fuelType    tax   mpg  \\\n",
              "0         I20  2017   7999       Manual    17307   Petrol  145.0  58.9   \n",
              "1      Tucson  2016  14499    Automatic    25233   Diesel  235.0  43.5   \n",
              "2      Tucson  2016  11399       Manual    37877   Diesel   30.0  61.7   \n",
              "3         I10  2016   6499       Manual    23789   Petrol   20.0  60.1   \n",
              "4        IX35  2015  10199       Manual    33177   Diesel  160.0  51.4   \n",
              "...       ...   ...    ...          ...      ...      ...    ...   ...   \n",
              "4855      I30  2016   8680       Manual    25906   Diesel    0.0  78.4   \n",
              "4856      I40  2015   7830       Manual    59508   Diesel   30.0  65.7   \n",
              "4857      I10  2017   6830       Manual    13810   Petrol   20.0  60.1   \n",
              "4858   Tucson  2018  13994       Manual    23313   Petrol  145.0  44.8   \n",
              "4859   Tucson  2016  15999    Automatic    11472   Diesel  125.0  57.6   \n",
              "\n",
              "      engineSize  tax(£)  \n",
              "0            1.2   145.0  \n",
              "1            2.0   235.0  \n",
              "2            1.7    30.0  \n",
              "3            1.0    20.0  \n",
              "4            2.0   160.0  \n",
              "...          ...     ...  \n",
              "4855         1.6     0.0  \n",
              "4856         1.7    30.0  \n",
              "4857         1.0    20.0  \n",
              "4858         1.6   145.0  \n",
              "4859         1.7   125.0  \n",
              "\n",
              "[4860 rows x 10 columns]"
            ],
            "text/html": [
              "\n",
              "  <div id=\"df-6458d804-36bb-40c5-bd85-33d8083f0adb\">\n",
              "    <div class=\"colab-df-container\">\n",
              "      <div>\n",
              "<style scoped>\n",
              "    .dataframe tbody tr th:only-of-type {\n",
              "        vertical-align: middle;\n",
              "    }\n",
              "\n",
              "    .dataframe tbody tr th {\n",
              "        vertical-align: top;\n",
              "    }\n",
              "\n",
              "    .dataframe thead th {\n",
              "        text-align: right;\n",
              "    }\n",
              "</style>\n",
              "<table border=\"1\" class=\"dataframe\">\n",
              "  <thead>\n",
              "    <tr style=\"text-align: right;\">\n",
              "      <th></th>\n",
              "      <th>model</th>\n",
              "      <th>year</th>\n",
              "      <th>price</th>\n",
              "      <th>transmission</th>\n",
              "      <th>mileage</th>\n",
              "      <th>fuelType</th>\n",
              "      <th>tax</th>\n",
              "      <th>mpg</th>\n",
              "      <th>engineSize</th>\n",
              "      <th>tax(£)</th>\n",
              "    </tr>\n",
              "  </thead>\n",
              "  <tbody>\n",
              "    <tr>\n",
              "      <th>0</th>\n",
              "      <td>I20</td>\n",
              "      <td>2017</td>\n",
              "      <td>7999</td>\n",
              "      <td>Manual</td>\n",
              "      <td>17307</td>\n",
              "      <td>Petrol</td>\n",
              "      <td>145.0</td>\n",
              "      <td>58.9</td>\n",
              "      <td>1.2</td>\n",
              "      <td>145.0</td>\n",
              "    </tr>\n",
              "    <tr>\n",
              "      <th>1</th>\n",
              "      <td>Tucson</td>\n",
              "      <td>2016</td>\n",
              "      <td>14499</td>\n",
              "      <td>Automatic</td>\n",
              "      <td>25233</td>\n",
              "      <td>Diesel</td>\n",
              "      <td>235.0</td>\n",
              "      <td>43.5</td>\n",
              "      <td>2.0</td>\n",
              "      <td>235.0</td>\n",
              "    </tr>\n",
              "    <tr>\n",
              "      <th>2</th>\n",
              "      <td>Tucson</td>\n",
              "      <td>2016</td>\n",
              "      <td>11399</td>\n",
              "      <td>Manual</td>\n",
              "      <td>37877</td>\n",
              "      <td>Diesel</td>\n",
              "      <td>30.0</td>\n",
              "      <td>61.7</td>\n",
              "      <td>1.7</td>\n",
              "      <td>30.0</td>\n",
              "    </tr>\n",
              "    <tr>\n",
              "      <th>3</th>\n",
              "      <td>I10</td>\n",
              "      <td>2016</td>\n",
              "      <td>6499</td>\n",
              "      <td>Manual</td>\n",
              "      <td>23789</td>\n",
              "      <td>Petrol</td>\n",
              "      <td>20.0</td>\n",
              "      <td>60.1</td>\n",
              "      <td>1.0</td>\n",
              "      <td>20.0</td>\n",
              "    </tr>\n",
              "    <tr>\n",
              "      <th>4</th>\n",
              "      <td>IX35</td>\n",
              "      <td>2015</td>\n",
              "      <td>10199</td>\n",
              "      <td>Manual</td>\n",
              "      <td>33177</td>\n",
              "      <td>Diesel</td>\n",
              "      <td>160.0</td>\n",
              "      <td>51.4</td>\n",
              "      <td>2.0</td>\n",
              "      <td>160.0</td>\n",
              "    </tr>\n",
              "    <tr>\n",
              "      <th>...</th>\n",
              "      <td>...</td>\n",
              "      <td>...</td>\n",
              "      <td>...</td>\n",
              "      <td>...</td>\n",
              "      <td>...</td>\n",
              "      <td>...</td>\n",
              "      <td>...</td>\n",
              "      <td>...</td>\n",
              "      <td>...</td>\n",
              "      <td>...</td>\n",
              "    </tr>\n",
              "    <tr>\n",
              "      <th>4855</th>\n",
              "      <td>I30</td>\n",
              "      <td>2016</td>\n",
              "      <td>8680</td>\n",
              "      <td>Manual</td>\n",
              "      <td>25906</td>\n",
              "      <td>Diesel</td>\n",
              "      <td>0.0</td>\n",
              "      <td>78.4</td>\n",
              "      <td>1.6</td>\n",
              "      <td>0.0</td>\n",
              "    </tr>\n",
              "    <tr>\n",
              "      <th>4856</th>\n",
              "      <td>I40</td>\n",
              "      <td>2015</td>\n",
              "      <td>7830</td>\n",
              "      <td>Manual</td>\n",
              "      <td>59508</td>\n",
              "      <td>Diesel</td>\n",
              "      <td>30.0</td>\n",
              "      <td>65.7</td>\n",
              "      <td>1.7</td>\n",
              "      <td>30.0</td>\n",
              "    </tr>\n",
              "    <tr>\n",
              "      <th>4857</th>\n",
              "      <td>I10</td>\n",
              "      <td>2017</td>\n",
              "      <td>6830</td>\n",
              "      <td>Manual</td>\n",
              "      <td>13810</td>\n",
              "      <td>Petrol</td>\n",
              "      <td>20.0</td>\n",
              "      <td>60.1</td>\n",
              "      <td>1.0</td>\n",
              "      <td>20.0</td>\n",
              "    </tr>\n",
              "    <tr>\n",
              "      <th>4858</th>\n",
              "      <td>Tucson</td>\n",
              "      <td>2018</td>\n",
              "      <td>13994</td>\n",
              "      <td>Manual</td>\n",
              "      <td>23313</td>\n",
              "      <td>Petrol</td>\n",
              "      <td>145.0</td>\n",
              "      <td>44.8</td>\n",
              "      <td>1.6</td>\n",
              "      <td>145.0</td>\n",
              "    </tr>\n",
              "    <tr>\n",
              "      <th>4859</th>\n",
              "      <td>Tucson</td>\n",
              "      <td>2016</td>\n",
              "      <td>15999</td>\n",
              "      <td>Automatic</td>\n",
              "      <td>11472</td>\n",
              "      <td>Diesel</td>\n",
              "      <td>125.0</td>\n",
              "      <td>57.6</td>\n",
              "      <td>1.7</td>\n",
              "      <td>125.0</td>\n",
              "    </tr>\n",
              "  </tbody>\n",
              "</table>\n",
              "<p>4860 rows × 10 columns</p>\n",
              "</div>\n",
              "      <button class=\"colab-df-convert\" onclick=\"convertToInteractive('df-6458d804-36bb-40c5-bd85-33d8083f0adb')\"\n",
              "              title=\"Convert this dataframe to an interactive table.\"\n",
              "              style=\"display:none;\">\n",
              "        \n",
              "  <svg xmlns=\"http://www.w3.org/2000/svg\" height=\"24px\"viewBox=\"0 0 24 24\"\n",
              "       width=\"24px\">\n",
              "    <path d=\"M0 0h24v24H0V0z\" fill=\"none\"/>\n",
              "    <path d=\"M18.56 5.44l.94 2.06.94-2.06 2.06-.94-2.06-.94-.94-2.06-.94 2.06-2.06.94zm-11 1L8.5 8.5l.94-2.06 2.06-.94-2.06-.94L8.5 2.5l-.94 2.06-2.06.94zm10 10l.94 2.06.94-2.06 2.06-.94-2.06-.94-.94-2.06-.94 2.06-2.06.94z\"/><path d=\"M17.41 7.96l-1.37-1.37c-.4-.4-.92-.59-1.43-.59-.52 0-1.04.2-1.43.59L10.3 9.45l-7.72 7.72c-.78.78-.78 2.05 0 2.83L4 21.41c.39.39.9.59 1.41.59.51 0 1.02-.2 1.41-.59l7.78-7.78 2.81-2.81c.8-.78.8-2.07 0-2.86zM5.41 20L4 18.59l7.72-7.72 1.47 1.35L5.41 20z\"/>\n",
              "  </svg>\n",
              "      </button>\n",
              "      \n",
              "  <style>\n",
              "    .colab-df-container {\n",
              "      display:flex;\n",
              "      flex-wrap:wrap;\n",
              "      gap: 12px;\n",
              "    }\n",
              "\n",
              "    .colab-df-convert {\n",
              "      background-color: #E8F0FE;\n",
              "      border: none;\n",
              "      border-radius: 50%;\n",
              "      cursor: pointer;\n",
              "      display: none;\n",
              "      fill: #1967D2;\n",
              "      height: 32px;\n",
              "      padding: 0 0 0 0;\n",
              "      width: 32px;\n",
              "    }\n",
              "\n",
              "    .colab-df-convert:hover {\n",
              "      background-color: #E2EBFA;\n",
              "      box-shadow: 0px 1px 2px rgba(60, 64, 67, 0.3), 0px 1px 3px 1px rgba(60, 64, 67, 0.15);\n",
              "      fill: #174EA6;\n",
              "    }\n",
              "\n",
              "    [theme=dark] .colab-df-convert {\n",
              "      background-color: #3B4455;\n",
              "      fill: #D2E3FC;\n",
              "    }\n",
              "\n",
              "    [theme=dark] .colab-df-convert:hover {\n",
              "      background-color: #434B5C;\n",
              "      box-shadow: 0px 1px 3px 1px rgba(0, 0, 0, 0.15);\n",
              "      filter: drop-shadow(0px 1px 2px rgba(0, 0, 0, 0.3));\n",
              "      fill: #FFFFFF;\n",
              "    }\n",
              "  </style>\n",
              "\n",
              "      <script>\n",
              "        const buttonEl =\n",
              "          document.querySelector('#df-6458d804-36bb-40c5-bd85-33d8083f0adb button.colab-df-convert');\n",
              "        buttonEl.style.display =\n",
              "          google.colab.kernel.accessAllowed ? 'block' : 'none';\n",
              "\n",
              "        async function convertToInteractive(key) {\n",
              "          const element = document.querySelector('#df-6458d804-36bb-40c5-bd85-33d8083f0adb');\n",
              "          const dataTable =\n",
              "            await google.colab.kernel.invokeFunction('convertToInteractive',\n",
              "                                                     [key], {});\n",
              "          if (!dataTable) return;\n",
              "\n",
              "          const docLinkHtml = 'Like what you see? Visit the ' +\n",
              "            '<a target=\"_blank\" href=https://colab.research.google.com/notebooks/data_table.ipynb>data table notebook</a>'\n",
              "            + ' to learn more about interactive tables.';\n",
              "          element.innerHTML = '';\n",
              "          dataTable['output_type'] = 'display_data';\n",
              "          await google.colab.output.renderOutput(dataTable, element);\n",
              "          const docLink = document.createElement('div');\n",
              "          docLink.innerHTML = docLinkHtml;\n",
              "          element.appendChild(docLink);\n",
              "        }\n",
              "      </script>\n",
              "    </div>\n",
              "  </div>\n",
              "  "
            ]
          },
          "metadata": {},
          "execution_count": 118
        }
      ]
    },
    {
      "cell_type": "markdown",
      "source": [
        "Visionamos de nuevo los datos de dataframe donde podemos ver que ya no tenemos nulos en tax"
      ],
      "metadata": {
        "id": "kvrTMuRnb-sl"
      }
    },
    {
      "cell_type": "code",
      "source": [
        "cars.info()"
      ],
      "metadata": {
        "colab": {
          "base_uri": "https://localhost:8080/"
        },
        "id": "Wmvzy0R1S1Bx",
        "outputId": "4a70aeeb-b698-4cc2-9a48-c3b676c945dd"
      },
      "execution_count": 119,
      "outputs": [
        {
          "output_type": "stream",
          "name": "stdout",
          "text": [
            "<class 'pandas.core.frame.DataFrame'>\n",
            "Int64Index: 99187 entries, 0 to 15156\n",
            "Data columns (total 10 columns):\n",
            " #   Column        Non-Null Count  Dtype  \n",
            "---  ------        --------------  -----  \n",
            " 0   model         99187 non-null  object \n",
            " 1   year          99187 non-null  int64  \n",
            " 2   price         99187 non-null  int64  \n",
            " 3   transmission  99187 non-null  object \n",
            " 4   mileage       99187 non-null  int64  \n",
            " 5   fuelType      99187 non-null  object \n",
            " 6   tax           99187 non-null  float64\n",
            " 7   mpg           99187 non-null  float64\n",
            " 8   engineSize    99187 non-null  float64\n",
            " 9   tax(£)        4860 non-null   float64\n",
            "dtypes: float64(4), int64(3), object(3)\n",
            "memory usage: 8.3+ MB\n"
          ]
        }
      ]
    },
    {
      "cell_type": "markdown",
      "source": [
        "Ahora quitamos la columna tax(£)"
      ],
      "metadata": {
        "id": "f4Eo6FKERulA"
      }
    },
    {
      "cell_type": "code",
      "source": [
        "cars.drop(['tax(£)'], axis = 1, inplace = True)"
      ],
      "metadata": {
        "id": "QTXWocagEbMB"
      },
      "execution_count": 120,
      "outputs": []
    },
    {
      "cell_type": "markdown",
      "source": [
        "Ahora volvemos a ver la información del dataframe para ver que realmente se ha quitado la columna"
      ],
      "metadata": {
        "id": "gvXjK-2ARbtT"
      }
    },
    {
      "cell_type": "code",
      "source": [
        "cars.info()"
      ],
      "metadata": {
        "colab": {
          "base_uri": "https://localhost:8080/"
        },
        "id": "XbabdDncP74D",
        "outputId": "b3cab2b5-e65b-4da4-e273-9f87e0c53d55"
      },
      "execution_count": 121,
      "outputs": [
        {
          "output_type": "stream",
          "name": "stdout",
          "text": [
            "<class 'pandas.core.frame.DataFrame'>\n",
            "Int64Index: 99187 entries, 0 to 15156\n",
            "Data columns (total 9 columns):\n",
            " #   Column        Non-Null Count  Dtype  \n",
            "---  ------        --------------  -----  \n",
            " 0   model         99187 non-null  object \n",
            " 1   year          99187 non-null  int64  \n",
            " 2   price         99187 non-null  int64  \n",
            " 3   transmission  99187 non-null  object \n",
            " 4   mileage       99187 non-null  int64  \n",
            " 5   fuelType      99187 non-null  object \n",
            " 6   tax           99187 non-null  float64\n",
            " 7   mpg           99187 non-null  float64\n",
            " 8   engineSize    99187 non-null  float64\n",
            "dtypes: float64(3), int64(3), object(3)\n",
            "memory usage: 7.6+ MB\n"
          ]
        }
      ]
    },
    {
      "cell_type": "markdown",
      "source": [
        "#### Ahora listo todos los modelos que tengo en el dataframe"
      ],
      "metadata": {
        "id": "zRGZKLMdCEkg"
      }
    },
    {
      "cell_type": "code",
      "source": [
        "pd.unique(cars['model'])"
      ],
      "metadata": {
        "colab": {
          "base_uri": "https://localhost:8080/"
        },
        "id": "GmNh5GXQAZlu",
        "outputId": "9be1e12c-9e58-451f-e094-f94e945be497"
      },
      "execution_count": 122,
      "outputs": [
        {
          "output_type": "execute_result",
          "data": {
            "text/plain": [
              "array([' A1', ' A6', ' A4', ' A3', ' Q3', ' Q5', ' A5', ' S4', ' Q2',\n",
              "       ' A7', ' TT', ' Q7', ' RS6', ' RS3', ' A8', ' Q8', ' RS4', ' RS5',\n",
              "       ' R8', ' SQ5', ' S8', ' SQ7', ' S3', ' S5', ' A2', ' RS7',\n",
              "       ' 5 Series', ' 6 Series', ' 1 Series', ' 7 Series', ' 2 Series',\n",
              "       ' 4 Series', ' X3', ' 3 Series', ' X5', ' X4', ' i3', ' X1', ' M4',\n",
              "       ' X2', ' X6', ' 8 Series', ' Z4', ' X7', ' M5', ' i8', ' M2',\n",
              "       ' M3', ' M6', ' Z3', ' Fiesta', ' Focus', ' Puma', ' Kuga',\n",
              "       ' EcoSport', ' C-MAX', ' Mondeo', ' Ka+', ' Tourneo Custom',\n",
              "       ' S-MAX', ' B-MAX', ' Edge', ' Tourneo Connect', ' Grand C-MAX',\n",
              "       ' KA', ' Galaxy', ' Mustang', ' Grand Tourneo Connect', ' Fusion',\n",
              "       ' Ranger', ' Streetka', ' Escort', ' Transit Tourneo', ' I20',\n",
              "       ' Tucson', ' I10', ' IX35', ' I30', ' I40', ' Ioniq', ' Kona',\n",
              "       ' Veloster', ' I800', ' IX20', ' Santa Fe', ' Accent', ' Terracan',\n",
              "       ' Getz', ' Amica', ' SLK', ' S Class', ' SL CLASS', ' G Class',\n",
              "       ' GLE Class', ' GLA Class', ' A Class', ' B Class', ' GLC Class',\n",
              "       ' C Class', ' E Class', ' GL Class', ' CLS Class', ' CLC Class',\n",
              "       ' CLA Class', ' V Class', ' M Class', ' CL Class', ' GLS Class',\n",
              "       ' GLB Class', ' X-CLASS', '180', ' CLK', ' R Class', '230', '220',\n",
              "       '200', ' Octavia', ' Citigo', ' Yeti Outdoor', ' Superb',\n",
              "       ' Kodiaq', ' Rapid', ' Karoq', ' Fabia', ' Yeti', ' Scala',\n",
              "       ' Roomster', ' Kamiq', ' GT86', ' Corolla', ' RAV4', ' Yaris',\n",
              "       ' Auris', ' Aygo', ' C-HR', ' Prius', ' Avensis', ' Verso',\n",
              "       ' Hilux', ' PROACE VERSO', ' Land Cruiser', ' Supra', ' Camry',\n",
              "       ' Verso-S', ' IQ', ' Urban Cruiser', ' Corsa', ' Astra', ' Viva',\n",
              "       ' Mokka', ' Mokka X', ' Crossland X', ' Zafira', ' Meriva',\n",
              "       ' Zafira Tourer', ' Adam', ' Grandland X', ' Antara', ' Insignia',\n",
              "       ' Ampera', ' GTC', ' Combo Life', ' Vivaro', ' Cascada', ' Kadjar',\n",
              "       ' Agila', ' Tigra', ' Vectra', ' T-Roc', ' Golf', ' Passat',\n",
              "       ' T-Cross', ' Polo', ' Tiguan', ' Sharan', ' Up', ' Scirocco',\n",
              "       ' Beetle', ' Caddy Maxi Life', ' Caravelle', ' Touareg', ' Arteon',\n",
              "       ' Touran', ' Golf SV', ' Amarok', ' Tiguan Allspace', ' Shuttle',\n",
              "       ' Jetta', ' CC', ' California', ' Caddy Life', ' Caddy',\n",
              "       ' Caddy Maxi', ' Eos', ' Fox'], dtype=object)"
            ]
          },
          "metadata": {},
          "execution_count": 122
        }
      ]
    },
    {
      "cell_type": "markdown",
      "source": [
        "Ahora voy a eliminar los espacios vacios que tengo delante de cada modelo, este paso puedo saltarmelo, pero decido al final que no, puesto que quiero trabajar con los nombres mas adelante y me es importante quitarle dicho espacio para trabajar mas comodamente"
      ],
      "metadata": {
        "id": "3doNCjaNCNfJ"
      }
    },
    {
      "cell_type": "code",
      "source": [
        "cars['model'] = cars['model'].str.strip()"
      ],
      "metadata": {
        "id": "znKrptPD9T7i"
      },
      "execution_count": 123,
      "outputs": []
    },
    {
      "cell_type": "markdown",
      "source": [
        "#### Procesado para el posterior uso en el despliegue\n"
      ],
      "metadata": {
        "id": "0aK4P6qsg2ZZ"
      }
    },
    {
      "cell_type": "markdown",
      "source": [
        "Aquí estoy limpiando los espacios en blanco que hay al principio de los nombres de los modelos y posteriormente saco los modelos en los que la cantidad sea menor a 50 para no tener problemas depues para la predicción.\n",
        "\n",
        "Por último saco un array solo con los modelos, que después usare para el selector de modelos."
      ],
      "metadata": {
        "id": "eAUQ3T0F_hV5"
      }
    },
    {
      "cell_type": "markdown",
      "source": [
        "Audi"
      ],
      "metadata": {
        "id": "iRAb9edUhIMo"
      }
    },
    {
      "cell_type": "code",
      "source": [
        "dfaudi['model'] = dfaudi['model'].str.strip()"
      ],
      "metadata": {
        "id": "WD4UavIGH67O"
      },
      "execution_count": 124,
      "outputs": []
    },
    {
      "cell_type": "code",
      "source": [
        "audi = dfaudi['model'].value_counts()\n",
        "audi_over_100 = audi[audi > 50]\n",
        "audi_clean = dfaudi[dfaudi['model'].isin(audi_over_100.index)]\n",
        "audi_clean = audi_clean['model'].unique()"
      ],
      "metadata": {
        "id": "qfyhXHKng-9D"
      },
      "execution_count": 125,
      "outputs": []
    },
    {
      "cell_type": "code",
      "source": [
        "audi_clean"
      ],
      "metadata": {
        "colab": {
          "base_uri": "https://localhost:8080/"
        },
        "id": "5JQNpRKcIG-7",
        "outputId": "ab986810-edaa-4559-c9bc-a76af9870112"
      },
      "execution_count": 126,
      "outputs": [
        {
          "output_type": "execute_result",
          "data": {
            "text/plain": [
              "array(['A1', 'A6', 'A4', 'A3', 'Q3', 'Q5', 'A5', 'Q2', 'A7', 'TT', 'Q7',\n",
              "       'A8', 'Q8'], dtype=object)"
            ]
          },
          "metadata": {},
          "execution_count": 126
        }
      ]
    },
    {
      "cell_type": "markdown",
      "source": [
        "BMW"
      ],
      "metadata": {
        "id": "RZg4c586hJZ-"
      }
    },
    {
      "cell_type": "code",
      "source": [
        "dfbmw['model'] = dfbmw['model'].str.strip()"
      ],
      "metadata": {
        "id": "Ml8FrCqKIJHh"
      },
      "execution_count": 127,
      "outputs": []
    },
    {
      "cell_type": "code",
      "source": [
        "bmw = dfbmw['model'].value_counts()\n",
        "bmw_over_100 = bmw[bmw > 50]\n",
        "bmw_clean = dfbmw[dfbmw['model'].isin(bmw_over_100.index)]\n",
        "bmw_clean = bmw_clean['model'].unique()"
      ],
      "metadata": {
        "id": "4rQ_b50ohLOO"
      },
      "execution_count": 128,
      "outputs": []
    },
    {
      "cell_type": "code",
      "source": [
        "bmw_clean"
      ],
      "metadata": {
        "colab": {
          "base_uri": "https://localhost:8080/"
        },
        "id": "BLfbkGDWpfR6",
        "outputId": "ef5bc0df-c971-46b0-8e1b-a902c599263e"
      },
      "execution_count": 129,
      "outputs": [
        {
          "output_type": "execute_result",
          "data": {
            "text/plain": [
              "array(['5 Series', '6 Series', '1 Series', '7 Series', '2 Series',\n",
              "       '4 Series', 'X3', '3 Series', 'X5', 'X4', 'X1', 'M4', 'X2', 'X6',\n",
              "       'Z4', 'X7'], dtype=object)"
            ]
          },
          "metadata": {},
          "execution_count": 129
        }
      ]
    },
    {
      "cell_type": "markdown",
      "source": [
        "Ford\n"
      ],
      "metadata": {
        "id": "dNgnHrT7hNnM"
      }
    },
    {
      "cell_type": "code",
      "source": [
        "dfford['model'] = dfford['model'].str.strip()"
      ],
      "metadata": {
        "id": "8cSWRxGYIKEy"
      },
      "execution_count": 130,
      "outputs": []
    },
    {
      "cell_type": "code",
      "source": [
        "ford = dfford['model'].value_counts()\n",
        "ford_over_100 = ford[ford > 50]\n",
        "ford_clean = dfford[dfford['model'].isin(ford_over_100.index)]\n",
        "ford_clean = ford_clean['model'].unique()"
      ],
      "metadata": {
        "id": "2RH-JOYphPnA"
      },
      "execution_count": 131,
      "outputs": []
    },
    {
      "cell_type": "code",
      "source": [
        "ford_clean"
      ],
      "metadata": {
        "colab": {
          "base_uri": "https://localhost:8080/"
        },
        "id": "1OFFiT4fpedE",
        "outputId": "14fb578b-1f83-4932-9795-cd77bd1177d0"
      },
      "execution_count": 132,
      "outputs": [
        {
          "output_type": "execute_result",
          "data": {
            "text/plain": [
              "array(['Fiesta', 'Focus', 'Puma', 'Kuga', 'EcoSport', 'C-MAX', 'Mondeo',\n",
              "       'Ka+', 'Tourneo Custom', 'S-MAX', 'B-MAX', 'Edge', 'Grand C-MAX',\n",
              "       'KA', 'Galaxy', 'Mustang', 'Grand Tourneo Connect'], dtype=object)"
            ]
          },
          "metadata": {},
          "execution_count": 132
        }
      ]
    },
    {
      "cell_type": "markdown",
      "source": [
        "Hyundai"
      ],
      "metadata": {
        "id": "nL0ZZDs_hRaA"
      }
    },
    {
      "cell_type": "code",
      "source": [
        "dfhyundai['model'] = dfhyundai['model'].str.strip()"
      ],
      "metadata": {
        "id": "x-T8Kv2YIKp9"
      },
      "execution_count": 133,
      "outputs": []
    },
    {
      "cell_type": "code",
      "source": [
        "hyundai = dfhyundai['model'].value_counts()\n",
        "hyundai_over_100 = hyundai[hyundai > 50]\n",
        "hyundai_clean = dfhyundai[dfhyundai['model'].isin(hyundai_over_100.index)]\n",
        "hyundai_clean = hyundai_clean['model'].unique()"
      ],
      "metadata": {
        "id": "xfDe8dsjhVHq"
      },
      "execution_count": 134,
      "outputs": []
    },
    {
      "cell_type": "code",
      "source": [
        "hyundai_clean"
      ],
      "metadata": {
        "colab": {
          "base_uri": "https://localhost:8080/"
        },
        "id": "0hvuS1swpdyc",
        "outputId": "583a3e81-d157-45b1-e132-e2c6985d9f48"
      },
      "execution_count": 135,
      "outputs": [
        {
          "output_type": "execute_result",
          "data": {
            "text/plain": [
              "array(['I20', 'Tucson', 'I10', 'IX35', 'I30', 'I40', 'Ioniq', 'Kona',\n",
              "       'I800', 'IX20', 'Santa Fe'], dtype=object)"
            ]
          },
          "metadata": {},
          "execution_count": 135
        }
      ]
    },
    {
      "cell_type": "markdown",
      "source": [
        "Mercedes"
      ],
      "metadata": {
        "id": "Y4sMW08KhVyK"
      }
    },
    {
      "cell_type": "code",
      "source": [
        "dfmercedes['model'] = dfmercedes['model'].str.strip()"
      ],
      "metadata": {
        "id": "5_nvcdLOILQt"
      },
      "execution_count": 136,
      "outputs": []
    },
    {
      "cell_type": "code",
      "source": [
        "mercedes = dfmercedes['model'].value_counts()\n",
        "mercedes_over_100 = mercedes[mercedes > 50]\n",
        "mercedes_clean = dfmercedes[dfmercedes['model'].isin(mercedes_over_100.index)]\n",
        "mercedes_clean = mercedes_clean['model'].unique()"
      ],
      "metadata": {
        "id": "EeJT-j51hX20"
      },
      "execution_count": 137,
      "outputs": []
    },
    {
      "cell_type": "code",
      "source": [
        "mercedes_clean"
      ],
      "metadata": {
        "colab": {
          "base_uri": "https://localhost:8080/"
        },
        "id": "0tpm37y8pdHx",
        "outputId": "1b3444bb-7c4f-4e05-e758-2b9dd8632ccd"
      },
      "execution_count": 138,
      "outputs": [
        {
          "output_type": "execute_result",
          "data": {
            "text/plain": [
              "array(['SLK', 'S Class', 'SL CLASS', 'GLE Class', 'GLA Class', 'A Class',\n",
              "       'B Class', 'GLC Class', 'C Class', 'E Class', 'GL Class',\n",
              "       'CLS Class', 'CLA Class', 'V Class', 'M Class', 'CL Class',\n",
              "       'GLS Class', 'X-CLASS'], dtype=object)"
            ]
          },
          "metadata": {},
          "execution_count": 138
        }
      ]
    },
    {
      "cell_type": "markdown",
      "source": [
        "Skoda"
      ],
      "metadata": {
        "id": "XIbEZ25zhZ99"
      }
    },
    {
      "cell_type": "code",
      "source": [
        "dfskoda['model'] = dfskoda['model'].str.strip()"
      ],
      "metadata": {
        "id": "PafPWJZpILvg"
      },
      "execution_count": 139,
      "outputs": []
    },
    {
      "cell_type": "code",
      "source": [
        "skoda = dfskoda['model'].value_counts()\n",
        "skoda_over_100 = skoda[skoda > 50]\n",
        "skoda_clean = dfskoda[dfskoda['model'].isin(skoda_over_100.index)]\n",
        "skoda_clean = skoda_clean['model'].unique()"
      ],
      "metadata": {
        "id": "7T4Rf-XQhdKz"
      },
      "execution_count": 140,
      "outputs": []
    },
    {
      "cell_type": "code",
      "source": [
        "skoda_clean"
      ],
      "metadata": {
        "colab": {
          "base_uri": "https://localhost:8080/"
        },
        "id": "RbtjeQ4JpcMJ",
        "outputId": "e056b0be-77a9-4d2e-d785-3e9e7ea7c535"
      },
      "execution_count": 141,
      "outputs": [
        {
          "output_type": "execute_result",
          "data": {
            "text/plain": [
              "array(['Octavia', 'Citigo', 'Yeti Outdoor', 'Superb', 'Kodiaq', 'Rapid',\n",
              "       'Karoq', 'Fabia', 'Yeti', 'Scala', 'Kamiq'], dtype=object)"
            ]
          },
          "metadata": {},
          "execution_count": 141
        }
      ]
    },
    {
      "cell_type": "markdown",
      "source": [
        "Toyota"
      ],
      "metadata": {
        "id": "GQhHGVfThfVP"
      }
    },
    {
      "cell_type": "code",
      "source": [
        "dftoyota['model'] = dftoyota['model'].str.strip()"
      ],
      "metadata": {
        "id": "LRhB8dHRIMLo"
      },
      "execution_count": 142,
      "outputs": []
    },
    {
      "cell_type": "code",
      "source": [
        "toyota = dftoyota['model'].value_counts()\n",
        "toyota_over_100 = toyota[toyota > 50]\n",
        "toyota_clean = dftoyota[dftoyota['model'].isin(toyota_over_100.index)]\n",
        "toyota_clean = toyota_clean['model'].unique()"
      ],
      "metadata": {
        "id": "7piSKRrGhg03"
      },
      "execution_count": 143,
      "outputs": []
    },
    {
      "cell_type": "code",
      "source": [
        "toyota_clean"
      ],
      "metadata": {
        "colab": {
          "base_uri": "https://localhost:8080/"
        },
        "id": "ouaTxzWjpbUW",
        "outputId": "84dc5ef6-6692-4d87-945f-9541d36a2818"
      },
      "execution_count": 144,
      "outputs": [
        {
          "output_type": "execute_result",
          "data": {
            "text/plain": [
              "array(['GT86', 'Corolla', 'RAV4', 'Yaris', 'Auris', 'Aygo', 'C-HR',\n",
              "       'Prius', 'Avensis', 'Verso', 'Hilux', 'Land Cruiser'], dtype=object)"
            ]
          },
          "metadata": {},
          "execution_count": 144
        }
      ]
    },
    {
      "cell_type": "markdown",
      "source": [
        "vauxhall"
      ],
      "metadata": {
        "id": "Chg525TxhioL"
      }
    },
    {
      "cell_type": "code",
      "source": [
        "dfvauxhall['model'] = dfvauxhall['model'].str.strip()"
      ],
      "metadata": {
        "id": "b3i280i6IM1M"
      },
      "execution_count": 145,
      "outputs": []
    },
    {
      "cell_type": "code",
      "source": [
        "vauxhall = dfvauxhall['model'].value_counts()\n",
        "vauxhall_over_100 = vauxhall[vauxhall > 50]\n",
        "vauxhall_clean = dfvauxhall[dfvauxhall['model'].isin(vauxhall_over_100.index)]\n",
        "vauxhall_clean = vauxhall_clean['model'].unique()"
      ],
      "metadata": {
        "id": "iof_d_QVhi-s"
      },
      "execution_count": 146,
      "outputs": []
    },
    {
      "cell_type": "code",
      "source": [
        "vauxhall_clean"
      ],
      "metadata": {
        "colab": {
          "base_uri": "https://localhost:8080/"
        },
        "id": "wtrHncdsttIe",
        "outputId": "07d38cd8-a4ab-45b1-ec45-e7313cd2a61c"
      },
      "execution_count": 147,
      "outputs": [
        {
          "output_type": "execute_result",
          "data": {
            "text/plain": [
              "array(['Corsa', 'Astra', 'Viva', 'Mokka', 'Mokka X', 'Crossland X',\n",
              "       'Zafira', 'Meriva', 'Zafira Tourer', 'Adam', 'Grandland X',\n",
              "       'Insignia', 'GTC', 'Combo Life'], dtype=object)"
            ]
          },
          "metadata": {},
          "execution_count": 147
        }
      ]
    },
    {
      "cell_type": "markdown",
      "source": [
        "volkswagen"
      ],
      "metadata": {
        "id": "SX65Rhu3h2Jl"
      }
    },
    {
      "cell_type": "code",
      "source": [
        "dfvw['model'] = dfvw['model'].str.strip()"
      ],
      "metadata": {
        "id": "POdoqtYZINjm"
      },
      "execution_count": 148,
      "outputs": []
    },
    {
      "cell_type": "code",
      "source": [
        "vw = dfvw['model'].value_counts()\n",
        "vw_over_100 = vw[vw > 50]\n",
        "vw_clean = dfvw[dfvw['model'].isin(vw_over_100.index)]\n",
        "vw_clean = vw_clean['model'].unique()"
      ],
      "metadata": {
        "id": "BJuJkmHBh53i"
      },
      "execution_count": 149,
      "outputs": []
    },
    {
      "cell_type": "code",
      "source": [
        "vw_clean"
      ],
      "metadata": {
        "colab": {
          "base_uri": "https://localhost:8080/"
        },
        "id": "PejV1EM3tomp",
        "outputId": "f752e8df-1714-44ca-fff7-7f512aac6589"
      },
      "execution_count": 150,
      "outputs": [
        {
          "output_type": "execute_result",
          "data": {
            "text/plain": [
              "array(['T-Roc', 'Golf', 'Passat', 'T-Cross', 'Polo', 'Tiguan', 'Sharan',\n",
              "       'Up', 'Scirocco', 'Beetle', 'Caddy Maxi Life', 'Caravelle',\n",
              "       'Touareg', 'Arteon', 'Touran', 'Golf SV', 'Amarok',\n",
              "       'Tiguan Allspace', 'Shuttle', 'CC'], dtype=object)"
            ]
          },
          "metadata": {},
          "execution_count": 150
        }
      ]
    },
    {
      "cell_type": "code",
      "source": [
        "joblib.dump([audi_clean, \n",
        "             bmw_clean, \n",
        "             ford_clean, \n",
        "             hyundai_clean, \n",
        "             mercedes_clean, \n",
        "             skoda_clean, \n",
        "             toyota_clean, \n",
        "             vauxhall_clean, \n",
        "             vw_clean], 'models.pkl')"
      ],
      "metadata": {
        "colab": {
          "base_uri": "https://localhost:8080/"
        },
        "id": "ch5xYXB4KnIJ",
        "outputId": "632f4a25-1559-412f-894c-78b4d93f1fda"
      },
      "execution_count": 151,
      "outputs": [
        {
          "output_type": "execute_result",
          "data": {
            "text/plain": [
              "['models.pkl']"
            ]
          },
          "metadata": {},
          "execution_count": 151
        }
      ]
    },
    {
      "cell_type": "markdown",
      "source": [
        "#### Vuelvo a listar los modelos, pero esta vez guardandolos en una variable, ya que en el siguiente punto lo que voy a realizar es la transformación de nombres a numeros en la columna model."
      ],
      "metadata": {
        "id": "jp0LmRIeCitS"
      }
    },
    {
      "cell_type": "markdown",
      "source": [
        "Ahora quito los modelos que tienen "
      ],
      "metadata": {
        "id": "jT5rkrbnj1AP"
      }
    },
    {
      "cell_type": "code",
      "source": [
        "totalcoches = cars['model'].value_counts()\n",
        "models_over_100 = totalcoches[totalcoches > 50]\n",
        "cars_clean = cars[cars['model'].isin(models_over_100.index)]"
      ],
      "metadata": {
        "id": "shim-xHlgTGu"
      },
      "execution_count": null,
      "outputs": []
    },
    {
      "cell_type": "code",
      "source": [
        "modelos_unicos = pd.unique(cars_clean['model'])\n",
        "modelos_unicos"
      ],
      "metadata": {
        "colab": {
          "base_uri": "https://localhost:8080/"
        },
        "id": "8f8fAvGZQnL7",
        "outputId": "4ea470ff-737b-4489-8d5e-93acac04f49e"
      },
      "execution_count": null,
      "outputs": [
        {
          "output_type": "execute_result",
          "data": {
            "text/plain": [
              "array(['A1', 'A6', 'A4', 'A3', 'Q3', 'Q5', 'A5', 'Q2', 'A7', 'TT', 'Q7',\n",
              "       'A8', 'Q8', '5 Series', '6 Series', '1 Series', '7 Series',\n",
              "       '2 Series', '4 Series', 'X3', '3 Series', 'X5', 'X4', 'X1', 'M4',\n",
              "       'X2', 'X6', 'Z4', 'X7', 'Fiesta', 'Focus', 'Puma', 'Kuga',\n",
              "       'EcoSport', 'C-MAX', 'Mondeo', 'Ka+', 'Tourneo Custom', 'S-MAX',\n",
              "       'B-MAX', 'Edge', 'Grand C-MAX', 'KA', 'Galaxy', 'Mustang',\n",
              "       'Grand Tourneo Connect', 'I20', 'Tucson', 'I10', 'IX35', 'I30',\n",
              "       'I40', 'Ioniq', 'Kona', 'I800', 'IX20', 'Santa Fe', 'SLK',\n",
              "       'S Class', 'SL CLASS', 'GLE Class', 'GLA Class', 'A Class',\n",
              "       'B Class', 'GLC Class', 'C Class', 'E Class', 'GL Class',\n",
              "       'CLS Class', 'CLA Class', 'V Class', 'M Class', 'CL Class',\n",
              "       'GLS Class', 'X-CLASS', 'Octavia', 'Citigo', 'Yeti Outdoor',\n",
              "       'Superb', 'Kodiaq', 'Rapid', 'Karoq', 'Fabia', 'Yeti', 'Scala',\n",
              "       'Kamiq', 'GT86', 'Corolla', 'RAV4', 'Yaris', 'Auris', 'Aygo',\n",
              "       'C-HR', 'Prius', 'Avensis', 'Verso', 'Hilux', 'Land Cruiser',\n",
              "       'Corsa', 'Astra', 'Viva', 'Mokka', 'Mokka X', 'Crossland X',\n",
              "       'Zafira', 'Meriva', 'Zafira Tourer', 'Adam', 'Grandland X',\n",
              "       'Insignia', 'GTC', 'Combo Life', 'T-Roc', 'Golf', 'Passat',\n",
              "       'T-Cross', 'Polo', 'Tiguan', 'Sharan', 'Up', 'Scirocco', 'Beetle',\n",
              "       'Caddy Maxi Life', 'Caravelle', 'Touareg', 'Arteon', 'Touran',\n",
              "       'Golf SV', 'Amarok', 'Tiguan Allspace', 'Shuttle', 'CC'],\n",
              "      dtype=object)"
            ]
          },
          "metadata": {},
          "execution_count": 42
        }
      ]
    },
    {
      "cell_type": "markdown",
      "source": [
        "En este punto lo que he realizado es un bucle `for` el cual recorre el array creado en el punto anterior y sustituye en el dataframe el modelo por su correspondiente indice del array anterior."
      ],
      "metadata": {
        "id": "t1L6qDFtC6gO"
      }
    },
    {
      "cell_type": "code",
      "source": [
        "\"\"\" \n",
        "  Sustituimos el nombre de modelo por el indice del array que se le asigna en\n",
        "  el filtro que hemos realizado con el metodo .unique.\n",
        "\n",
        "  También vamos a pasar los los indices y valores a una lista, para despues\n",
        "  convertirla en diccionario y poder usarla en el selector de coches durante\n",
        "  el despliegue\n",
        "\n",
        "\"\"\"\n",
        "car_list = []\n",
        "\n",
        "for index, model in enumerate(modelos_unicos):\n",
        "    cars_clean.loc[cars_clean['model'] == model, 'model'] = index\n",
        "    car_list.append((index, model))\n"
      ],
      "metadata": {
        "id": "TnQXOCSOEzQP",
        "colab": {
          "base_uri": "https://localhost:8080/"
        },
        "outputId": "4a6cfcf2-1b56-465e-d245-8b441c36cf14"
      },
      "execution_count": null,
      "outputs": [
        {
          "output_type": "stream",
          "name": "stderr",
          "text": [
            "/usr/local/lib/python3.8/dist-packages/pandas/core/indexing.py:1817: SettingWithCopyWarning: \n",
            "A value is trying to be set on a copy of a slice from a DataFrame.\n",
            "Try using .loc[row_indexer,col_indexer] = value instead\n",
            "\n",
            "See the caveats in the documentation: https://pandas.pydata.org/pandas-docs/stable/user_guide/indexing.html#returning-a-view-versus-a-copy\n",
            "  self._setitem_single_column(loc, value, pi)\n"
          ]
        }
      ]
    },
    {
      "cell_type": "code",
      "source": [
        "dic_cars = dict(car_list)\n",
        "dic_cars"
      ],
      "metadata": {
        "colab": {
          "base_uri": "https://localhost:8080/"
        },
        "id": "u4tmrmP4l5c_",
        "outputId": "77b1a19e-2910-4f58-8ec9-ca9ff41bbf8b"
      },
      "execution_count": null,
      "outputs": [
        {
          "output_type": "execute_result",
          "data": {
            "text/plain": [
              "{0: 'A1',\n",
              " 1: 'A6',\n",
              " 2: 'A4',\n",
              " 3: 'A3',\n",
              " 4: 'Q3',\n",
              " 5: 'Q5',\n",
              " 6: 'A5',\n",
              " 7: 'Q2',\n",
              " 8: 'A7',\n",
              " 9: 'TT',\n",
              " 10: 'Q7',\n",
              " 11: 'A8',\n",
              " 12: 'Q8',\n",
              " 13: '5 Series',\n",
              " 14: '6 Series',\n",
              " 15: '1 Series',\n",
              " 16: '7 Series',\n",
              " 17: '2 Series',\n",
              " 18: '4 Series',\n",
              " 19: 'X3',\n",
              " 20: '3 Series',\n",
              " 21: 'X5',\n",
              " 22: 'X4',\n",
              " 23: 'X1',\n",
              " 24: 'M4',\n",
              " 25: 'X2',\n",
              " 26: 'X6',\n",
              " 27: 'Z4',\n",
              " 28: 'X7',\n",
              " 29: 'Fiesta',\n",
              " 30: 'Focus',\n",
              " 31: 'Puma',\n",
              " 32: 'Kuga',\n",
              " 33: 'EcoSport',\n",
              " 34: 'C-MAX',\n",
              " 35: 'Mondeo',\n",
              " 36: 'Ka+',\n",
              " 37: 'Tourneo Custom',\n",
              " 38: 'S-MAX',\n",
              " 39: 'B-MAX',\n",
              " 40: 'Edge',\n",
              " 41: 'Grand C-MAX',\n",
              " 42: 'KA',\n",
              " 43: 'Galaxy',\n",
              " 44: 'Mustang',\n",
              " 45: 'Grand Tourneo Connect',\n",
              " 46: 'I20',\n",
              " 47: 'Tucson',\n",
              " 48: 'I10',\n",
              " 49: 'IX35',\n",
              " 50: 'I30',\n",
              " 51: 'I40',\n",
              " 52: 'Ioniq',\n",
              " 53: 'Kona',\n",
              " 54: 'I800',\n",
              " 55: 'IX20',\n",
              " 56: 'Santa Fe',\n",
              " 57: 'SLK',\n",
              " 58: 'S Class',\n",
              " 59: 'SL CLASS',\n",
              " 60: 'GLE Class',\n",
              " 61: 'GLA Class',\n",
              " 62: 'A Class',\n",
              " 63: 'B Class',\n",
              " 64: 'GLC Class',\n",
              " 65: 'C Class',\n",
              " 66: 'E Class',\n",
              " 67: 'GL Class',\n",
              " 68: 'CLS Class',\n",
              " 69: 'CLA Class',\n",
              " 70: 'V Class',\n",
              " 71: 'M Class',\n",
              " 72: 'CL Class',\n",
              " 73: 'GLS Class',\n",
              " 74: 'X-CLASS',\n",
              " 75: 'Octavia',\n",
              " 76: 'Citigo',\n",
              " 77: 'Yeti Outdoor',\n",
              " 78: 'Superb',\n",
              " 79: 'Kodiaq',\n",
              " 80: 'Rapid',\n",
              " 81: 'Karoq',\n",
              " 82: 'Fabia',\n",
              " 83: 'Yeti',\n",
              " 84: 'Scala',\n",
              " 85: 'Kamiq',\n",
              " 86: 'GT86',\n",
              " 87: 'Corolla',\n",
              " 88: 'RAV4',\n",
              " 89: 'Yaris',\n",
              " 90: 'Auris',\n",
              " 91: 'Aygo',\n",
              " 92: 'C-HR',\n",
              " 93: 'Prius',\n",
              " 94: 'Avensis',\n",
              " 95: 'Verso',\n",
              " 96: 'Hilux',\n",
              " 97: 'Land Cruiser',\n",
              " 98: 'Corsa',\n",
              " 99: 'Astra',\n",
              " 100: 'Viva',\n",
              " 101: 'Mokka',\n",
              " 102: 'Mokka X',\n",
              " 103: 'Crossland X',\n",
              " 104: 'Zafira',\n",
              " 105: 'Meriva',\n",
              " 106: 'Zafira Tourer',\n",
              " 107: 'Adam',\n",
              " 108: 'Grandland X',\n",
              " 109: 'Insignia',\n",
              " 110: 'GTC',\n",
              " 111: 'Combo Life',\n",
              " 112: 'T-Roc',\n",
              " 113: 'Golf',\n",
              " 114: 'Passat',\n",
              " 115: 'T-Cross',\n",
              " 116: 'Polo',\n",
              " 117: 'Tiguan',\n",
              " 118: 'Sharan',\n",
              " 119: 'Up',\n",
              " 120: 'Scirocco',\n",
              " 121: 'Beetle',\n",
              " 122: 'Caddy Maxi Life',\n",
              " 123: 'Caravelle',\n",
              " 124: 'Touareg',\n",
              " 125: 'Arteon',\n",
              " 126: 'Touran',\n",
              " 127: 'Golf SV',\n",
              " 128: 'Amarok',\n",
              " 129: 'Tiguan Allspace',\n",
              " 130: 'Shuttle',\n",
              " 131: 'CC'}"
            ]
          },
          "metadata": {},
          "execution_count": 44
        }
      ]
    },
    {
      "cell_type": "code",
      "source": [
        "# exportamos el diccionario\n",
        "joblib.dump(dic_cars, 'diccionario_coches.pkl')"
      ],
      "metadata": {
        "colab": {
          "base_uri": "https://localhost:8080/"
        },
        "id": "s46DzpCMB0xh",
        "outputId": "bbe5ea28-2a63-4699-e5ad-9f775f54ffc0"
      },
      "execution_count": null,
      "outputs": [
        {
          "output_type": "execute_result",
          "data": {
            "text/plain": [
              "['diccionario_coches.pkl']"
            ]
          },
          "metadata": {},
          "execution_count": 45
        }
      ]
    },
    {
      "cell_type": "markdown",
      "source": [
        "Selector de indice para el cambio de variable de nombre a indice en el formulario de seleccion de vehiculo"
      ],
      "metadata": {
        "id": "aVx2coS-pTSg"
      }
    },
    {
      "cell_type": "code",
      "source": [
        "coche_prueba = 'A1'\n",
        "\n",
        "for index, coche in dic_cars.items():\n",
        "  if coche == coche_prueba:\n",
        "    print(index)"
      ],
      "metadata": {
        "colab": {
          "base_uri": "https://localhost:8080/"
        },
        "id": "hC0O2hvEoJQ4",
        "outputId": "e21eed71-ae1a-4f52-bff2-990a70682fa6"
      },
      "execution_count": null,
      "outputs": [
        {
          "output_type": "stream",
          "name": "stdout",
          "text": [
            "0\n"
          ]
        }
      ]
    },
    {
      "cell_type": "markdown",
      "source": [
        "Ahora vamos a realizar las mismas operaciones pero sobre las columnas `transmission` y `fueltType`"
      ],
      "metadata": {
        "id": "GXJFG5VlDqZz"
      }
    },
    {
      "cell_type": "code",
      "source": [
        "cars_clean['transmission'].unique()"
      ],
      "metadata": {
        "colab": {
          "base_uri": "https://localhost:8080/"
        },
        "id": "xGTI5RgdDp8k",
        "outputId": "b6d91049-6c14-4a8d-a2e3-a7f1cddb98e8"
      },
      "execution_count": null,
      "outputs": [
        {
          "output_type": "execute_result",
          "data": {
            "text/plain": [
              "array(['Manual', 'Automatic', 'Semi-Auto', 'Other'], dtype=object)"
            ]
          },
          "metadata": {},
          "execution_count": 47
        }
      ]
    },
    {
      "cell_type": "code",
      "source": [
        "cars_clean['fuelType'].unique()"
      ],
      "metadata": {
        "colab": {
          "base_uri": "https://localhost:8080/"
        },
        "id": "N56xuDLUD_zf",
        "outputId": "dbc166c2-ed77-4876-87c6-c514e0a3b7a8"
      },
      "execution_count": null,
      "outputs": [
        {
          "output_type": "execute_result",
          "data": {
            "text/plain": [
              "array(['Petrol', 'Diesel', 'Hybrid', 'Other', 'Electric'], dtype=object)"
            ]
          },
          "metadata": {},
          "execution_count": 48
        }
      ]
    },
    {
      "cell_type": "code",
      "source": [
        "cars_clean.replace({'Electric': 0,\n",
        "              'Diesel': 1,\n",
        "              'Hybrid': 2,\n",
        "              'Petrol': 3,\n",
        "              'Other': 4,\n",
        "              'Manual': 0, \n",
        "              'Automatic': 1,\n",
        "              'Semi-Auto': 2,\n",
        "              'Other': 3}, inplace = True)"
      ],
      "metadata": {
        "id": "fdxuOj9ndjsa",
        "colab": {
          "base_uri": "https://localhost:8080/"
        },
        "outputId": "81439ee9-2a8e-41f5-dad6-0ac9abd9af3b"
      },
      "execution_count": null,
      "outputs": [
        {
          "output_type": "stream",
          "name": "stderr",
          "text": [
            "/usr/local/lib/python3.8/dist-packages/pandas/core/frame.py:5238: SettingWithCopyWarning: \n",
            "A value is trying to be set on a copy of a slice from a DataFrame\n",
            "\n",
            "See the caveats in the documentation: https://pandas.pydata.org/pandas-docs/stable/user_guide/indexing.html#returning-a-view-versus-a-copy\n",
            "  return super().replace(\n"
          ]
        }
      ]
    },
    {
      "cell_type": "markdown",
      "source": [
        "#### Dataframe procesado"
      ],
      "metadata": {
        "id": "LLfZ8j-urEJO"
      }
    },
    {
      "cell_type": "code",
      "source": [
        "cars_clean"
      ],
      "metadata": {
        "id": "hbI2Y96ndnuY",
        "colab": {
          "base_uri": "https://localhost:8080/",
          "height": 424
        },
        "outputId": "5b3bc2da-b15a-45a0-9882-c0899c2c0486"
      },
      "execution_count": null,
      "outputs": [
        {
          "output_type": "execute_result",
          "data": {
            "text/plain": [
              "       model  year  price  transmission  mileage  fuelType    tax   mpg  \\\n",
              "0          0  2017  12500             0    15735         3  150.0  55.4   \n",
              "1          1  2016  16500             1    36203         1   20.0  64.2   \n",
              "2          0  2016  11000             0    29946         3   30.0  55.4   \n",
              "3          2  2017  16800             1    25952         1  145.0  67.3   \n",
              "4          3  2019  17300             0     1998         3  145.0  49.6   \n",
              "...      ...   ...    ...           ...      ...       ...    ...   ...   \n",
              "15108    131  2016  12500             1    32925         1  125.0  58.9   \n",
              "15109    131  2013  10000             1    41394         1  145.0  53.3   \n",
              "15110    131  2012   6695             0    98000         1   30.0  60.1   \n",
              "15111    131  2015  10500             1    47637         1  125.0  58.9   \n",
              "15112    131  2013   8791             0    46000         3  200.0  39.8   \n",
              "\n",
              "       engineSize  \n",
              "0             1.4  \n",
              "1             2.0  \n",
              "2             1.4  \n",
              "3             2.0  \n",
              "4             1.0  \n",
              "...           ...  \n",
              "15108         2.0  \n",
              "15109         2.0  \n",
              "15110         2.0  \n",
              "15111         2.0  \n",
              "15112         1.8  \n",
              "\n",
              "[98423 rows x 9 columns]"
            ],
            "text/html": [
              "\n",
              "  <div id=\"df-f19c6e50-2b21-4e27-80f7-a0d110699de4\">\n",
              "    <div class=\"colab-df-container\">\n",
              "      <div>\n",
              "<style scoped>\n",
              "    .dataframe tbody tr th:only-of-type {\n",
              "        vertical-align: middle;\n",
              "    }\n",
              "\n",
              "    .dataframe tbody tr th {\n",
              "        vertical-align: top;\n",
              "    }\n",
              "\n",
              "    .dataframe thead th {\n",
              "        text-align: right;\n",
              "    }\n",
              "</style>\n",
              "<table border=\"1\" class=\"dataframe\">\n",
              "  <thead>\n",
              "    <tr style=\"text-align: right;\">\n",
              "      <th></th>\n",
              "      <th>model</th>\n",
              "      <th>year</th>\n",
              "      <th>price</th>\n",
              "      <th>transmission</th>\n",
              "      <th>mileage</th>\n",
              "      <th>fuelType</th>\n",
              "      <th>tax</th>\n",
              "      <th>mpg</th>\n",
              "      <th>engineSize</th>\n",
              "    </tr>\n",
              "  </thead>\n",
              "  <tbody>\n",
              "    <tr>\n",
              "      <th>0</th>\n",
              "      <td>0</td>\n",
              "      <td>2017</td>\n",
              "      <td>12500</td>\n",
              "      <td>0</td>\n",
              "      <td>15735</td>\n",
              "      <td>3</td>\n",
              "      <td>150.0</td>\n",
              "      <td>55.4</td>\n",
              "      <td>1.4</td>\n",
              "    </tr>\n",
              "    <tr>\n",
              "      <th>1</th>\n",
              "      <td>1</td>\n",
              "      <td>2016</td>\n",
              "      <td>16500</td>\n",
              "      <td>1</td>\n",
              "      <td>36203</td>\n",
              "      <td>1</td>\n",
              "      <td>20.0</td>\n",
              "      <td>64.2</td>\n",
              "      <td>2.0</td>\n",
              "    </tr>\n",
              "    <tr>\n",
              "      <th>2</th>\n",
              "      <td>0</td>\n",
              "      <td>2016</td>\n",
              "      <td>11000</td>\n",
              "      <td>0</td>\n",
              "      <td>29946</td>\n",
              "      <td>3</td>\n",
              "      <td>30.0</td>\n",
              "      <td>55.4</td>\n",
              "      <td>1.4</td>\n",
              "    </tr>\n",
              "    <tr>\n",
              "      <th>3</th>\n",
              "      <td>2</td>\n",
              "      <td>2017</td>\n",
              "      <td>16800</td>\n",
              "      <td>1</td>\n",
              "      <td>25952</td>\n",
              "      <td>1</td>\n",
              "      <td>145.0</td>\n",
              "      <td>67.3</td>\n",
              "      <td>2.0</td>\n",
              "    </tr>\n",
              "    <tr>\n",
              "      <th>4</th>\n",
              "      <td>3</td>\n",
              "      <td>2019</td>\n",
              "      <td>17300</td>\n",
              "      <td>0</td>\n",
              "      <td>1998</td>\n",
              "      <td>3</td>\n",
              "      <td>145.0</td>\n",
              "      <td>49.6</td>\n",
              "      <td>1.0</td>\n",
              "    </tr>\n",
              "    <tr>\n",
              "      <th>...</th>\n",
              "      <td>...</td>\n",
              "      <td>...</td>\n",
              "      <td>...</td>\n",
              "      <td>...</td>\n",
              "      <td>...</td>\n",
              "      <td>...</td>\n",
              "      <td>...</td>\n",
              "      <td>...</td>\n",
              "      <td>...</td>\n",
              "    </tr>\n",
              "    <tr>\n",
              "      <th>15108</th>\n",
              "      <td>131</td>\n",
              "      <td>2016</td>\n",
              "      <td>12500</td>\n",
              "      <td>1</td>\n",
              "      <td>32925</td>\n",
              "      <td>1</td>\n",
              "      <td>125.0</td>\n",
              "      <td>58.9</td>\n",
              "      <td>2.0</td>\n",
              "    </tr>\n",
              "    <tr>\n",
              "      <th>15109</th>\n",
              "      <td>131</td>\n",
              "      <td>2013</td>\n",
              "      <td>10000</td>\n",
              "      <td>1</td>\n",
              "      <td>41394</td>\n",
              "      <td>1</td>\n",
              "      <td>145.0</td>\n",
              "      <td>53.3</td>\n",
              "      <td>2.0</td>\n",
              "    </tr>\n",
              "    <tr>\n",
              "      <th>15110</th>\n",
              "      <td>131</td>\n",
              "      <td>2012</td>\n",
              "      <td>6695</td>\n",
              "      <td>0</td>\n",
              "      <td>98000</td>\n",
              "      <td>1</td>\n",
              "      <td>30.0</td>\n",
              "      <td>60.1</td>\n",
              "      <td>2.0</td>\n",
              "    </tr>\n",
              "    <tr>\n",
              "      <th>15111</th>\n",
              "      <td>131</td>\n",
              "      <td>2015</td>\n",
              "      <td>10500</td>\n",
              "      <td>1</td>\n",
              "      <td>47637</td>\n",
              "      <td>1</td>\n",
              "      <td>125.0</td>\n",
              "      <td>58.9</td>\n",
              "      <td>2.0</td>\n",
              "    </tr>\n",
              "    <tr>\n",
              "      <th>15112</th>\n",
              "      <td>131</td>\n",
              "      <td>2013</td>\n",
              "      <td>8791</td>\n",
              "      <td>0</td>\n",
              "      <td>46000</td>\n",
              "      <td>3</td>\n",
              "      <td>200.0</td>\n",
              "      <td>39.8</td>\n",
              "      <td>1.8</td>\n",
              "    </tr>\n",
              "  </tbody>\n",
              "</table>\n",
              "<p>98423 rows × 9 columns</p>\n",
              "</div>\n",
              "      <button class=\"colab-df-convert\" onclick=\"convertToInteractive('df-f19c6e50-2b21-4e27-80f7-a0d110699de4')\"\n",
              "              title=\"Convert this dataframe to an interactive table.\"\n",
              "              style=\"display:none;\">\n",
              "        \n",
              "  <svg xmlns=\"http://www.w3.org/2000/svg\" height=\"24px\"viewBox=\"0 0 24 24\"\n",
              "       width=\"24px\">\n",
              "    <path d=\"M0 0h24v24H0V0z\" fill=\"none\"/>\n",
              "    <path d=\"M18.56 5.44l.94 2.06.94-2.06 2.06-.94-2.06-.94-.94-2.06-.94 2.06-2.06.94zm-11 1L8.5 8.5l.94-2.06 2.06-.94-2.06-.94L8.5 2.5l-.94 2.06-2.06.94zm10 10l.94 2.06.94-2.06 2.06-.94-2.06-.94-.94-2.06-.94 2.06-2.06.94z\"/><path d=\"M17.41 7.96l-1.37-1.37c-.4-.4-.92-.59-1.43-.59-.52 0-1.04.2-1.43.59L10.3 9.45l-7.72 7.72c-.78.78-.78 2.05 0 2.83L4 21.41c.39.39.9.59 1.41.59.51 0 1.02-.2 1.41-.59l7.78-7.78 2.81-2.81c.8-.78.8-2.07 0-2.86zM5.41 20L4 18.59l7.72-7.72 1.47 1.35L5.41 20z\"/>\n",
              "  </svg>\n",
              "      </button>\n",
              "      \n",
              "  <style>\n",
              "    .colab-df-container {\n",
              "      display:flex;\n",
              "      flex-wrap:wrap;\n",
              "      gap: 12px;\n",
              "    }\n",
              "\n",
              "    .colab-df-convert {\n",
              "      background-color: #E8F0FE;\n",
              "      border: none;\n",
              "      border-radius: 50%;\n",
              "      cursor: pointer;\n",
              "      display: none;\n",
              "      fill: #1967D2;\n",
              "      height: 32px;\n",
              "      padding: 0 0 0 0;\n",
              "      width: 32px;\n",
              "    }\n",
              "\n",
              "    .colab-df-convert:hover {\n",
              "      background-color: #E2EBFA;\n",
              "      box-shadow: 0px 1px 2px rgba(60, 64, 67, 0.3), 0px 1px 3px 1px rgba(60, 64, 67, 0.15);\n",
              "      fill: #174EA6;\n",
              "    }\n",
              "\n",
              "    [theme=dark] .colab-df-convert {\n",
              "      background-color: #3B4455;\n",
              "      fill: #D2E3FC;\n",
              "    }\n",
              "\n",
              "    [theme=dark] .colab-df-convert:hover {\n",
              "      background-color: #434B5C;\n",
              "      box-shadow: 0px 1px 3px 1px rgba(0, 0, 0, 0.15);\n",
              "      filter: drop-shadow(0px 1px 2px rgba(0, 0, 0, 0.3));\n",
              "      fill: #FFFFFF;\n",
              "    }\n",
              "  </style>\n",
              "\n",
              "      <script>\n",
              "        const buttonEl =\n",
              "          document.querySelector('#df-f19c6e50-2b21-4e27-80f7-a0d110699de4 button.colab-df-convert');\n",
              "        buttonEl.style.display =\n",
              "          google.colab.kernel.accessAllowed ? 'block' : 'none';\n",
              "\n",
              "        async function convertToInteractive(key) {\n",
              "          const element = document.querySelector('#df-f19c6e50-2b21-4e27-80f7-a0d110699de4');\n",
              "          const dataTable =\n",
              "            await google.colab.kernel.invokeFunction('convertToInteractive',\n",
              "                                                     [key], {});\n",
              "          if (!dataTable) return;\n",
              "\n",
              "          const docLinkHtml = 'Like what you see? Visit the ' +\n",
              "            '<a target=\"_blank\" href=https://colab.research.google.com/notebooks/data_table.ipynb>data table notebook</a>'\n",
              "            + ' to learn more about interactive tables.';\n",
              "          element.innerHTML = '';\n",
              "          dataTable['output_type'] = 'display_data';\n",
              "          await google.colab.output.renderOutput(dataTable, element);\n",
              "          const docLink = document.createElement('div');\n",
              "          docLink.innerHTML = docLinkHtml;\n",
              "          element.appendChild(docLink);\n",
              "        }\n",
              "      </script>\n",
              "    </div>\n",
              "  </div>\n",
              "  "
            ]
          },
          "metadata": {},
          "execution_count": 50
        }
      ]
    },
    {
      "cell_type": "markdown",
      "source": [
        "### Entrenamiento del modelo"
      ],
      "metadata": {
        "id": "8lm4zArEDVCG"
      }
    },
    {
      "cell_type": "code",
      "source": [
        "y = cars_clean['price']"
      ],
      "metadata": {
        "id": "WaUk6N2Hz-4o"
      },
      "execution_count": null,
      "outputs": []
    },
    {
      "cell_type": "code",
      "source": [
        "X = cars_clean.drop(['price'], axis = 1)"
      ],
      "metadata": {
        "id": "352SoZxg0DfL"
      },
      "execution_count": null,
      "outputs": []
    },
    {
      "cell_type": "markdown",
      "source": [
        "Separamos los valores para test y para entrenamiento\n"
      ],
      "metadata": {
        "id": "B9QfSV8w_r14"
      }
    },
    {
      "cell_type": "code",
      "source": [
        "X_train, X_test, y_train, y_test = tts(X, y, test_size = 0.40)"
      ],
      "metadata": {
        "id": "H71INgP1z5KL"
      },
      "execution_count": null,
      "outputs": []
    },
    {
      "cell_type": "code",
      "source": [
        "# Entrenamiento del modelo\n",
        "coches_rf = RandomForestRegressor().fit(X_train.values, y_train.values)\n",
        "\n",
        "print('Proceso de entrenamiento completado')"
      ],
      "metadata": {
        "colab": {
          "base_uri": "https://localhost:8080/"
        },
        "id": "Ts-vyTOc0RlX",
        "outputId": "08399ff9-c9c6-45a7-ecc5-da66f025728c"
      },
      "execution_count": null,
      "outputs": [
        {
          "output_type": "stream",
          "name": "stdout",
          "text": [
            "Proceso de entrenamiento completado\n"
          ]
        }
      ]
    },
    {
      "cell_type": "code",
      "source": [
        "# Predicción, ahora le pasamos los datos que tenemos para probar el modelo\n",
        "\n",
        "\"\"\"\n",
        "  Nombramos la nueva variable como y_pred, puesto que lo que obtenemos es un\n",
        "  ouput, el cual hemos denominado como y, y así queda mas claro.\n",
        "\n",
        "\"\"\"\n",
        "y_pred_rf = coches_rf.predict(X_test.values)\n",
        "\n",
        "# Precios obtenidos al comienzo del entrenamiento\n",
        "\n",
        "\"\"\"\n",
        "  Ahora lo que vamos a hacer es pasar el array y_test a una lista,\n",
        "  para despues recorrerla con un for\n",
        "\n",
        "\"\"\"\n",
        "\n",
        "y_test_array_rf = y_test.values\n",
        "\n",
        "print(\"Prec. real  Prec. estimado  Error absoluto\")\n",
        "for price in range(10):\n",
        "  real_price = y_pred_rf[price]\n",
        "  estim_price = y_test_array_rf[price]\n",
        "  error_abs = abs(real_price - estim_price)\n",
        "  print(f\"{real_price:6.2f} {estim_price:12.2f} {error_abs:16.2f}\")"
      ],
      "metadata": {
        "colab": {
          "base_uri": "https://localhost:8080/"
        },
        "id": "brv8Uk4_0vP_",
        "outputId": "9235406d-4446-486f-cc70-3ae9393651f3"
      },
      "execution_count": null,
      "outputs": [
        {
          "output_type": "stream",
          "name": "stdout",
          "text": [
            "Prec. real  Prec. estimado  Error absoluto\n",
            "15700.14     14100.00          1600.14\n",
            "11215.45     10660.00           555.45\n",
            "7112.20      7695.00           582.80\n",
            "18125.23     19300.00          1174.77\n",
            "13401.86     14000.00           598.14\n",
            "51076.83     54599.00          3522.17\n",
            "21215.19     21480.00           264.81\n",
            "30088.79     30299.00           210.21\n",
            "18983.45     18490.00           493.45\n",
            "10492.02      9671.00           821.02\n"
          ]
        }
      ]
    },
    {
      "cell_type": "code",
      "source": [
        "# Error\n",
        "print(\"Error cuadrático medio: %.2f\" % mean_squared_error(y_test_array_rf, \n",
        "                                                          y_pred_rf, \n",
        "                                                          squared=False))\n",
        "\n",
        "# Coeficiente de determinación: 1 es una predicción perfecta\n",
        "print(\"Coeficiente de determinación: %.2f\" % r2_score(y_test_array_rf, y_pred_rf))"
      ],
      "metadata": {
        "colab": {
          "base_uri": "https://localhost:8080/"
        },
        "id": "71A6kaSZ0d5-",
        "outputId": "521358fc-3541-430d-b59f-00f55b6df21f"
      },
      "execution_count": null,
      "outputs": [
        {
          "output_type": "stream",
          "name": "stdout",
          "text": [
            "Error cuadrático medio: 1994.62\n",
            "Coeficiente de determinación: 0.96\n"
          ]
        }
      ]
    },
    {
      "cell_type": "code",
      "source": [
        "car = coches_rf.predict([[62, 2018, 1, 29056, 1, 165, 58, 1.5]])\n",
        "car"
      ],
      "metadata": {
        "colab": {
          "base_uri": "https://localhost:8080/"
        },
        "id": "DUWDEaUCs0IZ",
        "outputId": "e4ac472e-a27c-4500-f657-637b760678bf"
      },
      "execution_count": null,
      "outputs": [
        {
          "output_type": "execute_result",
          "data": {
            "text/plain": [
              "array([16279.05])"
            ]
          },
          "metadata": {},
          "execution_count": 57
        }
      ]
    },
    {
      "cell_type": "code",
      "source": [
        "plt.style.use('dark_background')\n",
        "fig, ax = plt.subplots(figsize = (15, 7))\n",
        "\n",
        "ax.set_xlabel(\"Predicted price\")\n",
        "ax.set_ylabel(\"Actual price\")\n",
        "ax.set_title(\"Representaciópn grafica del modelo\")\n",
        "\n",
        "sns.regplot(x = y_test_array_rf,\n",
        "            y = y_pred_rf,\n",
        "            color = '#34495E', \n",
        "            scatter_kws={'alpha': 1, 'edgecolor': '#196F3D'}, \n",
        "            line_kws={\"color\": \"orange\"})\n",
        "\n",
        "ax.legend(['Regresion', 'Price']);"
      ],
      "metadata": {
        "colab": {
          "base_uri": "https://localhost:8080/",
          "height": 54
        },
        "id": "qs2yxxOL02al",
        "outputId": "4ed2e940-f73e-4e12-e07d-1741848eef0b"
      },
      "execution_count": null,
      "outputs": [
        {
          "output_type": "display_data",
          "data": {
            "text/plain": [
              "<Figure size 1080x504 with 1 Axes>"
            ],
            "image/png": "[encoded data removed]"
          },
          "metadata": {}
        }
      ]
    },
    {
      "cell_type": "markdown",
      "source": [
        "## Exportación del modelo"
      ],
      "metadata": {
        "id": "pZr5r4doBHaO"
      }
    },
    {
      "cell_type": "code",
      "source": [
        "joblib.dump(coches_rf, 'cars_fit_model.pkl', compress=9)"
      ],
      "metadata": {
        "colab": {
          "base_uri": "https://localhost:8080/"
        },
        "id": "5YH_zvJdBGbF",
        "outputId": "c9fd90bd-d8cf-4f61-dd47-cf960832dd17"
      },
      "execution_count": null,
      "outputs": [
        {
          "output_type": "execute_result",
          "data": {
            "text/plain": [
              "['cars_fit_model.pkl']"
            ]
          },
          "metadata": {},
          "execution_count": 59
        }
      ]
    }
  ]
}
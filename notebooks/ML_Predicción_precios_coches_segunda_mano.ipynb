{
  "nbformat": 4,
  "nbformat_minor": 0,
  "metadata": {
    "colab": {
      "provenance": [],
      "mount_file_id": "1wTE82oG--Vm25SuQyaUK4schBtaXfma_",
      "authorship_tag": "ABX9TyNMNdYX/ObAfkWbezhFQfr/",
      "include_colab_link": true
    },
    "kernelspec": {
      "name": "python3",
      "display_name": "Python 3"
    },
    "language_info": {
      "name": "python"
    }
  },
  "cells": [
    {
      "cell_type": "markdown",
      "metadata": {
        "id": "view-in-github",
        "colab_type": "text"
      },
      "source": [
        "<a href=\"https://colab.research.google.com/github/Legodark/cars_predicts_price/blob/import/notebooks/ML_Predicci%C3%B3n_precios_coches_segunda_mano.ipynb\" target=\"_parent\"><img src=\"https://colab.research.google.com/assets/colab-badge.svg\" alt=\"Open In Colab\"/></a>"
      ]
    },
    {
      "cell_type": "markdown",
      "source": [
        "Cargamos las librerias"
      ],
      "metadata": {
        "id": "L-8tPHIfBl2k"
      }
    },
    {
      "cell_type": "code",
      "execution_count": 1,
      "metadata": {
        "id": "eOmk7oNE83cs"
      },
      "outputs": [],
      "source": [
        "import numpy as np\n",
        "import pandas as pd\n",
        "import joblib\n",
        "\n",
        "import matplotlib.pyplot as plt\n",
        "import seaborn as sns\n",
        "\n",
        "from sklearn.metrics import mean_squared_error, r2_score\n",
        "from sklearn.model_selection import train_test_split as tts\n",
        "from sklearn.ensemble import RandomForestRegressor    "
      ]
    },
    {
      "cell_type": "markdown",
      "source": [
        "Cargamos los datasets"
      ],
      "metadata": {
        "id": "gj366VO-Bkh3"
      }
    },
    {
      "cell_type": "code",
      "source": [
        "# Carga de datasets\n",
        "\n",
        "filepatch_audi = ('/content/drive/MyDrive/Personal/Proyecto_Coches/datasets/audi.csv') \n",
        "filepatch_bmw = ('/content/drive/MyDrive/Personal/Proyecto_Coches/datasets/bmw.csv')\n",
        "filepatch_ford = ('/content/drive/MyDrive/Personal/Proyecto_Coches/datasets/ford.csv')\n",
        "filepatch_hyundai = ('/content/drive/MyDrive/Personal/Proyecto_Coches/datasets/hyundi.csv')\n",
        "filepatch_mercedes = ('/content/drive/MyDrive/Personal/Proyecto_Coches/datasets/merc.csv')\n",
        "filepatch_skoda = ('/content/drive/MyDrive/Personal/Proyecto_Coches/datasets/skoda.csv')\n",
        "filepatch_toyota = ('/content/drive/MyDrive/Personal/Proyecto_Coches/datasets/toyota.csv')\n",
        "filepatch_vauxhall = ('/content/drive/MyDrive/Personal/Proyecto_Coches/datasets/vauxhall.csv')\n",
        "filepatch_vw = ('/content/drive/MyDrive/Personal/Proyecto_Coches/datasets/vw.csv')\n",
        "\n",
        "dfaudi = pd.read_csv(filepatch_audi)\n",
        "dfbmw = pd.read_csv(filepatch_bmw)\n",
        "dfford = pd.read_csv(filepatch_ford)\n",
        "dfhyundai = pd.read_csv(filepatch_hyundai)\n",
        "dfmercedes = pd.read_csv(filepatch_mercedes)\n",
        "dfskoda = pd.read_csv(filepatch_skoda)\n",
        "dftoyota = pd.read_csv(filepatch_toyota)\n",
        "dfvauxhall = pd.read_csv(filepatch_vauxhall)\n",
        "dfvw = pd.read_csv(filepatch_vw)"
      ],
      "metadata": {
        "id": "1ODqOHOIGeby"
      },
      "execution_count": 2,
      "outputs": []
    },
    {
      "cell_type": "markdown",
      "source": [
        "#### Unimos los datasets"
      ],
      "metadata": {
        "id": "uXpVEnS_BhzU"
      }
    },
    {
      "cell_type": "code",
      "source": [
        "coches_list = [dfaudi, dfbmw, dfford, dfhyundai, dfmercedes, dfskoda, dftoyota, \n",
        "               dfvauxhall, dfvw]\n",
        "\n",
        "cars = pd.concat(coches_list)"
      ],
      "metadata": {
        "id": "LH2VYmixKB4W"
      },
      "execution_count": 3,
      "outputs": []
    },
    {
      "cell_type": "code",
      "source": [
        "cars"
      ],
      "metadata": {
        "colab": {
          "base_uri": "https://localhost:8080/",
          "height": 423
        },
        "id": "wtVRb893KGSN",
        "outputId": "9fca9bb3-3457-4ff4-df55-879c8489388a"
      },
      "execution_count": 4,
      "outputs": [
        {
          "output_type": "execute_result",
          "data": {
            "text/plain": [
              "      model  year  price transmission  mileage fuelType    tax   mpg  \\\n",
              "0        A1  2017  12500       Manual    15735   Petrol  150.0  55.4   \n",
              "1        A6  2016  16500    Automatic    36203   Diesel   20.0  64.2   \n",
              "2        A1  2016  11000       Manual    29946   Petrol   30.0  55.4   \n",
              "3        A4  2017  16800    Automatic    25952   Diesel  145.0  67.3   \n",
              "4        A3  2019  17300       Manual     1998   Petrol  145.0  49.6   \n",
              "...     ...   ...    ...          ...      ...      ...    ...   ...   \n",
              "15152   Eos  2012   5990       Manual    74000   Diesel  125.0  58.9   \n",
              "15153   Fox  2008   1799       Manual    88102   Petrol  145.0  46.3   \n",
              "15154   Fox  2009   1590       Manual    70000   Petrol  200.0  42.0   \n",
              "15155   Fox  2006   1250       Manual    82704   Petrol  150.0  46.3   \n",
              "15156   Fox  2007   2295       Manual    74000   Petrol  145.0  46.3   \n",
              "\n",
              "       engineSize  tax(£)  \n",
              "0             1.4     NaN  \n",
              "1             2.0     NaN  \n",
              "2             1.4     NaN  \n",
              "3             2.0     NaN  \n",
              "4             1.0     NaN  \n",
              "...           ...     ...  \n",
              "15152         2.0     NaN  \n",
              "15153         1.2     NaN  \n",
              "15154         1.4     NaN  \n",
              "15155         1.2     NaN  \n",
              "15156         1.2     NaN  \n",
              "\n",
              "[99187 rows x 10 columns]"
            ],
            "text/html": [
              "\n",
              "  <div id=\"df-89dc39c1-82fa-435d-ab0f-20ec1a6fc3b5\">\n",
              "    <div class=\"colab-df-container\">\n",
              "      <div>\n",
              "<style scoped>\n",
              "    .dataframe tbody tr th:only-of-type {\n",
              "        vertical-align: middle;\n",
              "    }\n",
              "\n",
              "    .dataframe tbody tr th {\n",
              "        vertical-align: top;\n",
              "    }\n",
              "\n",
              "    .dataframe thead th {\n",
              "        text-align: right;\n",
              "    }\n",
              "</style>\n",
              "<table border=\"1\" class=\"dataframe\">\n",
              "  <thead>\n",
              "    <tr style=\"text-align: right;\">\n",
              "      <th></th>\n",
              "      <th>model</th>\n",
              "      <th>year</th>\n",
              "      <th>price</th>\n",
              "      <th>transmission</th>\n",
              "      <th>mileage</th>\n",
              "      <th>fuelType</th>\n",
              "      <th>tax</th>\n",
              "      <th>mpg</th>\n",
              "      <th>engineSize</th>\n",
              "      <th>tax(£)</th>\n",
              "    </tr>\n",
              "  </thead>\n",
              "  <tbody>\n",
              "    <tr>\n",
              "      <th>0</th>\n",
              "      <td>A1</td>\n",
              "      <td>2017</td>\n",
              "      <td>12500</td>\n",
              "      <td>Manual</td>\n",
              "      <td>15735</td>\n",
              "      <td>Petrol</td>\n",
              "      <td>150.0</td>\n",
              "      <td>55.4</td>\n",
              "      <td>1.4</td>\n",
              "      <td>NaN</td>\n",
              "    </tr>\n",
              "    <tr>\n",
              "      <th>1</th>\n",
              "      <td>A6</td>\n",
              "      <td>2016</td>\n",
              "      <td>16500</td>\n",
              "      <td>Automatic</td>\n",
              "      <td>36203</td>\n",
              "      <td>Diesel</td>\n",
              "      <td>20.0</td>\n",
              "      <td>64.2</td>\n",
              "      <td>2.0</td>\n",
              "      <td>NaN</td>\n",
              "    </tr>\n",
              "    <tr>\n",
              "      <th>2</th>\n",
              "      <td>A1</td>\n",
              "      <td>2016</td>\n",
              "      <td>11000</td>\n",
              "      <td>Manual</td>\n",
              "      <td>29946</td>\n",
              "      <td>Petrol</td>\n",
              "      <td>30.0</td>\n",
              "      <td>55.4</td>\n",
              "      <td>1.4</td>\n",
              "      <td>NaN</td>\n",
              "    </tr>\n",
              "    <tr>\n",
              "      <th>3</th>\n",
              "      <td>A4</td>\n",
              "      <td>2017</td>\n",
              "      <td>16800</td>\n",
              "      <td>Automatic</td>\n",
              "      <td>25952</td>\n",
              "      <td>Diesel</td>\n",
              "      <td>145.0</td>\n",
              "      <td>67.3</td>\n",
              "      <td>2.0</td>\n",
              "      <td>NaN</td>\n",
              "    </tr>\n",
              "    <tr>\n",
              "      <th>4</th>\n",
              "      <td>A3</td>\n",
              "      <td>2019</td>\n",
              "      <td>17300</td>\n",
              "      <td>Manual</td>\n",
              "      <td>1998</td>\n",
              "      <td>Petrol</td>\n",
              "      <td>145.0</td>\n",
              "      <td>49.6</td>\n",
              "      <td>1.0</td>\n",
              "      <td>NaN</td>\n",
              "    </tr>\n",
              "    <tr>\n",
              "      <th>...</th>\n",
              "      <td>...</td>\n",
              "      <td>...</td>\n",
              "      <td>...</td>\n",
              "      <td>...</td>\n",
              "      <td>...</td>\n",
              "      <td>...</td>\n",
              "      <td>...</td>\n",
              "      <td>...</td>\n",
              "      <td>...</td>\n",
              "      <td>...</td>\n",
              "    </tr>\n",
              "    <tr>\n",
              "      <th>15152</th>\n",
              "      <td>Eos</td>\n",
              "      <td>2012</td>\n",
              "      <td>5990</td>\n",
              "      <td>Manual</td>\n",
              "      <td>74000</td>\n",
              "      <td>Diesel</td>\n",
              "      <td>125.0</td>\n",
              "      <td>58.9</td>\n",
              "      <td>2.0</td>\n",
              "      <td>NaN</td>\n",
              "    </tr>\n",
              "    <tr>\n",
              "      <th>15153</th>\n",
              "      <td>Fox</td>\n",
              "      <td>2008</td>\n",
              "      <td>1799</td>\n",
              "      <td>Manual</td>\n",
              "      <td>88102</td>\n",
              "      <td>Petrol</td>\n",
              "      <td>145.0</td>\n",
              "      <td>46.3</td>\n",
              "      <td>1.2</td>\n",
              "      <td>NaN</td>\n",
              "    </tr>\n",
              "    <tr>\n",
              "      <th>15154</th>\n",
              "      <td>Fox</td>\n",
              "      <td>2009</td>\n",
              "      <td>1590</td>\n",
              "      <td>Manual</td>\n",
              "      <td>70000</td>\n",
              "      <td>Petrol</td>\n",
              "      <td>200.0</td>\n",
              "      <td>42.0</td>\n",
              "      <td>1.4</td>\n",
              "      <td>NaN</td>\n",
              "    </tr>\n",
              "    <tr>\n",
              "      <th>15155</th>\n",
              "      <td>Fox</td>\n",
              "      <td>2006</td>\n",
              "      <td>1250</td>\n",
              "      <td>Manual</td>\n",
              "      <td>82704</td>\n",
              "      <td>Petrol</td>\n",
              "      <td>150.0</td>\n",
              "      <td>46.3</td>\n",
              "      <td>1.2</td>\n",
              "      <td>NaN</td>\n",
              "    </tr>\n",
              "    <tr>\n",
              "      <th>15156</th>\n",
              "      <td>Fox</td>\n",
              "      <td>2007</td>\n",
              "      <td>2295</td>\n",
              "      <td>Manual</td>\n",
              "      <td>74000</td>\n",
              "      <td>Petrol</td>\n",
              "      <td>145.0</td>\n",
              "      <td>46.3</td>\n",
              "      <td>1.2</td>\n",
              "      <td>NaN</td>\n",
              "    </tr>\n",
              "  </tbody>\n",
              "</table>\n",
              "<p>99187 rows × 10 columns</p>\n",
              "</div>\n",
              "      <button class=\"colab-df-convert\" onclick=\"convertToInteractive('df-89dc39c1-82fa-435d-ab0f-20ec1a6fc3b5')\"\n",
              "              title=\"Convert this dataframe to an interactive table.\"\n",
              "              style=\"display:none;\">\n",
              "        \n",
              "  <svg xmlns=\"http://www.w3.org/2000/svg\" height=\"24px\"viewBox=\"0 0 24 24\"\n",
              "       width=\"24px\">\n",
              "    <path d=\"M0 0h24v24H0V0z\" fill=\"none\"/>\n",
              "    <path d=\"M18.56 5.44l.94 2.06.94-2.06 2.06-.94-2.06-.94-.94-2.06-.94 2.06-2.06.94zm-11 1L8.5 8.5l.94-2.06 2.06-.94-2.06-.94L8.5 2.5l-.94 2.06-2.06.94zm10 10l.94 2.06.94-2.06 2.06-.94-2.06-.94-.94-2.06-.94 2.06-2.06.94z\"/><path d=\"M17.41 7.96l-1.37-1.37c-.4-.4-.92-.59-1.43-.59-.52 0-1.04.2-1.43.59L10.3 9.45l-7.72 7.72c-.78.78-.78 2.05 0 2.83L4 21.41c.39.39.9.59 1.41.59.51 0 1.02-.2 1.41-.59l7.78-7.78 2.81-2.81c.8-.78.8-2.07 0-2.86zM5.41 20L4 18.59l7.72-7.72 1.47 1.35L5.41 20z\"/>\n",
              "  </svg>\n",
              "      </button>\n",
              "      \n",
              "  <style>\n",
              "    .colab-df-container {\n",
              "      display:flex;\n",
              "      flex-wrap:wrap;\n",
              "      gap: 12px;\n",
              "    }\n",
              "\n",
              "    .colab-df-convert {\n",
              "      background-color: #E8F0FE;\n",
              "      border: none;\n",
              "      border-radius: 50%;\n",
              "      cursor: pointer;\n",
              "      display: none;\n",
              "      fill: #1967D2;\n",
              "      height: 32px;\n",
              "      padding: 0 0 0 0;\n",
              "      width: 32px;\n",
              "    }\n",
              "\n",
              "    .colab-df-convert:hover {\n",
              "      background-color: #E2EBFA;\n",
              "      box-shadow: 0px 1px 2px rgba(60, 64, 67, 0.3), 0px 1px 3px 1px rgba(60, 64, 67, 0.15);\n",
              "      fill: #174EA6;\n",
              "    }\n",
              "\n",
              "    [theme=dark] .colab-df-convert {\n",
              "      background-color: #3B4455;\n",
              "      fill: #D2E3FC;\n",
              "    }\n",
              "\n",
              "    [theme=dark] .colab-df-convert:hover {\n",
              "      background-color: #434B5C;\n",
              "      box-shadow: 0px 1px 3px 1px rgba(0, 0, 0, 0.15);\n",
              "      filter: drop-shadow(0px 1px 2px rgba(0, 0, 0, 0.3));\n",
              "      fill: #FFFFFF;\n",
              "    }\n",
              "  </style>\n",
              "\n",
              "      <script>\n",
              "        const buttonEl =\n",
              "          document.querySelector('#df-89dc39c1-82fa-435d-ab0f-20ec1a6fc3b5 button.colab-df-convert');\n",
              "        buttonEl.style.display =\n",
              "          google.colab.kernel.accessAllowed ? 'block' : 'none';\n",
              "\n",
              "        async function convertToInteractive(key) {\n",
              "          const element = document.querySelector('#df-89dc39c1-82fa-435d-ab0f-20ec1a6fc3b5');\n",
              "          const dataTable =\n",
              "            await google.colab.kernel.invokeFunction('convertToInteractive',\n",
              "                                                     [key], {});\n",
              "          if (!dataTable) return;\n",
              "\n",
              "          const docLinkHtml = 'Like what you see? Visit the ' +\n",
              "            '<a target=\"_blank\" href=https://colab.research.google.com/notebooks/data_table.ipynb>data table notebook</a>'\n",
              "            + ' to learn more about interactive tables.';\n",
              "          element.innerHTML = '';\n",
              "          dataTable['output_type'] = 'display_data';\n",
              "          await google.colab.output.renderOutput(dataTable, element);\n",
              "          const docLink = document.createElement('div');\n",
              "          docLink.innerHTML = docLinkHtml;\n",
              "          element.appendChild(docLink);\n",
              "        }\n",
              "      </script>\n",
              "    </div>\n",
              "  </div>\n",
              "  "
            ]
          },
          "metadata": {},
          "execution_count": 4
        }
      ]
    },
    {
      "cell_type": "markdown",
      "source": [
        "### Tratamiento de los datos"
      ],
      "metadata": {
        "id": "DE1RovZdAusW"
      }
    },
    {
      "cell_type": "markdown",
      "source": [
        "#### Miramos si tenemos nulos"
      ],
      "metadata": {
        "id": "nXANDNCGA4IQ"
      }
    },
    {
      "cell_type": "code",
      "source": [
        "cars.info()"
      ],
      "metadata": {
        "colab": {
          "base_uri": "https://localhost:8080/"
        },
        "id": "iLYkD9pqKRUy",
        "outputId": "358f3fca-0f4e-4cfc-b2c1-82a7cc20d9ed"
      },
      "execution_count": 5,
      "outputs": [
        {
          "output_type": "stream",
          "name": "stdout",
          "text": [
            "<class 'pandas.core.frame.DataFrame'>\n",
            "Int64Index: 99187 entries, 0 to 15156\n",
            "Data columns (total 10 columns):\n",
            " #   Column        Non-Null Count  Dtype  \n",
            "---  ------        --------------  -----  \n",
            " 0   model         99187 non-null  object \n",
            " 1   year          99187 non-null  int64  \n",
            " 2   price         99187 non-null  int64  \n",
            " 3   transmission  99187 non-null  object \n",
            " 4   mileage       99187 non-null  int64  \n",
            " 5   fuelType      99187 non-null  object \n",
            " 6   tax           94327 non-null  float64\n",
            " 7   mpg           99187 non-null  float64\n",
            " 8   engineSize    99187 non-null  float64\n",
            " 9   tax(£)        4860 non-null   float64\n",
            "dtypes: float64(4), int64(3), object(3)\n",
            "memory usage: 8.3+ MB\n"
          ]
        }
      ]
    },
    {
      "cell_type": "code",
      "source": [
        "cars[cars['tax'].isnull()]"
      ],
      "metadata": {
        "colab": {
          "base_uri": "https://localhost:8080/",
          "height": 423
        },
        "id": "ZKmIO7iLbNbb",
        "outputId": "f4186146-71ea-4e27-cf8d-98a5194c01fb"
      },
      "execution_count": 6,
      "outputs": [
        {
          "output_type": "execute_result",
          "data": {
            "text/plain": [
              "        model  year  price transmission  mileage fuelType  tax   mpg  \\\n",
              "0         I20  2017   7999       Manual    17307   Petrol  NaN  58.9   \n",
              "1      Tucson  2016  14499    Automatic    25233   Diesel  NaN  43.5   \n",
              "2      Tucson  2016  11399       Manual    37877   Diesel  NaN  61.7   \n",
              "3         I10  2016   6499       Manual    23789   Petrol  NaN  60.1   \n",
              "4        IX35  2015  10199       Manual    33177   Diesel  NaN  51.4   \n",
              "...       ...   ...    ...          ...      ...      ...  ...   ...   \n",
              "4855      I30  2016   8680       Manual    25906   Diesel  NaN  78.4   \n",
              "4856      I40  2015   7830       Manual    59508   Diesel  NaN  65.7   \n",
              "4857      I10  2017   6830       Manual    13810   Petrol  NaN  60.1   \n",
              "4858   Tucson  2018  13994       Manual    23313   Petrol  NaN  44.8   \n",
              "4859   Tucson  2016  15999    Automatic    11472   Diesel  NaN  57.6   \n",
              "\n",
              "      engineSize  tax(£)  \n",
              "0            1.2   145.0  \n",
              "1            2.0   235.0  \n",
              "2            1.7    30.0  \n",
              "3            1.0    20.0  \n",
              "4            2.0   160.0  \n",
              "...          ...     ...  \n",
              "4855         1.6     0.0  \n",
              "4856         1.7    30.0  \n",
              "4857         1.0    20.0  \n",
              "4858         1.6   145.0  \n",
              "4859         1.7   125.0  \n",
              "\n",
              "[4860 rows x 10 columns]"
            ],
            "text/html": [
              "\n",
              "  <div id=\"df-f63b6989-04fe-4c04-a951-4e2909096adf\">\n",
              "    <div class=\"colab-df-container\">\n",
              "      <div>\n",
              "<style scoped>\n",
              "    .dataframe tbody tr th:only-of-type {\n",
              "        vertical-align: middle;\n",
              "    }\n",
              "\n",
              "    .dataframe tbody tr th {\n",
              "        vertical-align: top;\n",
              "    }\n",
              "\n",
              "    .dataframe thead th {\n",
              "        text-align: right;\n",
              "    }\n",
              "</style>\n",
              "<table border=\"1\" class=\"dataframe\">\n",
              "  <thead>\n",
              "    <tr style=\"text-align: right;\">\n",
              "      <th></th>\n",
              "      <th>model</th>\n",
              "      <th>year</th>\n",
              "      <th>price</th>\n",
              "      <th>transmission</th>\n",
              "      <th>mileage</th>\n",
              "      <th>fuelType</th>\n",
              "      <th>tax</th>\n",
              "      <th>mpg</th>\n",
              "      <th>engineSize</th>\n",
              "      <th>tax(£)</th>\n",
              "    </tr>\n",
              "  </thead>\n",
              "  <tbody>\n",
              "    <tr>\n",
              "      <th>0</th>\n",
              "      <td>I20</td>\n",
              "      <td>2017</td>\n",
              "      <td>7999</td>\n",
              "      <td>Manual</td>\n",
              "      <td>17307</td>\n",
              "      <td>Petrol</td>\n",
              "      <td>NaN</td>\n",
              "      <td>58.9</td>\n",
              "      <td>1.2</td>\n",
              "      <td>145.0</td>\n",
              "    </tr>\n",
              "    <tr>\n",
              "      <th>1</th>\n",
              "      <td>Tucson</td>\n",
              "      <td>2016</td>\n",
              "      <td>14499</td>\n",
              "      <td>Automatic</td>\n",
              "      <td>25233</td>\n",
              "      <td>Diesel</td>\n",
              "      <td>NaN</td>\n",
              "      <td>43.5</td>\n",
              "      <td>2.0</td>\n",
              "      <td>235.0</td>\n",
              "    </tr>\n",
              "    <tr>\n",
              "      <th>2</th>\n",
              "      <td>Tucson</td>\n",
              "      <td>2016</td>\n",
              "      <td>11399</td>\n",
              "      <td>Manual</td>\n",
              "      <td>37877</td>\n",
              "      <td>Diesel</td>\n",
              "      <td>NaN</td>\n",
              "      <td>61.7</td>\n",
              "      <td>1.7</td>\n",
              "      <td>30.0</td>\n",
              "    </tr>\n",
              "    <tr>\n",
              "      <th>3</th>\n",
              "      <td>I10</td>\n",
              "      <td>2016</td>\n",
              "      <td>6499</td>\n",
              "      <td>Manual</td>\n",
              "      <td>23789</td>\n",
              "      <td>Petrol</td>\n",
              "      <td>NaN</td>\n",
              "      <td>60.1</td>\n",
              "      <td>1.0</td>\n",
              "      <td>20.0</td>\n",
              "    </tr>\n",
              "    <tr>\n",
              "      <th>4</th>\n",
              "      <td>IX35</td>\n",
              "      <td>2015</td>\n",
              "      <td>10199</td>\n",
              "      <td>Manual</td>\n",
              "      <td>33177</td>\n",
              "      <td>Diesel</td>\n",
              "      <td>NaN</td>\n",
              "      <td>51.4</td>\n",
              "      <td>2.0</td>\n",
              "      <td>160.0</td>\n",
              "    </tr>\n",
              "    <tr>\n",
              "      <th>...</th>\n",
              "      <td>...</td>\n",
              "      <td>...</td>\n",
              "      <td>...</td>\n",
              "      <td>...</td>\n",
              "      <td>...</td>\n",
              "      <td>...</td>\n",
              "      <td>...</td>\n",
              "      <td>...</td>\n",
              "      <td>...</td>\n",
              "      <td>...</td>\n",
              "    </tr>\n",
              "    <tr>\n",
              "      <th>4855</th>\n",
              "      <td>I30</td>\n",
              "      <td>2016</td>\n",
              "      <td>8680</td>\n",
              "      <td>Manual</td>\n",
              "      <td>25906</td>\n",
              "      <td>Diesel</td>\n",
              "      <td>NaN</td>\n",
              "      <td>78.4</td>\n",
              "      <td>1.6</td>\n",
              "      <td>0.0</td>\n",
              "    </tr>\n",
              "    <tr>\n",
              "      <th>4856</th>\n",
              "      <td>I40</td>\n",
              "      <td>2015</td>\n",
              "      <td>7830</td>\n",
              "      <td>Manual</td>\n",
              "      <td>59508</td>\n",
              "      <td>Diesel</td>\n",
              "      <td>NaN</td>\n",
              "      <td>65.7</td>\n",
              "      <td>1.7</td>\n",
              "      <td>30.0</td>\n",
              "    </tr>\n",
              "    <tr>\n",
              "      <th>4857</th>\n",
              "      <td>I10</td>\n",
              "      <td>2017</td>\n",
              "      <td>6830</td>\n",
              "      <td>Manual</td>\n",
              "      <td>13810</td>\n",
              "      <td>Petrol</td>\n",
              "      <td>NaN</td>\n",
              "      <td>60.1</td>\n",
              "      <td>1.0</td>\n",
              "      <td>20.0</td>\n",
              "    </tr>\n",
              "    <tr>\n",
              "      <th>4858</th>\n",
              "      <td>Tucson</td>\n",
              "      <td>2018</td>\n",
              "      <td>13994</td>\n",
              "      <td>Manual</td>\n",
              "      <td>23313</td>\n",
              "      <td>Petrol</td>\n",
              "      <td>NaN</td>\n",
              "      <td>44.8</td>\n",
              "      <td>1.6</td>\n",
              "      <td>145.0</td>\n",
              "    </tr>\n",
              "    <tr>\n",
              "      <th>4859</th>\n",
              "      <td>Tucson</td>\n",
              "      <td>2016</td>\n",
              "      <td>15999</td>\n",
              "      <td>Automatic</td>\n",
              "      <td>11472</td>\n",
              "      <td>Diesel</td>\n",
              "      <td>NaN</td>\n",
              "      <td>57.6</td>\n",
              "      <td>1.7</td>\n",
              "      <td>125.0</td>\n",
              "    </tr>\n",
              "  </tbody>\n",
              "</table>\n",
              "<p>4860 rows × 10 columns</p>\n",
              "</div>\n",
              "      <button class=\"colab-df-convert\" onclick=\"convertToInteractive('df-f63b6989-04fe-4c04-a951-4e2909096adf')\"\n",
              "              title=\"Convert this dataframe to an interactive table.\"\n",
              "              style=\"display:none;\">\n",
              "        \n",
              "  <svg xmlns=\"http://www.w3.org/2000/svg\" height=\"24px\"viewBox=\"0 0 24 24\"\n",
              "       width=\"24px\">\n",
              "    <path d=\"M0 0h24v24H0V0z\" fill=\"none\"/>\n",
              "    <path d=\"M18.56 5.44l.94 2.06.94-2.06 2.06-.94-2.06-.94-.94-2.06-.94 2.06-2.06.94zm-11 1L8.5 8.5l.94-2.06 2.06-.94-2.06-.94L8.5 2.5l-.94 2.06-2.06.94zm10 10l.94 2.06.94-2.06 2.06-.94-2.06-.94-.94-2.06-.94 2.06-2.06.94z\"/><path d=\"M17.41 7.96l-1.37-1.37c-.4-.4-.92-.59-1.43-.59-.52 0-1.04.2-1.43.59L10.3 9.45l-7.72 7.72c-.78.78-.78 2.05 0 2.83L4 21.41c.39.39.9.59 1.41.59.51 0 1.02-.2 1.41-.59l7.78-7.78 2.81-2.81c.8-.78.8-2.07 0-2.86zM5.41 20L4 18.59l7.72-7.72 1.47 1.35L5.41 20z\"/>\n",
              "  </svg>\n",
              "      </button>\n",
              "      \n",
              "  <style>\n",
              "    .colab-df-container {\n",
              "      display:flex;\n",
              "      flex-wrap:wrap;\n",
              "      gap: 12px;\n",
              "    }\n",
              "\n",
              "    .colab-df-convert {\n",
              "      background-color: #E8F0FE;\n",
              "      border: none;\n",
              "      border-radius: 50%;\n",
              "      cursor: pointer;\n",
              "      display: none;\n",
              "      fill: #1967D2;\n",
              "      height: 32px;\n",
              "      padding: 0 0 0 0;\n",
              "      width: 32px;\n",
              "    }\n",
              "\n",
              "    .colab-df-convert:hover {\n",
              "      background-color: #E2EBFA;\n",
              "      box-shadow: 0px 1px 2px rgba(60, 64, 67, 0.3), 0px 1px 3px 1px rgba(60, 64, 67, 0.15);\n",
              "      fill: #174EA6;\n",
              "    }\n",
              "\n",
              "    [theme=dark] .colab-df-convert {\n",
              "      background-color: #3B4455;\n",
              "      fill: #D2E3FC;\n",
              "    }\n",
              "\n",
              "    [theme=dark] .colab-df-convert:hover {\n",
              "      background-color: #434B5C;\n",
              "      box-shadow: 0px 1px 3px 1px rgba(0, 0, 0, 0.15);\n",
              "      filter: drop-shadow(0px 1px 2px rgba(0, 0, 0, 0.3));\n",
              "      fill: #FFFFFF;\n",
              "    }\n",
              "  </style>\n",
              "\n",
              "      <script>\n",
              "        const buttonEl =\n",
              "          document.querySelector('#df-f63b6989-04fe-4c04-a951-4e2909096adf button.colab-df-convert');\n",
              "        buttonEl.style.display =\n",
              "          google.colab.kernel.accessAllowed ? 'block' : 'none';\n",
              "\n",
              "        async function convertToInteractive(key) {\n",
              "          const element = document.querySelector('#df-f63b6989-04fe-4c04-a951-4e2909096adf');\n",
              "          const dataTable =\n",
              "            await google.colab.kernel.invokeFunction('convertToInteractive',\n",
              "                                                     [key], {});\n",
              "          if (!dataTable) return;\n",
              "\n",
              "          const docLinkHtml = 'Like what you see? Visit the ' +\n",
              "            '<a target=\"_blank\" href=https://colab.research.google.com/notebooks/data_table.ipynb>data table notebook</a>'\n",
              "            + ' to learn more about interactive tables.';\n",
              "          element.innerHTML = '';\n",
              "          dataTable['output_type'] = 'display_data';\n",
              "          await google.colab.output.renderOutput(dataTable, element);\n",
              "          const docLink = document.createElement('div');\n",
              "          docLink.innerHTML = docLinkHtml;\n",
              "          element.appendChild(docLink);\n",
              "        }\n",
              "      </script>\n",
              "    </div>\n",
              "  </div>\n",
              "  "
            ]
          },
          "metadata": {},
          "execution_count": 6
        }
      ]
    },
    {
      "cell_type": "code",
      "source": [
        "cars[cars['tax(£)'].notnull()]"
      ],
      "metadata": {
        "colab": {
          "base_uri": "https://localhost:8080/",
          "height": 423
        },
        "id": "YaseEUBcbPOl",
        "outputId": "1c9c4e21-6908-4d67-979f-d7809800eeb3"
      },
      "execution_count": 7,
      "outputs": [
        {
          "output_type": "execute_result",
          "data": {
            "text/plain": [
              "        model  year  price transmission  mileage fuelType  tax   mpg  \\\n",
              "0         I20  2017   7999       Manual    17307   Petrol  NaN  58.9   \n",
              "1      Tucson  2016  14499    Automatic    25233   Diesel  NaN  43.5   \n",
              "2      Tucson  2016  11399       Manual    37877   Diesel  NaN  61.7   \n",
              "3         I10  2016   6499       Manual    23789   Petrol  NaN  60.1   \n",
              "4        IX35  2015  10199       Manual    33177   Diesel  NaN  51.4   \n",
              "...       ...   ...    ...          ...      ...      ...  ...   ...   \n",
              "4855      I30  2016   8680       Manual    25906   Diesel  NaN  78.4   \n",
              "4856      I40  2015   7830       Manual    59508   Diesel  NaN  65.7   \n",
              "4857      I10  2017   6830       Manual    13810   Petrol  NaN  60.1   \n",
              "4858   Tucson  2018  13994       Manual    23313   Petrol  NaN  44.8   \n",
              "4859   Tucson  2016  15999    Automatic    11472   Diesel  NaN  57.6   \n",
              "\n",
              "      engineSize  tax(£)  \n",
              "0            1.2   145.0  \n",
              "1            2.0   235.0  \n",
              "2            1.7    30.0  \n",
              "3            1.0    20.0  \n",
              "4            2.0   160.0  \n",
              "...          ...     ...  \n",
              "4855         1.6     0.0  \n",
              "4856         1.7    30.0  \n",
              "4857         1.0    20.0  \n",
              "4858         1.6   145.0  \n",
              "4859         1.7   125.0  \n",
              "\n",
              "[4860 rows x 10 columns]"
            ],
            "text/html": [
              "\n",
              "  <div id=\"df-33b47fb0-5b75-42cf-b834-828c50f4a0b8\">\n",
              "    <div class=\"colab-df-container\">\n",
              "      <div>\n",
              "<style scoped>\n",
              "    .dataframe tbody tr th:only-of-type {\n",
              "        vertical-align: middle;\n",
              "    }\n",
              "\n",
              "    .dataframe tbody tr th {\n",
              "        vertical-align: top;\n",
              "    }\n",
              "\n",
              "    .dataframe thead th {\n",
              "        text-align: right;\n",
              "    }\n",
              "</style>\n",
              "<table border=\"1\" class=\"dataframe\">\n",
              "  <thead>\n",
              "    <tr style=\"text-align: right;\">\n",
              "      <th></th>\n",
              "      <th>model</th>\n",
              "      <th>year</th>\n",
              "      <th>price</th>\n",
              "      <th>transmission</th>\n",
              "      <th>mileage</th>\n",
              "      <th>fuelType</th>\n",
              "      <th>tax</th>\n",
              "      <th>mpg</th>\n",
              "      <th>engineSize</th>\n",
              "      <th>tax(£)</th>\n",
              "    </tr>\n",
              "  </thead>\n",
              "  <tbody>\n",
              "    <tr>\n",
              "      <th>0</th>\n",
              "      <td>I20</td>\n",
              "      <td>2017</td>\n",
              "      <td>7999</td>\n",
              "      <td>Manual</td>\n",
              "      <td>17307</td>\n",
              "      <td>Petrol</td>\n",
              "      <td>NaN</td>\n",
              "      <td>58.9</td>\n",
              "      <td>1.2</td>\n",
              "      <td>145.0</td>\n",
              "    </tr>\n",
              "    <tr>\n",
              "      <th>1</th>\n",
              "      <td>Tucson</td>\n",
              "      <td>2016</td>\n",
              "      <td>14499</td>\n",
              "      <td>Automatic</td>\n",
              "      <td>25233</td>\n",
              "      <td>Diesel</td>\n",
              "      <td>NaN</td>\n",
              "      <td>43.5</td>\n",
              "      <td>2.0</td>\n",
              "      <td>235.0</td>\n",
              "    </tr>\n",
              "    <tr>\n",
              "      <th>2</th>\n",
              "      <td>Tucson</td>\n",
              "      <td>2016</td>\n",
              "      <td>11399</td>\n",
              "      <td>Manual</td>\n",
              "      <td>37877</td>\n",
              "      <td>Diesel</td>\n",
              "      <td>NaN</td>\n",
              "      <td>61.7</td>\n",
              "      <td>1.7</td>\n",
              "      <td>30.0</td>\n",
              "    </tr>\n",
              "    <tr>\n",
              "      <th>3</th>\n",
              "      <td>I10</td>\n",
              "      <td>2016</td>\n",
              "      <td>6499</td>\n",
              "      <td>Manual</td>\n",
              "      <td>23789</td>\n",
              "      <td>Petrol</td>\n",
              "      <td>NaN</td>\n",
              "      <td>60.1</td>\n",
              "      <td>1.0</td>\n",
              "      <td>20.0</td>\n",
              "    </tr>\n",
              "    <tr>\n",
              "      <th>4</th>\n",
              "      <td>IX35</td>\n",
              "      <td>2015</td>\n",
              "      <td>10199</td>\n",
              "      <td>Manual</td>\n",
              "      <td>33177</td>\n",
              "      <td>Diesel</td>\n",
              "      <td>NaN</td>\n",
              "      <td>51.4</td>\n",
              "      <td>2.0</td>\n",
              "      <td>160.0</td>\n",
              "    </tr>\n",
              "    <tr>\n",
              "      <th>...</th>\n",
              "      <td>...</td>\n",
              "      <td>...</td>\n",
              "      <td>...</td>\n",
              "      <td>...</td>\n",
              "      <td>...</td>\n",
              "      <td>...</td>\n",
              "      <td>...</td>\n",
              "      <td>...</td>\n",
              "      <td>...</td>\n",
              "      <td>...</td>\n",
              "    </tr>\n",
              "    <tr>\n",
              "      <th>4855</th>\n",
              "      <td>I30</td>\n",
              "      <td>2016</td>\n",
              "      <td>8680</td>\n",
              "      <td>Manual</td>\n",
              "      <td>25906</td>\n",
              "      <td>Diesel</td>\n",
              "      <td>NaN</td>\n",
              "      <td>78.4</td>\n",
              "      <td>1.6</td>\n",
              "      <td>0.0</td>\n",
              "    </tr>\n",
              "    <tr>\n",
              "      <th>4856</th>\n",
              "      <td>I40</td>\n",
              "      <td>2015</td>\n",
              "      <td>7830</td>\n",
              "      <td>Manual</td>\n",
              "      <td>59508</td>\n",
              "      <td>Diesel</td>\n",
              "      <td>NaN</td>\n",
              "      <td>65.7</td>\n",
              "      <td>1.7</td>\n",
              "      <td>30.0</td>\n",
              "    </tr>\n",
              "    <tr>\n",
              "      <th>4857</th>\n",
              "      <td>I10</td>\n",
              "      <td>2017</td>\n",
              "      <td>6830</td>\n",
              "      <td>Manual</td>\n",
              "      <td>13810</td>\n",
              "      <td>Petrol</td>\n",
              "      <td>NaN</td>\n",
              "      <td>60.1</td>\n",
              "      <td>1.0</td>\n",
              "      <td>20.0</td>\n",
              "    </tr>\n",
              "    <tr>\n",
              "      <th>4858</th>\n",
              "      <td>Tucson</td>\n",
              "      <td>2018</td>\n",
              "      <td>13994</td>\n",
              "      <td>Manual</td>\n",
              "      <td>23313</td>\n",
              "      <td>Petrol</td>\n",
              "      <td>NaN</td>\n",
              "      <td>44.8</td>\n",
              "      <td>1.6</td>\n",
              "      <td>145.0</td>\n",
              "    </tr>\n",
              "    <tr>\n",
              "      <th>4859</th>\n",
              "      <td>Tucson</td>\n",
              "      <td>2016</td>\n",
              "      <td>15999</td>\n",
              "      <td>Automatic</td>\n",
              "      <td>11472</td>\n",
              "      <td>Diesel</td>\n",
              "      <td>NaN</td>\n",
              "      <td>57.6</td>\n",
              "      <td>1.7</td>\n",
              "      <td>125.0</td>\n",
              "    </tr>\n",
              "  </tbody>\n",
              "</table>\n",
              "<p>4860 rows × 10 columns</p>\n",
              "</div>\n",
              "      <button class=\"colab-df-convert\" onclick=\"convertToInteractive('df-33b47fb0-5b75-42cf-b834-828c50f4a0b8')\"\n",
              "              title=\"Convert this dataframe to an interactive table.\"\n",
              "              style=\"display:none;\">\n",
              "        \n",
              "  <svg xmlns=\"http://www.w3.org/2000/svg\" height=\"24px\"viewBox=\"0 0 24 24\"\n",
              "       width=\"24px\">\n",
              "    <path d=\"M0 0h24v24H0V0z\" fill=\"none\"/>\n",
              "    <path d=\"M18.56 5.44l.94 2.06.94-2.06 2.06-.94-2.06-.94-.94-2.06-.94 2.06-2.06.94zm-11 1L8.5 8.5l.94-2.06 2.06-.94-2.06-.94L8.5 2.5l-.94 2.06-2.06.94zm10 10l.94 2.06.94-2.06 2.06-.94-2.06-.94-.94-2.06-.94 2.06-2.06.94z\"/><path d=\"M17.41 7.96l-1.37-1.37c-.4-.4-.92-.59-1.43-.59-.52 0-1.04.2-1.43.59L10.3 9.45l-7.72 7.72c-.78.78-.78 2.05 0 2.83L4 21.41c.39.39.9.59 1.41.59.51 0 1.02-.2 1.41-.59l7.78-7.78 2.81-2.81c.8-.78.8-2.07 0-2.86zM5.41 20L4 18.59l7.72-7.72 1.47 1.35L5.41 20z\"/>\n",
              "  </svg>\n",
              "      </button>\n",
              "      \n",
              "  <style>\n",
              "    .colab-df-container {\n",
              "      display:flex;\n",
              "      flex-wrap:wrap;\n",
              "      gap: 12px;\n",
              "    }\n",
              "\n",
              "    .colab-df-convert {\n",
              "      background-color: #E8F0FE;\n",
              "      border: none;\n",
              "      border-radius: 50%;\n",
              "      cursor: pointer;\n",
              "      display: none;\n",
              "      fill: #1967D2;\n",
              "      height: 32px;\n",
              "      padding: 0 0 0 0;\n",
              "      width: 32px;\n",
              "    }\n",
              "\n",
              "    .colab-df-convert:hover {\n",
              "      background-color: #E2EBFA;\n",
              "      box-shadow: 0px 1px 2px rgba(60, 64, 67, 0.3), 0px 1px 3px 1px rgba(60, 64, 67, 0.15);\n",
              "      fill: #174EA6;\n",
              "    }\n",
              "\n",
              "    [theme=dark] .colab-df-convert {\n",
              "      background-color: #3B4455;\n",
              "      fill: #D2E3FC;\n",
              "    }\n",
              "\n",
              "    [theme=dark] .colab-df-convert:hover {\n",
              "      background-color: #434B5C;\n",
              "      box-shadow: 0px 1px 3px 1px rgba(0, 0, 0, 0.15);\n",
              "      filter: drop-shadow(0px 1px 2px rgba(0, 0, 0, 0.3));\n",
              "      fill: #FFFFFF;\n",
              "    }\n",
              "  </style>\n",
              "\n",
              "      <script>\n",
              "        const buttonEl =\n",
              "          document.querySelector('#df-33b47fb0-5b75-42cf-b834-828c50f4a0b8 button.colab-df-convert');\n",
              "        buttonEl.style.display =\n",
              "          google.colab.kernel.accessAllowed ? 'block' : 'none';\n",
              "\n",
              "        async function convertToInteractive(key) {\n",
              "          const element = document.querySelector('#df-33b47fb0-5b75-42cf-b834-828c50f4a0b8');\n",
              "          const dataTable =\n",
              "            await google.colab.kernel.invokeFunction('convertToInteractive',\n",
              "                                                     [key], {});\n",
              "          if (!dataTable) return;\n",
              "\n",
              "          const docLinkHtml = 'Like what you see? Visit the ' +\n",
              "            '<a target=\"_blank\" href=https://colab.research.google.com/notebooks/data_table.ipynb>data table notebook</a>'\n",
              "            + ' to learn more about interactive tables.';\n",
              "          element.innerHTML = '';\n",
              "          dataTable['output_type'] = 'display_data';\n",
              "          await google.colab.output.renderOutput(dataTable, element);\n",
              "          const docLink = document.createElement('div');\n",
              "          docLink.innerHTML = docLinkHtml;\n",
              "          element.appendChild(docLink);\n",
              "        }\n",
              "      </script>\n",
              "    </div>\n",
              "  </div>\n",
              "  "
            ]
          },
          "metadata": {},
          "execution_count": 7
        }
      ]
    },
    {
      "cell_type": "code",
      "source": [
        "cars['mpg'].max()"
      ],
      "metadata": {
        "colab": {
          "base_uri": "https://localhost:8080/"
        },
        "id": "-0jzxF2xugvE",
        "outputId": "b724efd6-0f1a-4b9e-836d-50433a57ee9d"
      },
      "execution_count": 8,
      "outputs": [
        {
          "output_type": "execute_result",
          "data": {
            "text/plain": [
              "470.8"
            ]
          },
          "metadata": {},
          "execution_count": 8
        }
      ]
    },
    {
      "cell_type": "markdown",
      "source": [
        "Como se puede ver tenemos nulos, pero que los datos de tax estan guardados en tax(£), por lo que procedo al copiado de dichos valores a la columna tax y posteriormente borrar la columna tax(£)"
      ],
      "metadata": {
        "id": "vYT55LxFbkKm"
      }
    },
    {
      "cell_type": "code",
      "source": [
        "# Pasamos los datos de tax(£) a tax\n",
        "cars['tax'].fillna(cars['tax(£)'], inplace=True)"
      ],
      "metadata": {
        "id": "Da3NGIlNYgNg"
      },
      "execution_count": 9,
      "outputs": []
    },
    {
      "cell_type": "markdown",
      "source": [
        "Comprobamos que no tenemos ya nulos y vemos si los datos en la columna tax son iguales que en la de tax(£)"
      ],
      "metadata": {
        "id": "NzXtk2KUb8G9"
      }
    },
    {
      "cell_type": "code",
      "source": [
        "cars[cars['tax'].isnull()]"
      ],
      "metadata": {
        "colab": {
          "base_uri": "https://localhost:8080/",
          "height": 49
        },
        "id": "DWLlryAoW97r",
        "outputId": "1931fa5f-7745-4ad9-98fc-8750b467c554"
      },
      "execution_count": 10,
      "outputs": [
        {
          "output_type": "execute_result",
          "data": {
            "text/plain": [
              "Empty DataFrame\n",
              "Columns: [model, year, price, transmission, mileage, fuelType, tax, mpg, engineSize, tax(£)]\n",
              "Index: []"
            ],
            "text/html": [
              "\n",
              "  <div id=\"df-bdd23aef-2452-43bb-9dde-35c0d9880c0b\">\n",
              "    <div class=\"colab-df-container\">\n",
              "      <div>\n",
              "<style scoped>\n",
              "    .dataframe tbody tr th:only-of-type {\n",
              "        vertical-align: middle;\n",
              "    }\n",
              "\n",
              "    .dataframe tbody tr th {\n",
              "        vertical-align: top;\n",
              "    }\n",
              "\n",
              "    .dataframe thead th {\n",
              "        text-align: right;\n",
              "    }\n",
              "</style>\n",
              "<table border=\"1\" class=\"dataframe\">\n",
              "  <thead>\n",
              "    <tr style=\"text-align: right;\">\n",
              "      <th></th>\n",
              "      <th>model</th>\n",
              "      <th>year</th>\n",
              "      <th>price</th>\n",
              "      <th>transmission</th>\n",
              "      <th>mileage</th>\n",
              "      <th>fuelType</th>\n",
              "      <th>tax</th>\n",
              "      <th>mpg</th>\n",
              "      <th>engineSize</th>\n",
              "      <th>tax(£)</th>\n",
              "    </tr>\n",
              "  </thead>\n",
              "  <tbody>\n",
              "  </tbody>\n",
              "</table>\n",
              "</div>\n",
              "      <button class=\"colab-df-convert\" onclick=\"convertToInteractive('df-bdd23aef-2452-43bb-9dde-35c0d9880c0b')\"\n",
              "              title=\"Convert this dataframe to an interactive table.\"\n",
              "              style=\"display:none;\">\n",
              "        \n",
              "  <svg xmlns=\"http://www.w3.org/2000/svg\" height=\"24px\"viewBox=\"0 0 24 24\"\n",
              "       width=\"24px\">\n",
              "    <path d=\"M0 0h24v24H0V0z\" fill=\"none\"/>\n",
              "    <path d=\"M18.56 5.44l.94 2.06.94-2.06 2.06-.94-2.06-.94-.94-2.06-.94 2.06-2.06.94zm-11 1L8.5 8.5l.94-2.06 2.06-.94-2.06-.94L8.5 2.5l-.94 2.06-2.06.94zm10 10l.94 2.06.94-2.06 2.06-.94-2.06-.94-.94-2.06-.94 2.06-2.06.94z\"/><path d=\"M17.41 7.96l-1.37-1.37c-.4-.4-.92-.59-1.43-.59-.52 0-1.04.2-1.43.59L10.3 9.45l-7.72 7.72c-.78.78-.78 2.05 0 2.83L4 21.41c.39.39.9.59 1.41.59.51 0 1.02-.2 1.41-.59l7.78-7.78 2.81-2.81c.8-.78.8-2.07 0-2.86zM5.41 20L4 18.59l7.72-7.72 1.47 1.35L5.41 20z\"/>\n",
              "  </svg>\n",
              "      </button>\n",
              "      \n",
              "  <style>\n",
              "    .colab-df-container {\n",
              "      display:flex;\n",
              "      flex-wrap:wrap;\n",
              "      gap: 12px;\n",
              "    }\n",
              "\n",
              "    .colab-df-convert {\n",
              "      background-color: #E8F0FE;\n",
              "      border: none;\n",
              "      border-radius: 50%;\n",
              "      cursor: pointer;\n",
              "      display: none;\n",
              "      fill: #1967D2;\n",
              "      height: 32px;\n",
              "      padding: 0 0 0 0;\n",
              "      width: 32px;\n",
              "    }\n",
              "\n",
              "    .colab-df-convert:hover {\n",
              "      background-color: #E2EBFA;\n",
              "      box-shadow: 0px 1px 2px rgba(60, 64, 67, 0.3), 0px 1px 3px 1px rgba(60, 64, 67, 0.15);\n",
              "      fill: #174EA6;\n",
              "    }\n",
              "\n",
              "    [theme=dark] .colab-df-convert {\n",
              "      background-color: #3B4455;\n",
              "      fill: #D2E3FC;\n",
              "    }\n",
              "\n",
              "    [theme=dark] .colab-df-convert:hover {\n",
              "      background-color: #434B5C;\n",
              "      box-shadow: 0px 1px 3px 1px rgba(0, 0, 0, 0.15);\n",
              "      filter: drop-shadow(0px 1px 2px rgba(0, 0, 0, 0.3));\n",
              "      fill: #FFFFFF;\n",
              "    }\n",
              "  </style>\n",
              "\n",
              "      <script>\n",
              "        const buttonEl =\n",
              "          document.querySelector('#df-bdd23aef-2452-43bb-9dde-35c0d9880c0b button.colab-df-convert');\n",
              "        buttonEl.style.display =\n",
              "          google.colab.kernel.accessAllowed ? 'block' : 'none';\n",
              "\n",
              "        async function convertToInteractive(key) {\n",
              "          const element = document.querySelector('#df-bdd23aef-2452-43bb-9dde-35c0d9880c0b');\n",
              "          const dataTable =\n",
              "            await google.colab.kernel.invokeFunction('convertToInteractive',\n",
              "                                                     [key], {});\n",
              "          if (!dataTable) return;\n",
              "\n",
              "          const docLinkHtml = 'Like what you see? Visit the ' +\n",
              "            '<a target=\"_blank\" href=https://colab.research.google.com/notebooks/data_table.ipynb>data table notebook</a>'\n",
              "            + ' to learn more about interactive tables.';\n",
              "          element.innerHTML = '';\n",
              "          dataTable['output_type'] = 'display_data';\n",
              "          await google.colab.output.renderOutput(dataTable, element);\n",
              "          const docLink = document.createElement('div');\n",
              "          docLink.innerHTML = docLinkHtml;\n",
              "          element.appendChild(docLink);\n",
              "        }\n",
              "      </script>\n",
              "    </div>\n",
              "  </div>\n",
              "  "
            ]
          },
          "metadata": {},
          "execution_count": 10
        }
      ]
    },
    {
      "cell_type": "code",
      "source": [
        "cars[cars['tax(£)'].notnull()]"
      ],
      "metadata": {
        "colab": {
          "base_uri": "https://localhost:8080/",
          "height": 423
        },
        "id": "5iS353lFckkh",
        "outputId": "d6dda484-3f98-4725-ede8-5ad3b739ad70"
      },
      "execution_count": 11,
      "outputs": [
        {
          "output_type": "execute_result",
          "data": {
            "text/plain": [
              "        model  year  price transmission  mileage fuelType    tax   mpg  \\\n",
              "0         I20  2017   7999       Manual    17307   Petrol  145.0  58.9   \n",
              "1      Tucson  2016  14499    Automatic    25233   Diesel  235.0  43.5   \n",
              "2      Tucson  2016  11399       Manual    37877   Diesel   30.0  61.7   \n",
              "3         I10  2016   6499       Manual    23789   Petrol   20.0  60.1   \n",
              "4        IX35  2015  10199       Manual    33177   Diesel  160.0  51.4   \n",
              "...       ...   ...    ...          ...      ...      ...    ...   ...   \n",
              "4855      I30  2016   8680       Manual    25906   Diesel    0.0  78.4   \n",
              "4856      I40  2015   7830       Manual    59508   Diesel   30.0  65.7   \n",
              "4857      I10  2017   6830       Manual    13810   Petrol   20.0  60.1   \n",
              "4858   Tucson  2018  13994       Manual    23313   Petrol  145.0  44.8   \n",
              "4859   Tucson  2016  15999    Automatic    11472   Diesel  125.0  57.6   \n",
              "\n",
              "      engineSize  tax(£)  \n",
              "0            1.2   145.0  \n",
              "1            2.0   235.0  \n",
              "2            1.7    30.0  \n",
              "3            1.0    20.0  \n",
              "4            2.0   160.0  \n",
              "...          ...     ...  \n",
              "4855         1.6     0.0  \n",
              "4856         1.7    30.0  \n",
              "4857         1.0    20.0  \n",
              "4858         1.6   145.0  \n",
              "4859         1.7   125.0  \n",
              "\n",
              "[4860 rows x 10 columns]"
            ],
            "text/html": [
              "\n",
              "  <div id=\"df-01d6fee7-8773-4839-be3d-27f9053a3981\">\n",
              "    <div class=\"colab-df-container\">\n",
              "      <div>\n",
              "<style scoped>\n",
              "    .dataframe tbody tr th:only-of-type {\n",
              "        vertical-align: middle;\n",
              "    }\n",
              "\n",
              "    .dataframe tbody tr th {\n",
              "        vertical-align: top;\n",
              "    }\n",
              "\n",
              "    .dataframe thead th {\n",
              "        text-align: right;\n",
              "    }\n",
              "</style>\n",
              "<table border=\"1\" class=\"dataframe\">\n",
              "  <thead>\n",
              "    <tr style=\"text-align: right;\">\n",
              "      <th></th>\n",
              "      <th>model</th>\n",
              "      <th>year</th>\n",
              "      <th>price</th>\n",
              "      <th>transmission</th>\n",
              "      <th>mileage</th>\n",
              "      <th>fuelType</th>\n",
              "      <th>tax</th>\n",
              "      <th>mpg</th>\n",
              "      <th>engineSize</th>\n",
              "      <th>tax(£)</th>\n",
              "    </tr>\n",
              "  </thead>\n",
              "  <tbody>\n",
              "    <tr>\n",
              "      <th>0</th>\n",
              "      <td>I20</td>\n",
              "      <td>2017</td>\n",
              "      <td>7999</td>\n",
              "      <td>Manual</td>\n",
              "      <td>17307</td>\n",
              "      <td>Petrol</td>\n",
              "      <td>145.0</td>\n",
              "      <td>58.9</td>\n",
              "      <td>1.2</td>\n",
              "      <td>145.0</td>\n",
              "    </tr>\n",
              "    <tr>\n",
              "      <th>1</th>\n",
              "      <td>Tucson</td>\n",
              "      <td>2016</td>\n",
              "      <td>14499</td>\n",
              "      <td>Automatic</td>\n",
              "      <td>25233</td>\n",
              "      <td>Diesel</td>\n",
              "      <td>235.0</td>\n",
              "      <td>43.5</td>\n",
              "      <td>2.0</td>\n",
              "      <td>235.0</td>\n",
              "    </tr>\n",
              "    <tr>\n",
              "      <th>2</th>\n",
              "      <td>Tucson</td>\n",
              "      <td>2016</td>\n",
              "      <td>11399</td>\n",
              "      <td>Manual</td>\n",
              "      <td>37877</td>\n",
              "      <td>Diesel</td>\n",
              "      <td>30.0</td>\n",
              "      <td>61.7</td>\n",
              "      <td>1.7</td>\n",
              "      <td>30.0</td>\n",
              "    </tr>\n",
              "    <tr>\n",
              "      <th>3</th>\n",
              "      <td>I10</td>\n",
              "      <td>2016</td>\n",
              "      <td>6499</td>\n",
              "      <td>Manual</td>\n",
              "      <td>23789</td>\n",
              "      <td>Petrol</td>\n",
              "      <td>20.0</td>\n",
              "      <td>60.1</td>\n",
              "      <td>1.0</td>\n",
              "      <td>20.0</td>\n",
              "    </tr>\n",
              "    <tr>\n",
              "      <th>4</th>\n",
              "      <td>IX35</td>\n",
              "      <td>2015</td>\n",
              "      <td>10199</td>\n",
              "      <td>Manual</td>\n",
              "      <td>33177</td>\n",
              "      <td>Diesel</td>\n",
              "      <td>160.0</td>\n",
              "      <td>51.4</td>\n",
              "      <td>2.0</td>\n",
              "      <td>160.0</td>\n",
              "    </tr>\n",
              "    <tr>\n",
              "      <th>...</th>\n",
              "      <td>...</td>\n",
              "      <td>...</td>\n",
              "      <td>...</td>\n",
              "      <td>...</td>\n",
              "      <td>...</td>\n",
              "      <td>...</td>\n",
              "      <td>...</td>\n",
              "      <td>...</td>\n",
              "      <td>...</td>\n",
              "      <td>...</td>\n",
              "    </tr>\n",
              "    <tr>\n",
              "      <th>4855</th>\n",
              "      <td>I30</td>\n",
              "      <td>2016</td>\n",
              "      <td>8680</td>\n",
              "      <td>Manual</td>\n",
              "      <td>25906</td>\n",
              "      <td>Diesel</td>\n",
              "      <td>0.0</td>\n",
              "      <td>78.4</td>\n",
              "      <td>1.6</td>\n",
              "      <td>0.0</td>\n",
              "    </tr>\n",
              "    <tr>\n",
              "      <th>4856</th>\n",
              "      <td>I40</td>\n",
              "      <td>2015</td>\n",
              "      <td>7830</td>\n",
              "      <td>Manual</td>\n",
              "      <td>59508</td>\n",
              "      <td>Diesel</td>\n",
              "      <td>30.0</td>\n",
              "      <td>65.7</td>\n",
              "      <td>1.7</td>\n",
              "      <td>30.0</td>\n",
              "    </tr>\n",
              "    <tr>\n",
              "      <th>4857</th>\n",
              "      <td>I10</td>\n",
              "      <td>2017</td>\n",
              "      <td>6830</td>\n",
              "      <td>Manual</td>\n",
              "      <td>13810</td>\n",
              "      <td>Petrol</td>\n",
              "      <td>20.0</td>\n",
              "      <td>60.1</td>\n",
              "      <td>1.0</td>\n",
              "      <td>20.0</td>\n",
              "    </tr>\n",
              "    <tr>\n",
              "      <th>4858</th>\n",
              "      <td>Tucson</td>\n",
              "      <td>2018</td>\n",
              "      <td>13994</td>\n",
              "      <td>Manual</td>\n",
              "      <td>23313</td>\n",
              "      <td>Petrol</td>\n",
              "      <td>145.0</td>\n",
              "      <td>44.8</td>\n",
              "      <td>1.6</td>\n",
              "      <td>145.0</td>\n",
              "    </tr>\n",
              "    <tr>\n",
              "      <th>4859</th>\n",
              "      <td>Tucson</td>\n",
              "      <td>2016</td>\n",
              "      <td>15999</td>\n",
              "      <td>Automatic</td>\n",
              "      <td>11472</td>\n",
              "      <td>Diesel</td>\n",
              "      <td>125.0</td>\n",
              "      <td>57.6</td>\n",
              "      <td>1.7</td>\n",
              "      <td>125.0</td>\n",
              "    </tr>\n",
              "  </tbody>\n",
              "</table>\n",
              "<p>4860 rows × 10 columns</p>\n",
              "</div>\n",
              "      <button class=\"colab-df-convert\" onclick=\"convertToInteractive('df-01d6fee7-8773-4839-be3d-27f9053a3981')\"\n",
              "              title=\"Convert this dataframe to an interactive table.\"\n",
              "              style=\"display:none;\">\n",
              "        \n",
              "  <svg xmlns=\"http://www.w3.org/2000/svg\" height=\"24px\"viewBox=\"0 0 24 24\"\n",
              "       width=\"24px\">\n",
              "    <path d=\"M0 0h24v24H0V0z\" fill=\"none\"/>\n",
              "    <path d=\"M18.56 5.44l.94 2.06.94-2.06 2.06-.94-2.06-.94-.94-2.06-.94 2.06-2.06.94zm-11 1L8.5 8.5l.94-2.06 2.06-.94-2.06-.94L8.5 2.5l-.94 2.06-2.06.94zm10 10l.94 2.06.94-2.06 2.06-.94-2.06-.94-.94-2.06-.94 2.06-2.06.94z\"/><path d=\"M17.41 7.96l-1.37-1.37c-.4-.4-.92-.59-1.43-.59-.52 0-1.04.2-1.43.59L10.3 9.45l-7.72 7.72c-.78.78-.78 2.05 0 2.83L4 21.41c.39.39.9.59 1.41.59.51 0 1.02-.2 1.41-.59l7.78-7.78 2.81-2.81c.8-.78.8-2.07 0-2.86zM5.41 20L4 18.59l7.72-7.72 1.47 1.35L5.41 20z\"/>\n",
              "  </svg>\n",
              "      </button>\n",
              "      \n",
              "  <style>\n",
              "    .colab-df-container {\n",
              "      display:flex;\n",
              "      flex-wrap:wrap;\n",
              "      gap: 12px;\n",
              "    }\n",
              "\n",
              "    .colab-df-convert {\n",
              "      background-color: #E8F0FE;\n",
              "      border: none;\n",
              "      border-radius: 50%;\n",
              "      cursor: pointer;\n",
              "      display: none;\n",
              "      fill: #1967D2;\n",
              "      height: 32px;\n",
              "      padding: 0 0 0 0;\n",
              "      width: 32px;\n",
              "    }\n",
              "\n",
              "    .colab-df-convert:hover {\n",
              "      background-color: #E2EBFA;\n",
              "      box-shadow: 0px 1px 2px rgba(60, 64, 67, 0.3), 0px 1px 3px 1px rgba(60, 64, 67, 0.15);\n",
              "      fill: #174EA6;\n",
              "    }\n",
              "\n",
              "    [theme=dark] .colab-df-convert {\n",
              "      background-color: #3B4455;\n",
              "      fill: #D2E3FC;\n",
              "    }\n",
              "\n",
              "    [theme=dark] .colab-df-convert:hover {\n",
              "      background-color: #434B5C;\n",
              "      box-shadow: 0px 1px 3px 1px rgba(0, 0, 0, 0.15);\n",
              "      filter: drop-shadow(0px 1px 2px rgba(0, 0, 0, 0.3));\n",
              "      fill: #FFFFFF;\n",
              "    }\n",
              "  </style>\n",
              "\n",
              "      <script>\n",
              "        const buttonEl =\n",
              "          document.querySelector('#df-01d6fee7-8773-4839-be3d-27f9053a3981 button.colab-df-convert');\n",
              "        buttonEl.style.display =\n",
              "          google.colab.kernel.accessAllowed ? 'block' : 'none';\n",
              "\n",
              "        async function convertToInteractive(key) {\n",
              "          const element = document.querySelector('#df-01d6fee7-8773-4839-be3d-27f9053a3981');\n",
              "          const dataTable =\n",
              "            await google.colab.kernel.invokeFunction('convertToInteractive',\n",
              "                                                     [key], {});\n",
              "          if (!dataTable) return;\n",
              "\n",
              "          const docLinkHtml = 'Like what you see? Visit the ' +\n",
              "            '<a target=\"_blank\" href=https://colab.research.google.com/notebooks/data_table.ipynb>data table notebook</a>'\n",
              "            + ' to learn more about interactive tables.';\n",
              "          element.innerHTML = '';\n",
              "          dataTable['output_type'] = 'display_data';\n",
              "          await google.colab.output.renderOutput(dataTable, element);\n",
              "          const docLink = document.createElement('div');\n",
              "          docLink.innerHTML = docLinkHtml;\n",
              "          element.appendChild(docLink);\n",
              "        }\n",
              "      </script>\n",
              "    </div>\n",
              "  </div>\n",
              "  "
            ]
          },
          "metadata": {},
          "execution_count": 11
        }
      ]
    },
    {
      "cell_type": "markdown",
      "source": [
        "Visionamos de nuevo los datos de dataframe donde podemos ver que ya no tenemos nulos en tax"
      ],
      "metadata": {
        "id": "kvrTMuRnb-sl"
      }
    },
    {
      "cell_type": "code",
      "source": [
        "cars.info()"
      ],
      "metadata": {
        "colab": {
          "base_uri": "https://localhost:8080/"
        },
        "id": "Wmvzy0R1S1Bx",
        "outputId": "cf19ea4f-7121-439f-c41c-79a1c9b4309c"
      },
      "execution_count": 12,
      "outputs": [
        {
          "output_type": "stream",
          "name": "stdout",
          "text": [
            "<class 'pandas.core.frame.DataFrame'>\n",
            "Int64Index: 99187 entries, 0 to 15156\n",
            "Data columns (total 10 columns):\n",
            " #   Column        Non-Null Count  Dtype  \n",
            "---  ------        --------------  -----  \n",
            " 0   model         99187 non-null  object \n",
            " 1   year          99187 non-null  int64  \n",
            " 2   price         99187 non-null  int64  \n",
            " 3   transmission  99187 non-null  object \n",
            " 4   mileage       99187 non-null  int64  \n",
            " 5   fuelType      99187 non-null  object \n",
            " 6   tax           99187 non-null  float64\n",
            " 7   mpg           99187 non-null  float64\n",
            " 8   engineSize    99187 non-null  float64\n",
            " 9   tax(£)        4860 non-null   float64\n",
            "dtypes: float64(4), int64(3), object(3)\n",
            "memory usage: 8.3+ MB\n"
          ]
        }
      ]
    },
    {
      "cell_type": "markdown",
      "source": [
        "Ahora quitamos la columna tax(£)"
      ],
      "metadata": {
        "id": "f4Eo6FKERulA"
      }
    },
    {
      "cell_type": "code",
      "source": [
        "cars.drop(['tax(£)'], axis = 1, inplace = True)"
      ],
      "metadata": {
        "id": "QTXWocagEbMB"
      },
      "execution_count": 13,
      "outputs": []
    },
    {
      "cell_type": "markdown",
      "source": [
        "Ahora volvemos a ver la información del dataframe para ver que realmente se ha quitado la columna"
      ],
      "metadata": {
        "id": "gvXjK-2ARbtT"
      }
    },
    {
      "cell_type": "code",
      "source": [
        "cars.info()"
      ],
      "metadata": {
        "colab": {
          "base_uri": "https://localhost:8080/"
        },
        "id": "XbabdDncP74D",
        "outputId": "9c1ae8c8-ec21-4677-8a5a-8ebfb2dac97d"
      },
      "execution_count": 14,
      "outputs": [
        {
          "output_type": "stream",
          "name": "stdout",
          "text": [
            "<class 'pandas.core.frame.DataFrame'>\n",
            "Int64Index: 99187 entries, 0 to 15156\n",
            "Data columns (total 9 columns):\n",
            " #   Column        Non-Null Count  Dtype  \n",
            "---  ------        --------------  -----  \n",
            " 0   model         99187 non-null  object \n",
            " 1   year          99187 non-null  int64  \n",
            " 2   price         99187 non-null  int64  \n",
            " 3   transmission  99187 non-null  object \n",
            " 4   mileage       99187 non-null  int64  \n",
            " 5   fuelType      99187 non-null  object \n",
            " 6   tax           99187 non-null  float64\n",
            " 7   mpg           99187 non-null  float64\n",
            " 8   engineSize    99187 non-null  float64\n",
            "dtypes: float64(3), int64(3), object(3)\n",
            "memory usage: 7.6+ MB\n"
          ]
        }
      ]
    },
    {
      "cell_type": "markdown",
      "source": [
        "#### Ahora listo todos los modelos que tengo en el dataframe"
      ],
      "metadata": {
        "id": "zRGZKLMdCEkg"
      }
    },
    {
      "cell_type": "code",
      "source": [
        "pd.unique(cars['model'])"
      ],
      "metadata": {
        "colab": {
          "base_uri": "https://localhost:8080/"
        },
        "id": "GmNh5GXQAZlu",
        "outputId": "0614fbda-5a65-45bb-db03-faabaee7cdaa"
      },
      "execution_count": 15,
      "outputs": [
        {
          "output_type": "execute_result",
          "data": {
            "text/plain": [
              "array([' A1', ' A6', ' A4', ' A3', ' Q3', ' Q5', ' A5', ' S4', ' Q2',\n",
              "       ' A7', ' TT', ' Q7', ' RS6', ' RS3', ' A8', ' Q8', ' RS4', ' RS5',\n",
              "       ' R8', ' SQ5', ' S8', ' SQ7', ' S3', ' S5', ' A2', ' RS7',\n",
              "       ' 5 Series', ' 6 Series', ' 1 Series', ' 7 Series', ' 2 Series',\n",
              "       ' 4 Series', ' X3', ' 3 Series', ' X5', ' X4', ' i3', ' X1', ' M4',\n",
              "       ' X2', ' X6', ' 8 Series', ' Z4', ' X7', ' M5', ' i8', ' M2',\n",
              "       ' M3', ' M6', ' Z3', ' Fiesta', ' Focus', ' Puma', ' Kuga',\n",
              "       ' EcoSport', ' C-MAX', ' Mondeo', ' Ka+', ' Tourneo Custom',\n",
              "       ' S-MAX', ' B-MAX', ' Edge', ' Tourneo Connect', ' Grand C-MAX',\n",
              "       ' KA', ' Galaxy', ' Mustang', ' Grand Tourneo Connect', ' Fusion',\n",
              "       ' Ranger', ' Streetka', ' Escort', ' Transit Tourneo', ' I20',\n",
              "       ' Tucson', ' I10', ' IX35', ' I30', ' I40', ' Ioniq', ' Kona',\n",
              "       ' Veloster', ' I800', ' IX20', ' Santa Fe', ' Accent', ' Terracan',\n",
              "       ' Getz', ' Amica', ' SLK', ' S Class', ' SL CLASS', ' G Class',\n",
              "       ' GLE Class', ' GLA Class', ' A Class', ' B Class', ' GLC Class',\n",
              "       ' C Class', ' E Class', ' GL Class', ' CLS Class', ' CLC Class',\n",
              "       ' CLA Class', ' V Class', ' M Class', ' CL Class', ' GLS Class',\n",
              "       ' GLB Class', ' X-CLASS', '180', ' CLK', ' R Class', '230', '220',\n",
              "       '200', ' Octavia', ' Citigo', ' Yeti Outdoor', ' Superb',\n",
              "       ' Kodiaq', ' Rapid', ' Karoq', ' Fabia', ' Yeti', ' Scala',\n",
              "       ' Roomster', ' Kamiq', ' GT86', ' Corolla', ' RAV4', ' Yaris',\n",
              "       ' Auris', ' Aygo', ' C-HR', ' Prius', ' Avensis', ' Verso',\n",
              "       ' Hilux', ' PROACE VERSO', ' Land Cruiser', ' Supra', ' Camry',\n",
              "       ' Verso-S', ' IQ', ' Urban Cruiser', ' Corsa', ' Astra', ' Viva',\n",
              "       ' Mokka', ' Mokka X', ' Crossland X', ' Zafira', ' Meriva',\n",
              "       ' Zafira Tourer', ' Adam', ' Grandland X', ' Antara', ' Insignia',\n",
              "       ' Ampera', ' GTC', ' Combo Life', ' Vivaro', ' Cascada', ' Kadjar',\n",
              "       ' Agila', ' Tigra', ' Vectra', ' T-Roc', ' Golf', ' Passat',\n",
              "       ' T-Cross', ' Polo', ' Tiguan', ' Sharan', ' Up', ' Scirocco',\n",
              "       ' Beetle', ' Caddy Maxi Life', ' Caravelle', ' Touareg', ' Arteon',\n",
              "       ' Touran', ' Golf SV', ' Amarok', ' Tiguan Allspace', ' Shuttle',\n",
              "       ' Jetta', ' CC', ' California', ' Caddy Life', ' Caddy',\n",
              "       ' Caddy Maxi', ' Eos', ' Fox'], dtype=object)"
            ]
          },
          "metadata": {},
          "execution_count": 15
        }
      ]
    },
    {
      "cell_type": "markdown",
      "source": [
        "Ahora voy a eliminar los espacios vacios que tengo delante de cada modelo, este paso puedo saltarmelo, pero decido al final que no, puesto que quiero trabajar con los nombres mas adelante y me es importante quitarle dicho espacio para trabajar mas comodamente"
      ],
      "metadata": {
        "id": "3doNCjaNCNfJ"
      }
    },
    {
      "cell_type": "code",
      "source": [
        "cars['model'] = cars['model'].str.strip()"
      ],
      "metadata": {
        "id": "znKrptPD9T7i"
      },
      "execution_count": 16,
      "outputs": []
    },
    {
      "cell_type": "markdown",
      "source": [
        "#### Procesado para el posterior uso en el despliegue\n"
      ],
      "metadata": {
        "id": "0aK4P6qsg2ZZ"
      }
    },
    {
      "cell_type": "markdown",
      "source": [
        "Audi"
      ],
      "metadata": {
        "id": "iRAb9edUhIMo"
      }
    },
    {
      "cell_type": "code",
      "source": [
        "dfaudi['model'] = dfaudi['model'].str.strip()"
      ],
      "metadata": {
        "id": "WD4UavIGH67O"
      },
      "execution_count": 17,
      "outputs": []
    },
    {
      "cell_type": "code",
      "source": [
        "audi = dfaudi['model'].unique()"
      ],
      "metadata": {
        "id": "qfyhXHKng-9D"
      },
      "execution_count": 18,
      "outputs": []
    },
    {
      "cell_type": "code",
      "source": [
        "audi"
      ],
      "metadata": {
        "colab": {
          "base_uri": "https://localhost:8080/"
        },
        "id": "5JQNpRKcIG-7",
        "outputId": "ff32fb0f-9ea1-4388-8bb0-3e9864a4278a"
      },
      "execution_count": 19,
      "outputs": [
        {
          "output_type": "execute_result",
          "data": {
            "text/plain": [
              "array(['A1', 'A6', 'A4', 'A3', 'Q3', 'Q5', 'A5', 'S4', 'Q2', 'A7', 'TT',\n",
              "       'Q7', 'RS6', 'RS3', 'A8', 'Q8', 'RS4', 'RS5', 'R8', 'SQ5', 'S8',\n",
              "       'SQ7', 'S3', 'S5', 'A2', 'RS7'], dtype=object)"
            ]
          },
          "metadata": {},
          "execution_count": 19
        }
      ]
    },
    {
      "cell_type": "markdown",
      "source": [
        "BMW"
      ],
      "metadata": {
        "id": "RZg4c586hJZ-"
      }
    },
    {
      "cell_type": "code",
      "source": [
        "dfbmw['model'] = dfbmw['model'].str.strip()"
      ],
      "metadata": {
        "id": "Ml8FrCqKIJHh"
      },
      "execution_count": 20,
      "outputs": []
    },
    {
      "cell_type": "code",
      "source": [
        "bmw = dfbmw['model'].unique()"
      ],
      "metadata": {
        "id": "4rQ_b50ohLOO"
      },
      "execution_count": 21,
      "outputs": []
    },
    {
      "cell_type": "markdown",
      "source": [
        "Ford\n"
      ],
      "metadata": {
        "id": "dNgnHrT7hNnM"
      }
    },
    {
      "cell_type": "code",
      "source": [
        "dfford['model'] = dfford['model'].str.strip()"
      ],
      "metadata": {
        "id": "8cSWRxGYIKEy"
      },
      "execution_count": 22,
      "outputs": []
    },
    {
      "cell_type": "code",
      "source": [
        "ford = dfford['model'].unique()"
      ],
      "metadata": {
        "id": "2RH-JOYphPnA"
      },
      "execution_count": 23,
      "outputs": []
    },
    {
      "cell_type": "markdown",
      "source": [
        "Hyundai"
      ],
      "metadata": {
        "id": "nL0ZZDs_hRaA"
      }
    },
    {
      "cell_type": "code",
      "source": [
        "dfhyundai['model'] = dfhyundai['model'].str.strip()"
      ],
      "metadata": {
        "id": "x-T8Kv2YIKp9"
      },
      "execution_count": 24,
      "outputs": []
    },
    {
      "cell_type": "code",
      "source": [
        "hyundai = dfhyundai['model'].unique()"
      ],
      "metadata": {
        "id": "xfDe8dsjhVHq"
      },
      "execution_count": 25,
      "outputs": []
    },
    {
      "cell_type": "markdown",
      "source": [
        "Mercedes"
      ],
      "metadata": {
        "id": "Y4sMW08KhVyK"
      }
    },
    {
      "cell_type": "code",
      "source": [
        "dfmercedes['model'] = dfmercedes['model'].str.strip()"
      ],
      "metadata": {
        "id": "5_nvcdLOILQt"
      },
      "execution_count": 26,
      "outputs": []
    },
    {
      "cell_type": "code",
      "source": [
        "mercedes = dfmercedes['model'].unique()"
      ],
      "metadata": {
        "id": "EeJT-j51hX20"
      },
      "execution_count": 27,
      "outputs": []
    },
    {
      "cell_type": "markdown",
      "source": [
        "Skoda"
      ],
      "metadata": {
        "id": "XIbEZ25zhZ99"
      }
    },
    {
      "cell_type": "code",
      "source": [
        "dfskoda['model'] = dfskoda['model'].str.strip()"
      ],
      "metadata": {
        "id": "PafPWJZpILvg"
      },
      "execution_count": 28,
      "outputs": []
    },
    {
      "cell_type": "code",
      "source": [
        "skoda = dfskoda['model'].unique()"
      ],
      "metadata": {
        "id": "7T4Rf-XQhdKz"
      },
      "execution_count": 29,
      "outputs": []
    },
    {
      "cell_type": "markdown",
      "source": [
        "Toyota"
      ],
      "metadata": {
        "id": "GQhHGVfThfVP"
      }
    },
    {
      "cell_type": "code",
      "source": [
        "dftoyota['model'] = dftoyota['model'].str.strip()"
      ],
      "metadata": {
        "id": "LRhB8dHRIMLo"
      },
      "execution_count": 30,
      "outputs": []
    },
    {
      "cell_type": "code",
      "source": [
        "toyota = dftoyota['model'].unique()"
      ],
      "metadata": {
        "id": "7piSKRrGhg03"
      },
      "execution_count": 31,
      "outputs": []
    },
    {
      "cell_type": "markdown",
      "source": [
        "vauxhall"
      ],
      "metadata": {
        "id": "Chg525TxhioL"
      }
    },
    {
      "cell_type": "code",
      "source": [
        "dfvauxhall['model'] = dfvauxhall['model'].str.strip()"
      ],
      "metadata": {
        "id": "b3i280i6IM1M"
      },
      "execution_count": 32,
      "outputs": []
    },
    {
      "cell_type": "code",
      "source": [
        "vauxhall = dfvauxhall['model'].unique()"
      ],
      "metadata": {
        "id": "iof_d_QVhi-s"
      },
      "execution_count": 33,
      "outputs": []
    },
    {
      "cell_type": "markdown",
      "source": [
        "volkswagen"
      ],
      "metadata": {
        "id": "SX65Rhu3h2Jl"
      }
    },
    {
      "cell_type": "code",
      "source": [
        "dfvw['model'] = dfvw['model'].str.strip()"
      ],
      "metadata": {
        "id": "POdoqtYZINjm"
      },
      "execution_count": 34,
      "outputs": []
    },
    {
      "cell_type": "code",
      "source": [
        "vw = dfvw['model'].unique()"
      ],
      "metadata": {
        "id": "BJuJkmHBh53i"
      },
      "execution_count": 35,
      "outputs": []
    },
    {
      "cell_type": "code",
      "source": [
        "joblib.dump([audi, bmw, ford, hyundai, mercedes, skoda, toyota, vauxhall, vw], 'models.pkl')"
      ],
      "metadata": {
        "colab": {
          "base_uri": "https://localhost:8080/"
        },
        "id": "ch5xYXB4KnIJ",
        "outputId": "8992ef15-ea14-4d52-c1d5-1dc743d98477"
      },
      "execution_count": 36,
      "outputs": [
        {
          "output_type": "execute_result",
          "data": {
            "text/plain": [
              "['models.pkl']"
            ]
          },
          "metadata": {},
          "execution_count": 36
        }
      ]
    },
    {
      "cell_type": "markdown",
      "source": [
        "#### Vuelvo a listar los modelos, pero esta vez guardandolos en una variable, ya que en el siguiente punto lo que voy a realizar es la transformación de nombres a numeros en la columna model."
      ],
      "metadata": {
        "id": "jp0LmRIeCitS"
      }
    },
    {
      "cell_type": "code",
      "source": [
        "modelos_unicos = pd.unique(cars['model'])\n",
        "modelos_unicos"
      ],
      "metadata": {
        "colab": {
          "base_uri": "https://localhost:8080/"
        },
        "id": "8f8fAvGZQnL7",
        "outputId": "043a6b35-fcff-48ee-c40b-5e1cef3ef44f"
      },
      "execution_count": 37,
      "outputs": [
        {
          "output_type": "execute_result",
          "data": {
            "text/plain": [
              "array(['A1', 'A6', 'A4', 'A3', 'Q3', 'Q5', 'A5', 'S4', 'Q2', 'A7', 'TT',\n",
              "       'Q7', 'RS6', 'RS3', 'A8', 'Q8', 'RS4', 'RS5', 'R8', 'SQ5', 'S8',\n",
              "       'SQ7', 'S3', 'S5', 'A2', 'RS7', '5 Series', '6 Series', '1 Series',\n",
              "       '7 Series', '2 Series', '4 Series', 'X3', '3 Series', 'X5', 'X4',\n",
              "       'i3', 'X1', 'M4', 'X2', 'X6', '8 Series', 'Z4', 'X7', 'M5', 'i8',\n",
              "       'M2', 'M3', 'M6', 'Z3', 'Fiesta', 'Focus', 'Puma', 'Kuga',\n",
              "       'EcoSport', 'C-MAX', 'Mondeo', 'Ka+', 'Tourneo Custom', 'S-MAX',\n",
              "       'B-MAX', 'Edge', 'Tourneo Connect', 'Grand C-MAX', 'KA', 'Galaxy',\n",
              "       'Mustang', 'Grand Tourneo Connect', 'Fusion', 'Ranger', 'Streetka',\n",
              "       'Escort', 'Transit Tourneo', 'I20', 'Tucson', 'I10', 'IX35', 'I30',\n",
              "       'I40', 'Ioniq', 'Kona', 'Veloster', 'I800', 'IX20', 'Santa Fe',\n",
              "       'Accent', 'Terracan', 'Getz', 'Amica', 'SLK', 'S Class',\n",
              "       'SL CLASS', 'G Class', 'GLE Class', 'GLA Class', 'A Class',\n",
              "       'B Class', 'GLC Class', 'C Class', 'E Class', 'GL Class',\n",
              "       'CLS Class', 'CLC Class', 'CLA Class', 'V Class', 'M Class',\n",
              "       'CL Class', 'GLS Class', 'GLB Class', 'X-CLASS', '180', 'CLK',\n",
              "       'R Class', '230', '220', '200', 'Octavia', 'Citigo',\n",
              "       'Yeti Outdoor', 'Superb', 'Kodiaq', 'Rapid', 'Karoq', 'Fabia',\n",
              "       'Yeti', 'Scala', 'Roomster', 'Kamiq', 'GT86', 'Corolla', 'RAV4',\n",
              "       'Yaris', 'Auris', 'Aygo', 'C-HR', 'Prius', 'Avensis', 'Verso',\n",
              "       'Hilux', 'PROACE VERSO', 'Land Cruiser', 'Supra', 'Camry',\n",
              "       'Verso-S', 'IQ', 'Urban Cruiser', 'Corsa', 'Astra', 'Viva',\n",
              "       'Mokka', 'Mokka X', 'Crossland X', 'Zafira', 'Meriva',\n",
              "       'Zafira Tourer', 'Adam', 'Grandland X', 'Antara', 'Insignia',\n",
              "       'Ampera', 'GTC', 'Combo Life', 'Vivaro', 'Cascada', 'Kadjar',\n",
              "       'Agila', 'Tigra', 'Vectra', 'T-Roc', 'Golf', 'Passat', 'T-Cross',\n",
              "       'Polo', 'Tiguan', 'Sharan', 'Up', 'Scirocco', 'Beetle',\n",
              "       'Caddy Maxi Life', 'Caravelle', 'Touareg', 'Arteon', 'Touran',\n",
              "       'Golf SV', 'Amarok', 'Tiguan Allspace', 'Shuttle', 'Jetta', 'CC',\n",
              "       'California', 'Caddy Life', 'Caddy', 'Caddy Maxi', 'Eos', 'Fox'],\n",
              "      dtype=object)"
            ]
          },
          "metadata": {},
          "execution_count": 37
        }
      ]
    },
    {
      "cell_type": "markdown",
      "source": [
        "En este punto lo que he realizado es un bucle `for` el cual recorre el array creado en el punto anterior y sustituye en el dataframe el modelo por su correspondiente indice del array anterior."
      ],
      "metadata": {
        "id": "t1L6qDFtC6gO"
      }
    },
    {
      "cell_type": "code",
      "source": [
        "\"\"\" \n",
        "  Sustituimos el nombre de modelo por el indice del array que se le asigna en\n",
        "  el filtro que hemos realizado con el metodo .unique.\n",
        "\n",
        "  También vamos a pasar los los indices y valores a una lista, para despues\n",
        "  convertirla en diccionario y poder usarla en el selector de coches durante\n",
        "  el despliegue\n",
        "\n",
        "\"\"\"\n",
        "car_list = []\n",
        "\n",
        "for index, model in enumerate(modelos_unicos):\n",
        "    cars.loc[cars['model'] == model, 'model'] = index\n",
        "    car_list.append((index, model))\n"
      ],
      "metadata": {
        "id": "TnQXOCSOEzQP"
      },
      "execution_count": 38,
      "outputs": []
    },
    {
      "cell_type": "code",
      "source": [
        "dic_cars = dict(car_list)\n",
        "dic_cars"
      ],
      "metadata": {
        "colab": {
          "base_uri": "https://localhost:8080/"
        },
        "id": "u4tmrmP4l5c_",
        "outputId": "f2ae7315-1ef3-4204-ce62-5acc6a4ec149"
      },
      "execution_count": 39,
      "outputs": [
        {
          "output_type": "execute_result",
          "data": {
            "text/plain": [
              "{0: 'A1',\n",
              " 1: 'A6',\n",
              " 2: 'A4',\n",
              " 3: 'A3',\n",
              " 4: 'Q3',\n",
              " 5: 'Q5',\n",
              " 6: 'A5',\n",
              " 7: 'S4',\n",
              " 8: 'Q2',\n",
              " 9: 'A7',\n",
              " 10: 'TT',\n",
              " 11: 'Q7',\n",
              " 12: 'RS6',\n",
              " 13: 'RS3',\n",
              " 14: 'A8',\n",
              " 15: 'Q8',\n",
              " 16: 'RS4',\n",
              " 17: 'RS5',\n",
              " 18: 'R8',\n",
              " 19: 'SQ5',\n",
              " 20: 'S8',\n",
              " 21: 'SQ7',\n",
              " 22: 'S3',\n",
              " 23: 'S5',\n",
              " 24: 'A2',\n",
              " 25: 'RS7',\n",
              " 26: '5 Series',\n",
              " 27: '6 Series',\n",
              " 28: '1 Series',\n",
              " 29: '7 Series',\n",
              " 30: '2 Series',\n",
              " 31: '4 Series',\n",
              " 32: 'X3',\n",
              " 33: '3 Series',\n",
              " 34: 'X5',\n",
              " 35: 'X4',\n",
              " 36: 'i3',\n",
              " 37: 'X1',\n",
              " 38: 'M4',\n",
              " 39: 'X2',\n",
              " 40: 'X6',\n",
              " 41: '8 Series',\n",
              " 42: 'Z4',\n",
              " 43: 'X7',\n",
              " 44: 'M5',\n",
              " 45: 'i8',\n",
              " 46: 'M2',\n",
              " 47: 'M3',\n",
              " 48: 'M6',\n",
              " 49: 'Z3',\n",
              " 50: 'Fiesta',\n",
              " 51: 'Focus',\n",
              " 52: 'Puma',\n",
              " 53: 'Kuga',\n",
              " 54: 'EcoSport',\n",
              " 55: 'C-MAX',\n",
              " 56: 'Mondeo',\n",
              " 57: 'Ka+',\n",
              " 58: 'Tourneo Custom',\n",
              " 59: 'S-MAX',\n",
              " 60: 'B-MAX',\n",
              " 61: 'Edge',\n",
              " 62: 'Tourneo Connect',\n",
              " 63: 'Grand C-MAX',\n",
              " 64: 'KA',\n",
              " 65: 'Galaxy',\n",
              " 66: 'Mustang',\n",
              " 67: 'Grand Tourneo Connect',\n",
              " 68: 'Fusion',\n",
              " 69: 'Ranger',\n",
              " 70: 'Streetka',\n",
              " 71: 'Escort',\n",
              " 72: 'Transit Tourneo',\n",
              " 73: 'I20',\n",
              " 74: 'Tucson',\n",
              " 75: 'I10',\n",
              " 76: 'IX35',\n",
              " 77: 'I30',\n",
              " 78: 'I40',\n",
              " 79: 'Ioniq',\n",
              " 80: 'Kona',\n",
              " 81: 'Veloster',\n",
              " 82: 'I800',\n",
              " 83: 'IX20',\n",
              " 84: 'Santa Fe',\n",
              " 85: 'Accent',\n",
              " 86: 'Terracan',\n",
              " 87: 'Getz',\n",
              " 88: 'Amica',\n",
              " 89: 'SLK',\n",
              " 90: 'S Class',\n",
              " 91: 'SL CLASS',\n",
              " 92: 'G Class',\n",
              " 93: 'GLE Class',\n",
              " 94: 'GLA Class',\n",
              " 95: 'A Class',\n",
              " 96: 'B Class',\n",
              " 97: 'GLC Class',\n",
              " 98: 'C Class',\n",
              " 99: 'E Class',\n",
              " 100: 'GL Class',\n",
              " 101: 'CLS Class',\n",
              " 102: 'CLC Class',\n",
              " 103: 'CLA Class',\n",
              " 104: 'V Class',\n",
              " 105: 'M Class',\n",
              " 106: 'CL Class',\n",
              " 107: 'GLS Class',\n",
              " 108: 'GLB Class',\n",
              " 109: 'X-CLASS',\n",
              " 110: '180',\n",
              " 111: 'CLK',\n",
              " 112: 'R Class',\n",
              " 113: '230',\n",
              " 114: '220',\n",
              " 115: '200',\n",
              " 116: 'Octavia',\n",
              " 117: 'Citigo',\n",
              " 118: 'Yeti Outdoor',\n",
              " 119: 'Superb',\n",
              " 120: 'Kodiaq',\n",
              " 121: 'Rapid',\n",
              " 122: 'Karoq',\n",
              " 123: 'Fabia',\n",
              " 124: 'Yeti',\n",
              " 125: 'Scala',\n",
              " 126: 'Roomster',\n",
              " 127: 'Kamiq',\n",
              " 128: 'GT86',\n",
              " 129: 'Corolla',\n",
              " 130: 'RAV4',\n",
              " 131: 'Yaris',\n",
              " 132: 'Auris',\n",
              " 133: 'Aygo',\n",
              " 134: 'C-HR',\n",
              " 135: 'Prius',\n",
              " 136: 'Avensis',\n",
              " 137: 'Verso',\n",
              " 138: 'Hilux',\n",
              " 139: 'PROACE VERSO',\n",
              " 140: 'Land Cruiser',\n",
              " 141: 'Supra',\n",
              " 142: 'Camry',\n",
              " 143: 'Verso-S',\n",
              " 144: 'IQ',\n",
              " 145: 'Urban Cruiser',\n",
              " 146: 'Corsa',\n",
              " 147: 'Astra',\n",
              " 148: 'Viva',\n",
              " 149: 'Mokka',\n",
              " 150: 'Mokka X',\n",
              " 151: 'Crossland X',\n",
              " 152: 'Zafira',\n",
              " 153: 'Meriva',\n",
              " 154: 'Zafira Tourer',\n",
              " 155: 'Adam',\n",
              " 156: 'Grandland X',\n",
              " 157: 'Antara',\n",
              " 158: 'Insignia',\n",
              " 159: 'Ampera',\n",
              " 160: 'GTC',\n",
              " 161: 'Combo Life',\n",
              " 162: 'Vivaro',\n",
              " 163: 'Cascada',\n",
              " 164: 'Kadjar',\n",
              " 165: 'Agila',\n",
              " 166: 'Tigra',\n",
              " 167: 'Vectra',\n",
              " 168: 'T-Roc',\n",
              " 169: 'Golf',\n",
              " 170: 'Passat',\n",
              " 171: 'T-Cross',\n",
              " 172: 'Polo',\n",
              " 173: 'Tiguan',\n",
              " 174: 'Sharan',\n",
              " 175: 'Up',\n",
              " 176: 'Scirocco',\n",
              " 177: 'Beetle',\n",
              " 178: 'Caddy Maxi Life',\n",
              " 179: 'Caravelle',\n",
              " 180: 'Touareg',\n",
              " 181: 'Arteon',\n",
              " 182: 'Touran',\n",
              " 183: 'Golf SV',\n",
              " 184: 'Amarok',\n",
              " 185: 'Tiguan Allspace',\n",
              " 186: 'Shuttle',\n",
              " 187: 'Jetta',\n",
              " 188: 'CC',\n",
              " 189: 'California',\n",
              " 190: 'Caddy Life',\n",
              " 191: 'Caddy',\n",
              " 192: 'Caddy Maxi',\n",
              " 193: 'Eos',\n",
              " 194: 'Fox'}"
            ]
          },
          "metadata": {},
          "execution_count": 39
        }
      ]
    },
    {
      "cell_type": "code",
      "source": [
        "# exportamos el diccionario\n",
        "joblib.dump(dic_cars, 'diccionario_coches.pkl')"
      ],
      "metadata": {
        "colab": {
          "base_uri": "https://localhost:8080/"
        },
        "id": "s46DzpCMB0xh",
        "outputId": "1b5a212d-7f8b-42ac-d7b8-8307b16c0e38"
      },
      "execution_count": 40,
      "outputs": [
        {
          "output_type": "execute_result",
          "data": {
            "text/plain": [
              "['diccionario_coches.pkl']"
            ]
          },
          "metadata": {},
          "execution_count": 40
        }
      ]
    },
    {
      "cell_type": "markdown",
      "source": [
        "Selector de indice para el cambio de variable de nombre a indice en el formulario de seleccion de vehiculo"
      ],
      "metadata": {
        "id": "aVx2coS-pTSg"
      }
    },
    {
      "cell_type": "code",
      "source": [
        "coche_prueba = 'A1'\n",
        "\n",
        "for index, coche in dic_cars.items():\n",
        "  if coche == coche_prueba:\n",
        "    print(index)"
      ],
      "metadata": {
        "colab": {
          "base_uri": "https://localhost:8080/"
        },
        "id": "hC0O2hvEoJQ4",
        "outputId": "6f4093c2-350b-49df-85b2-7cbf481129b8"
      },
      "execution_count": 41,
      "outputs": [
        {
          "output_type": "stream",
          "name": "stdout",
          "text": [
            "0\n"
          ]
        }
      ]
    },
    {
      "cell_type": "markdown",
      "source": [
        "Ahora vamos a realizar las mismas operaciones pero sobre las columnas `transmission` y `fueltType`"
      ],
      "metadata": {
        "id": "GXJFG5VlDqZz"
      }
    },
    {
      "cell_type": "code",
      "source": [
        "cars['transmission'].unique()"
      ],
      "metadata": {
        "colab": {
          "base_uri": "https://localhost:8080/"
        },
        "id": "xGTI5RgdDp8k",
        "outputId": "8cde84e9-8240-45f1-edd6-c98591e2877c"
      },
      "execution_count": 42,
      "outputs": [
        {
          "output_type": "execute_result",
          "data": {
            "text/plain": [
              "array(['Manual', 'Automatic', 'Semi-Auto', 'Other'], dtype=object)"
            ]
          },
          "metadata": {},
          "execution_count": 42
        }
      ]
    },
    {
      "cell_type": "code",
      "source": [
        "cars['fuelType'].unique()"
      ],
      "metadata": {
        "colab": {
          "base_uri": "https://localhost:8080/"
        },
        "id": "N56xuDLUD_zf",
        "outputId": "d513f0be-bdb4-4429-fc73-62ea94257225"
      },
      "execution_count": 43,
      "outputs": [
        {
          "output_type": "execute_result",
          "data": {
            "text/plain": [
              "array(['Petrol', 'Diesel', 'Hybrid', 'Other', 'Electric'], dtype=object)"
            ]
          },
          "metadata": {},
          "execution_count": 43
        }
      ]
    },
    {
      "cell_type": "code",
      "source": [
        "cars.replace({'Electric': 0,\n",
        "              'Diesel': 1,\n",
        "              'Hybrid': 2,\n",
        "              'Petrol': 3,\n",
        "              'Other': 4,\n",
        "              'Manual': 0, \n",
        "              'Automatic': 1,\n",
        "              'Semi-Auto': 2,\n",
        "              'Other': 3}, inplace = True)"
      ],
      "metadata": {
        "id": "fdxuOj9ndjsa"
      },
      "execution_count": 44,
      "outputs": []
    },
    {
      "cell_type": "markdown",
      "source": [
        "#### Dataframe procesado"
      ],
      "metadata": {
        "id": "LLfZ8j-urEJO"
      }
    },
    {
      "cell_type": "code",
      "source": [
        "cars"
      ],
      "metadata": {
        "id": "hbI2Y96ndnuY",
        "colab": {
          "base_uri": "https://localhost:8080/",
          "height": 423
        },
        "outputId": "1f730a69-8c81-409c-c8e5-39966480a168"
      },
      "execution_count": 45,
      "outputs": [
        {
          "output_type": "execute_result",
          "data": {
            "text/plain": [
              "       model  year  price  transmission  mileage  fuelType    tax   mpg  \\\n",
              "0          0  2017  12500             0    15735         3  150.0  55.4   \n",
              "1          1  2016  16500             1    36203         1   20.0  64.2   \n",
              "2          0  2016  11000             0    29946         3   30.0  55.4   \n",
              "3          2  2017  16800             1    25952         1  145.0  67.3   \n",
              "4          3  2019  17300             0     1998         3  145.0  49.6   \n",
              "...      ...   ...    ...           ...      ...       ...    ...   ...   \n",
              "15152    193  2012   5990             0    74000         1  125.0  58.9   \n",
              "15153    194  2008   1799             0    88102         3  145.0  46.3   \n",
              "15154    194  2009   1590             0    70000         3  200.0  42.0   \n",
              "15155    194  2006   1250             0    82704         3  150.0  46.3   \n",
              "15156    194  2007   2295             0    74000         3  145.0  46.3   \n",
              "\n",
              "       engineSize  \n",
              "0             1.4  \n",
              "1             2.0  \n",
              "2             1.4  \n",
              "3             2.0  \n",
              "4             1.0  \n",
              "...           ...  \n",
              "15152         2.0  \n",
              "15153         1.2  \n",
              "15154         1.4  \n",
              "15155         1.2  \n",
              "15156         1.2  \n",
              "\n",
              "[99187 rows x 9 columns]"
            ],
            "text/html": [
              "\n",
              "  <div id=\"df-7f93bcd2-fcd7-405d-8984-622243d64e53\">\n",
              "    <div class=\"colab-df-container\">\n",
              "      <div>\n",
              "<style scoped>\n",
              "    .dataframe tbody tr th:only-of-type {\n",
              "        vertical-align: middle;\n",
              "    }\n",
              "\n",
              "    .dataframe tbody tr th {\n",
              "        vertical-align: top;\n",
              "    }\n",
              "\n",
              "    .dataframe thead th {\n",
              "        text-align: right;\n",
              "    }\n",
              "</style>\n",
              "<table border=\"1\" class=\"dataframe\">\n",
              "  <thead>\n",
              "    <tr style=\"text-align: right;\">\n",
              "      <th></th>\n",
              "      <th>model</th>\n",
              "      <th>year</th>\n",
              "      <th>price</th>\n",
              "      <th>transmission</th>\n",
              "      <th>mileage</th>\n",
              "      <th>fuelType</th>\n",
              "      <th>tax</th>\n",
              "      <th>mpg</th>\n",
              "      <th>engineSize</th>\n",
              "    </tr>\n",
              "  </thead>\n",
              "  <tbody>\n",
              "    <tr>\n",
              "      <th>0</th>\n",
              "      <td>0</td>\n",
              "      <td>2017</td>\n",
              "      <td>12500</td>\n",
              "      <td>0</td>\n",
              "      <td>15735</td>\n",
              "      <td>3</td>\n",
              "      <td>150.0</td>\n",
              "      <td>55.4</td>\n",
              "      <td>1.4</td>\n",
              "    </tr>\n",
              "    <tr>\n",
              "      <th>1</th>\n",
              "      <td>1</td>\n",
              "      <td>2016</td>\n",
              "      <td>16500</td>\n",
              "      <td>1</td>\n",
              "      <td>36203</td>\n",
              "      <td>1</td>\n",
              "      <td>20.0</td>\n",
              "      <td>64.2</td>\n",
              "      <td>2.0</td>\n",
              "    </tr>\n",
              "    <tr>\n",
              "      <th>2</th>\n",
              "      <td>0</td>\n",
              "      <td>2016</td>\n",
              "      <td>11000</td>\n",
              "      <td>0</td>\n",
              "      <td>29946</td>\n",
              "      <td>3</td>\n",
              "      <td>30.0</td>\n",
              "      <td>55.4</td>\n",
              "      <td>1.4</td>\n",
              "    </tr>\n",
              "    <tr>\n",
              "      <th>3</th>\n",
              "      <td>2</td>\n",
              "      <td>2017</td>\n",
              "      <td>16800</td>\n",
              "      <td>1</td>\n",
              "      <td>25952</td>\n",
              "      <td>1</td>\n",
              "      <td>145.0</td>\n",
              "      <td>67.3</td>\n",
              "      <td>2.0</td>\n",
              "    </tr>\n",
              "    <tr>\n",
              "      <th>4</th>\n",
              "      <td>3</td>\n",
              "      <td>2019</td>\n",
              "      <td>17300</td>\n",
              "      <td>0</td>\n",
              "      <td>1998</td>\n",
              "      <td>3</td>\n",
              "      <td>145.0</td>\n",
              "      <td>49.6</td>\n",
              "      <td>1.0</td>\n",
              "    </tr>\n",
              "    <tr>\n",
              "      <th>...</th>\n",
              "      <td>...</td>\n",
              "      <td>...</td>\n",
              "      <td>...</td>\n",
              "      <td>...</td>\n",
              "      <td>...</td>\n",
              "      <td>...</td>\n",
              "      <td>...</td>\n",
              "      <td>...</td>\n",
              "      <td>...</td>\n",
              "    </tr>\n",
              "    <tr>\n",
              "      <th>15152</th>\n",
              "      <td>193</td>\n",
              "      <td>2012</td>\n",
              "      <td>5990</td>\n",
              "      <td>0</td>\n",
              "      <td>74000</td>\n",
              "      <td>1</td>\n",
              "      <td>125.0</td>\n",
              "      <td>58.9</td>\n",
              "      <td>2.0</td>\n",
              "    </tr>\n",
              "    <tr>\n",
              "      <th>15153</th>\n",
              "      <td>194</td>\n",
              "      <td>2008</td>\n",
              "      <td>1799</td>\n",
              "      <td>0</td>\n",
              "      <td>88102</td>\n",
              "      <td>3</td>\n",
              "      <td>145.0</td>\n",
              "      <td>46.3</td>\n",
              "      <td>1.2</td>\n",
              "    </tr>\n",
              "    <tr>\n",
              "      <th>15154</th>\n",
              "      <td>194</td>\n",
              "      <td>2009</td>\n",
              "      <td>1590</td>\n",
              "      <td>0</td>\n",
              "      <td>70000</td>\n",
              "      <td>3</td>\n",
              "      <td>200.0</td>\n",
              "      <td>42.0</td>\n",
              "      <td>1.4</td>\n",
              "    </tr>\n",
              "    <tr>\n",
              "      <th>15155</th>\n",
              "      <td>194</td>\n",
              "      <td>2006</td>\n",
              "      <td>1250</td>\n",
              "      <td>0</td>\n",
              "      <td>82704</td>\n",
              "      <td>3</td>\n",
              "      <td>150.0</td>\n",
              "      <td>46.3</td>\n",
              "      <td>1.2</td>\n",
              "    </tr>\n",
              "    <tr>\n",
              "      <th>15156</th>\n",
              "      <td>194</td>\n",
              "      <td>2007</td>\n",
              "      <td>2295</td>\n",
              "      <td>0</td>\n",
              "      <td>74000</td>\n",
              "      <td>3</td>\n",
              "      <td>145.0</td>\n",
              "      <td>46.3</td>\n",
              "      <td>1.2</td>\n",
              "    </tr>\n",
              "  </tbody>\n",
              "</table>\n",
              "<p>99187 rows × 9 columns</p>\n",
              "</div>\n",
              "      <button class=\"colab-df-convert\" onclick=\"convertToInteractive('df-7f93bcd2-fcd7-405d-8984-622243d64e53')\"\n",
              "              title=\"Convert this dataframe to an interactive table.\"\n",
              "              style=\"display:none;\">\n",
              "        \n",
              "  <svg xmlns=\"http://www.w3.org/2000/svg\" height=\"24px\"viewBox=\"0 0 24 24\"\n",
              "       width=\"24px\">\n",
              "    <path d=\"M0 0h24v24H0V0z\" fill=\"none\"/>\n",
              "    <path d=\"M18.56 5.44l.94 2.06.94-2.06 2.06-.94-2.06-.94-.94-2.06-.94 2.06-2.06.94zm-11 1L8.5 8.5l.94-2.06 2.06-.94-2.06-.94L8.5 2.5l-.94 2.06-2.06.94zm10 10l.94 2.06.94-2.06 2.06-.94-2.06-.94-.94-2.06-.94 2.06-2.06.94z\"/><path d=\"M17.41 7.96l-1.37-1.37c-.4-.4-.92-.59-1.43-.59-.52 0-1.04.2-1.43.59L10.3 9.45l-7.72 7.72c-.78.78-.78 2.05 0 2.83L4 21.41c.39.39.9.59 1.41.59.51 0 1.02-.2 1.41-.59l7.78-7.78 2.81-2.81c.8-.78.8-2.07 0-2.86zM5.41 20L4 18.59l7.72-7.72 1.47 1.35L5.41 20z\"/>\n",
              "  </svg>\n",
              "      </button>\n",
              "      \n",
              "  <style>\n",
              "    .colab-df-container {\n",
              "      display:flex;\n",
              "      flex-wrap:wrap;\n",
              "      gap: 12px;\n",
              "    }\n",
              "\n",
              "    .colab-df-convert {\n",
              "      background-color: #E8F0FE;\n",
              "      border: none;\n",
              "      border-radius: 50%;\n",
              "      cursor: pointer;\n",
              "      display: none;\n",
              "      fill: #1967D2;\n",
              "      height: 32px;\n",
              "      padding: 0 0 0 0;\n",
              "      width: 32px;\n",
              "    }\n",
              "\n",
              "    .colab-df-convert:hover {\n",
              "      background-color: #E2EBFA;\n",
              "      box-shadow: 0px 1px 2px rgba(60, 64, 67, 0.3), 0px 1px 3px 1px rgba(60, 64, 67, 0.15);\n",
              "      fill: #174EA6;\n",
              "    }\n",
              "\n",
              "    [theme=dark] .colab-df-convert {\n",
              "      background-color: #3B4455;\n",
              "      fill: #D2E3FC;\n",
              "    }\n",
              "\n",
              "    [theme=dark] .colab-df-convert:hover {\n",
              "      background-color: #434B5C;\n",
              "      box-shadow: 0px 1px 3px 1px rgba(0, 0, 0, 0.15);\n",
              "      filter: drop-shadow(0px 1px 2px rgba(0, 0, 0, 0.3));\n",
              "      fill: #FFFFFF;\n",
              "    }\n",
              "  </style>\n",
              "\n",
              "      <script>\n",
              "        const buttonEl =\n",
              "          document.querySelector('#df-7f93bcd2-fcd7-405d-8984-622243d64e53 button.colab-df-convert');\n",
              "        buttonEl.style.display =\n",
              "          google.colab.kernel.accessAllowed ? 'block' : 'none';\n",
              "\n",
              "        async function convertToInteractive(key) {\n",
              "          const element = document.querySelector('#df-7f93bcd2-fcd7-405d-8984-622243d64e53');\n",
              "          const dataTable =\n",
              "            await google.colab.kernel.invokeFunction('convertToInteractive',\n",
              "                                                     [key], {});\n",
              "          if (!dataTable) return;\n",
              "\n",
              "          const docLinkHtml = 'Like what you see? Visit the ' +\n",
              "            '<a target=\"_blank\" href=https://colab.research.google.com/notebooks/data_table.ipynb>data table notebook</a>'\n",
              "            + ' to learn more about interactive tables.';\n",
              "          element.innerHTML = '';\n",
              "          dataTable['output_type'] = 'display_data';\n",
              "          await google.colab.output.renderOutput(dataTable, element);\n",
              "          const docLink = document.createElement('div');\n",
              "          docLink.innerHTML = docLinkHtml;\n",
              "          element.appendChild(docLink);\n",
              "        }\n",
              "      </script>\n",
              "    </div>\n",
              "  </div>\n",
              "  "
            ]
          },
          "metadata": {},
          "execution_count": 45
        }
      ]
    },
    {
      "cell_type": "markdown",
      "source": [
        "### Entrenamiento del modelo"
      ],
      "metadata": {
        "id": "8lm4zArEDVCG"
      }
    },
    {
      "cell_type": "code",
      "source": [
        "y = cars['price']"
      ],
      "metadata": {
        "id": "WaUk6N2Hz-4o"
      },
      "execution_count": 46,
      "outputs": []
    },
    {
      "cell_type": "code",
      "source": [
        "X = cars.drop(['price'], axis = 1)"
      ],
      "metadata": {
        "id": "352SoZxg0DfL"
      },
      "execution_count": 47,
      "outputs": []
    },
    {
      "cell_type": "markdown",
      "source": [
        "Separamos los valores para test y para entrenamiento\n"
      ],
      "metadata": {
        "id": "B9QfSV8w_r14"
      }
    },
    {
      "cell_type": "code",
      "source": [
        "X_train, X_test, y_train, y_test = tts(X, y, test_size = 0.20)"
      ],
      "metadata": {
        "id": "H71INgP1z5KL"
      },
      "execution_count": 48,
      "outputs": []
    },
    {
      "cell_type": "code",
      "source": [
        "# Entrenamiento del modelo\n",
        "coches_rf = RandomForestRegressor().fit(X_train.values, y_train.values)\n",
        "\n",
        "print('Proceso de entrenamiento completado')"
      ],
      "metadata": {
        "colab": {
          "base_uri": "https://localhost:8080/"
        },
        "id": "Ts-vyTOc0RlX",
        "outputId": "a444244b-01ea-4111-dfcc-1ba93bddd755"
      },
      "execution_count": 49,
      "outputs": [
        {
          "output_type": "stream",
          "name": "stdout",
          "text": [
            "Proceso de entrenamiento completado\n"
          ]
        }
      ]
    },
    {
      "cell_type": "code",
      "source": [
        "# Predicción, ahora le pasamos los datos que tenemos para probar el modelo\n",
        "\n",
        "\"\"\"\n",
        "  Nombramos la nueva variable como y_pred, puesto que lo que obtenemos es un\n",
        "  ouput, el cual hemos denominado como y, y así queda mas claro.\n",
        "\n",
        "\"\"\"\n",
        "y_pred_rf = coches_rf.predict(X_test.values)\n",
        "\n",
        "# Precios obtenidos al comienzo del entrenamiento\n",
        "\n",
        "\"\"\"\n",
        "  Ahora lo que vamos a hacer es pasar el array y_test a una lista,\n",
        "  para despues recorrerla con un for\n",
        "\n",
        "\"\"\"\n",
        "\n",
        "y_test_array_rf = y_test.values\n",
        "\n",
        "print(\"Prec. real  Prec. estimado  Error absoluto\")\n",
        "for price in range(10):\n",
        "  real_price = y_pred_rf[price]\n",
        "  estim_price = y_test_array_rf[price]\n",
        "  error_abs = abs(real_price - estim_price)\n",
        "  print(f\"{real_price:6.2f} {estim_price:12.2f} {error_abs:16.2f}\")"
      ],
      "metadata": {
        "colab": {
          "base_uri": "https://localhost:8080/"
        },
        "id": "brv8Uk4_0vP_",
        "outputId": "c9a570e9-8514-4de9-82b7-5228e6e66c24"
      },
      "execution_count": 50,
      "outputs": [
        {
          "output_type": "stream",
          "name": "stdout",
          "text": [
            "Prec. real  Prec. estimado  Error absoluto\n",
            "21707.58     22399.00           691.42\n",
            "17969.61     15900.00          2069.61\n",
            "15598.28     15700.00           101.72\n",
            "12993.91     11800.00          1193.91\n",
            "9139.46      9250.00           110.54\n",
            "9658.83     10788.00          1129.17\n",
            "19529.98     18999.00           530.98\n",
            "10953.14     11500.00           546.86\n",
            "30645.90     27500.00          3145.90\n",
            "14098.50     14562.00           463.50\n"
          ]
        }
      ]
    },
    {
      "cell_type": "code",
      "source": [
        "# Error\n",
        "print(\"Error cuadrático medio: %.2f\" % mean_squared_error(y_test_array_rf, \n",
        "                                                          y_pred_rf, \n",
        "                                                          squared=False))\n",
        "\n",
        "# Coeficiente de determinación: 1 es una predicción perfecta\n",
        "print(\"Coeficiente de determinación: %.2f\" % r2_score(y_test_array_rf, y_pred_rf))"
      ],
      "metadata": {
        "colab": {
          "base_uri": "https://localhost:8080/"
        },
        "id": "71A6kaSZ0d5-",
        "outputId": "1b0f2a01-7d88-4cb8-a42c-598c7562cc6b"
      },
      "execution_count": 51,
      "outputs": [
        {
          "output_type": "stream",
          "name": "stdout",
          "text": [
            "Error cuadrático medio: 2062.98\n",
            "Coeficiente de determinación: 0.96\n"
          ]
        }
      ]
    },
    {
      "cell_type": "code",
      "source": [
        "car = coches_rf.predict([[99, 2015, 0, 74000, 3, 160, 10, 4]])\n",
        "car"
      ],
      "metadata": {
        "colab": {
          "base_uri": "https://localhost:8080/"
        },
        "id": "DUWDEaUCs0IZ",
        "outputId": "37d3d8c3-c315-44ab-e794-9d4991bf18d3"
      },
      "execution_count": 52,
      "outputs": [
        {
          "output_type": "execute_result",
          "data": {
            "text/plain": [
              "array([13095.47])"
            ]
          },
          "metadata": {},
          "execution_count": 52
        }
      ]
    },
    {
      "cell_type": "code",
      "source": [
        "plt.style.use('dark_background')\n",
        "fig, ax = plt.subplots(figsize = (15, 7))\n",
        "\n",
        "ax.set_xlabel(\"Predicted price\")\n",
        "ax.set_ylabel(\"Actual price\")\n",
        "ax.set_title(\"Representaciópn grafica del modelo\")\n",
        "\n",
        "sns.regplot(x = y_test_array_rf,\n",
        "            y = y_pred_rf,\n",
        "            color = '#34495E', \n",
        "            scatter_kws={'alpha': 1, 'edgecolor': '#196F3D'}, \n",
        "            line_kws={\"color\": \"orange\"})\n",
        "\n",
        "ax.legend(['Regresion', 'Price']);"
      ],
      "metadata": {
        "colab": {
          "base_uri": "https://localhost:8080/",
          "height": 458
        },
        "id": "qs2yxxOL02al",
        "outputId": "6a16f12c-0c6b-410f-b3f4-5cdbe2fc3693"
      },
      "execution_count": 53,
      "outputs": [
        {
          "output_type": "display_data",
          "data": {
            "text/plain": [
              "<Figure size 1080x504 with 1 Axes>"
            ],
            "image/png": "[encoded data removed]"
          },
          "metadata": {}
        }
      ]
    },
    {
      "cell_type": "markdown",
      "source": [
        "## Exportación del modelo"
      ],
      "metadata": {
        "id": "pZr5r4doBHaO"
      }
    },
    {
      "cell_type": "code",
      "source": [
        "joblib.dump(coches_rf, 'cars_fit_model.pkl', compress=9)"
      ],
      "metadata": {
        "colab": {
          "base_uri": "https://localhost:8080/"
        },
        "id": "5YH_zvJdBGbF",
        "outputId": "d5678759-4e0f-49a0-8fd8-aec3cfeb34f6"
      },
      "execution_count": 54,
      "outputs": [
        {
          "output_type": "execute_result",
          "data": {
            "text/plain": [
              "['cars_fit_model.pkl']"
            ]
          },
          "metadata": {},
          "execution_count": 54
        }
      ]
    }
  ]
}